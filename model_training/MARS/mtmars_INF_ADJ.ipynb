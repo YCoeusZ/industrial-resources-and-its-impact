{
 "cells": [
  {
   "cell_type": "code",
   "execution_count": 1,
   "metadata": {},
   "outputs": [],
   "source": [
    "import pandas as pd"
   ]
  },
  {
   "cell_type": "code",
   "execution_count": 2,
   "metadata": {},
   "outputs": [],
   "source": [
    "import numpy as np"
   ]
  },
  {
   "cell_type": "code",
   "execution_count": 3,
   "metadata": {},
   "outputs": [],
   "source": [
    "import matplotlib.pyplot as plt\n",
    "import seaborn as sns "
   ]
  },
  {
   "cell_type": "code",
   "execution_count": 4,
   "metadata": {},
   "outputs": [],
   "source": [
    "import sys \n",
    "sys.path.append(\"../../\")"
   ]
  },
  {
   "cell_type": "code",
   "execution_count": 5,
   "metadata": {},
   "outputs": [],
   "source": [
    "from proj_mod import drop_extreme"
   ]
  },
  {
   "cell_type": "code",
   "execution_count": 6,
   "metadata": {},
   "outputs": [],
   "source": [
    "from proj_mod import data_shifting"
   ]
  },
  {
   "cell_type": "code",
   "execution_count": 7,
   "metadata": {},
   "outputs": [],
   "source": [
    "all_data=pd.read_csv(\"../../data/processed/all_data_inf_adj_collection.csv\")"
   ]
  },
  {
   "cell_type": "code",
   "execution_count": 8,
   "metadata": {},
   "outputs": [
    {
     "data": {
      "text/plain": [
       "Index(['Unnamed: 0', 'Date', 'fed_dff_daily',\n",
       "       'ppi314_monthly_pro_change_inf_adj',\n",
       "       'ppi332_monthly_pro_change_inf_adj',\n",
       "       'ppi333_monthly_pro_change_inf_adj',\n",
       "       'ppi334_monthly_pro_change_inf_adj',\n",
       "       'ppi335_monthly_pro_change_inf_adj',\n",
       "       'ppi336_monthly_pro_change_inf_adj',\n",
       "       'ppi339_monthly_pro_change_inf_adj',\n",
       "       'ppi516_monthly_pro_change_inf_adj',\n",
       "       'ppi517_monthly_pro_change_inf_adj',\n",
       "       'ppi5132_monthly_pro_change_inf_adj',\n",
       "       'ppi5182_monthly_pro_change_inf_adj',\n",
       "       'tech_index_20days_prior_pro_change_inf_adj',\n",
       "       'cop_20days_prior_pro_change_inf_adj',\n",
       "       'gold_20days_prior_pro_change_inf_adj',\n",
       "       'silv_20days_prior_pro_change_inf_adj',\n",
       "       'pal_20days_prior_pro_change_inf_adj',\n",
       "       'plat_20days_prior_pro_change_inf_adj',\n",
       "       'crude_oil_20days_prior_pro_change_inf_adj'],\n",
       "      dtype='object')"
      ]
     },
     "execution_count": 8,
     "metadata": {},
     "output_type": "execute_result"
    }
   ],
   "source": [
    "all_data.columns"
   ]
  },
  {
   "cell_type": "code",
   "execution_count": 9,
   "metadata": {},
   "outputs": [],
   "source": [
    "all_data=all_data.drop(\"Unnamed: 0\", axis=1)"
   ]
  },
  {
   "cell_type": "code",
   "execution_count": 10,
   "metadata": {},
   "outputs": [
    {
     "data": {
      "text/plain": [
       "Index(['Date', 'fed_dff_daily', 'ppi314_monthly_pro_change_inf_adj',\n",
       "       'ppi332_monthly_pro_change_inf_adj',\n",
       "       'ppi333_monthly_pro_change_inf_adj',\n",
       "       'ppi334_monthly_pro_change_inf_adj',\n",
       "       'ppi335_monthly_pro_change_inf_adj',\n",
       "       'ppi336_monthly_pro_change_inf_adj',\n",
       "       'ppi339_monthly_pro_change_inf_adj',\n",
       "       'ppi516_monthly_pro_change_inf_adj',\n",
       "       'ppi517_monthly_pro_change_inf_adj',\n",
       "       'ppi5132_monthly_pro_change_inf_adj',\n",
       "       'ppi5182_monthly_pro_change_inf_adj',\n",
       "       'tech_index_20days_prior_pro_change_inf_adj',\n",
       "       'cop_20days_prior_pro_change_inf_adj',\n",
       "       'gold_20days_prior_pro_change_inf_adj',\n",
       "       'silv_20days_prior_pro_change_inf_adj',\n",
       "       'pal_20days_prior_pro_change_inf_adj',\n",
       "       'plat_20days_prior_pro_change_inf_adj',\n",
       "       'crude_oil_20days_prior_pro_change_inf_adj'],\n",
       "      dtype='object')"
      ]
     },
     "execution_count": 10,
     "metadata": {},
     "output_type": "execute_result"
    }
   ],
   "source": [
    "all_data.columns"
   ]
  },
  {
   "cell_type": "code",
   "execution_count": 11,
   "metadata": {},
   "outputs": [],
   "source": [
    "all_data=all_data.reindex(columns=['Date', \n",
    "       'tech_index_20days_prior_pro_change_inf_adj',\n",
    "       'fed_dff_daily', \n",
    "       'ppi314_monthly_pro_change_inf_adj',\n",
    "       'ppi332_monthly_pro_change_inf_adj',\n",
    "       'ppi333_monthly_pro_change_inf_adj',\n",
    "       'ppi334_monthly_pro_change_inf_adj',\n",
    "       'ppi335_monthly_pro_change_inf_adj',\n",
    "       'ppi336_monthly_pro_change_inf_adj',\n",
    "       'ppi339_monthly_pro_change_inf_adj',\n",
    "       'ppi516_monthly_pro_change_inf_adj',\n",
    "       'ppi517_monthly_pro_change_inf_adj',\n",
    "       'ppi5132_monthly_pro_change_inf_adj',\n",
    "       'ppi5182_monthly_pro_change_inf_adj',\n",
    "       'cop_20days_prior_pro_change_inf_adj',\n",
    "       'gold_20days_prior_pro_change_inf_adj',\n",
    "       'silv_20days_prior_pro_change_inf_adj',\n",
    "       'pal_20days_prior_pro_change_inf_adj',\n",
    "       'plat_20days_prior_pro_change_inf_adj',\n",
    "       'crude_oil_20days_prior_pro_change_inf_adj'])"
   ]
  },
  {
   "cell_type": "code",
   "execution_count": 12,
   "metadata": {},
   "outputs": [
    {
     "data": {
      "text/plain": [
       "Index(['Date', 'tech_index_20days_prior_pro_change_inf_adj', 'fed_dff_daily',\n",
       "       'ppi314_monthly_pro_change_inf_adj',\n",
       "       'ppi332_monthly_pro_change_inf_adj',\n",
       "       'ppi333_monthly_pro_change_inf_adj',\n",
       "       'ppi334_monthly_pro_change_inf_adj',\n",
       "       'ppi335_monthly_pro_change_inf_adj',\n",
       "       'ppi336_monthly_pro_change_inf_adj',\n",
       "       'ppi339_monthly_pro_change_inf_adj',\n",
       "       'ppi516_monthly_pro_change_inf_adj',\n",
       "       'ppi517_monthly_pro_change_inf_adj',\n",
       "       'ppi5132_monthly_pro_change_inf_adj',\n",
       "       'ppi5182_monthly_pro_change_inf_adj',\n",
       "       'cop_20days_prior_pro_change_inf_adj',\n",
       "       'gold_20days_prior_pro_change_inf_adj',\n",
       "       'silv_20days_prior_pro_change_inf_adj',\n",
       "       'pal_20days_prior_pro_change_inf_adj',\n",
       "       'plat_20days_prior_pro_change_inf_adj',\n",
       "       'crude_oil_20days_prior_pro_change_inf_adj'],\n",
       "      dtype='object')"
      ]
     },
     "execution_count": 12,
     "metadata": {},
     "output_type": "execute_result"
    }
   ],
   "source": [
    "all_data.columns"
   ]
  },
  {
   "cell_type": "code",
   "execution_count": 13,
   "metadata": {},
   "outputs": [],
   "source": [
    "lst_cols_shift=['tech_index_20days_prior_pro_change_inf_adj', 'fed_dff_daily',\n",
    "       'ppi314_monthly_pro_change_inf_adj',\n",
    "       'ppi332_monthly_pro_change_inf_adj',\n",
    "       'ppi333_monthly_pro_change_inf_adj',\n",
    "       'ppi334_monthly_pro_change_inf_adj',\n",
    "       'ppi335_monthly_pro_change_inf_adj',\n",
    "       'ppi336_monthly_pro_change_inf_adj',\n",
    "       'ppi339_monthly_pro_change_inf_adj',\n",
    "       'ppi516_monthly_pro_change_inf_adj',\n",
    "       'ppi517_monthly_pro_change_inf_adj',\n",
    "       'ppi5132_monthly_pro_change_inf_adj',\n",
    "       'ppi5182_monthly_pro_change_inf_adj',\n",
    "       'cop_20days_prior_pro_change_inf_adj',\n",
    "       'gold_20days_prior_pro_change_inf_adj',\n",
    "       'silv_20days_prior_pro_change_inf_adj',\n",
    "       'pal_20days_prior_pro_change_inf_adj',\n",
    "       'plat_20days_prior_pro_change_inf_adj',\n",
    "       'crude_oil_20days_prior_pro_change_inf_adj']"
   ]
  },
  {
   "cell_type": "code",
   "execution_count": null,
   "metadata": {},
   "outputs": [],
   "source": [
    "from sklearn.model_selection import TimeSeriesSplit\n",
    "from sklearn.metrics import mean_squared_error\n",
    "from sklearn.pipeline import Pipeline\n",
    "from sklearn.preprocessing import StandardScaler\n",
    "from interpret import set_visualize_provider\n",
    "from interpret.provider import InlineProvider\n",
    "set_visualize_provider(InlineProvider())\n",
    "from sklearn.preprocessing import SplineTransformer\n",
    "from sklearn.linear_model import LinearRegression"
   ]
  },
  {
   "cell_type": "code",
   "execution_count": 15,
   "metadata": {},
   "outputs": [
    {
     "data": {
      "text/html": [
       "<div>\n",
       "<style scoped>\n",
       "    .dataframe tbody tr th:only-of-type {\n",
       "        vertical-align: middle;\n",
       "    }\n",
       "\n",
       "    .dataframe tbody tr th {\n",
       "        vertical-align: top;\n",
       "    }\n",
       "\n",
       "    .dataframe thead th {\n",
       "        text-align: right;\n",
       "    }\n",
       "</style>\n",
       "<table border=\"1\" class=\"dataframe\">\n",
       "  <thead>\n",
       "    <tr style=\"text-align: right;\">\n",
       "      <th></th>\n",
       "      <th>Date</th>\n",
       "      <th>tech_index_20days_prior_pro_change_inf_adj</th>\n",
       "      <th>fed_dff_daily</th>\n",
       "      <th>ppi314_monthly_pro_change_inf_adj</th>\n",
       "      <th>ppi332_monthly_pro_change_inf_adj</th>\n",
       "      <th>ppi333_monthly_pro_change_inf_adj</th>\n",
       "      <th>ppi334_monthly_pro_change_inf_adj</th>\n",
       "      <th>ppi335_monthly_pro_change_inf_adj</th>\n",
       "      <th>ppi336_monthly_pro_change_inf_adj</th>\n",
       "      <th>ppi339_monthly_pro_change_inf_adj</th>\n",
       "      <th>ppi516_monthly_pro_change_inf_adj</th>\n",
       "      <th>ppi517_monthly_pro_change_inf_adj</th>\n",
       "      <th>ppi5132_monthly_pro_change_inf_adj</th>\n",
       "      <th>ppi5182_monthly_pro_change_inf_adj</th>\n",
       "      <th>cop_20days_prior_pro_change_inf_adj</th>\n",
       "      <th>gold_20days_prior_pro_change_inf_adj</th>\n",
       "      <th>silv_20days_prior_pro_change_inf_adj</th>\n",
       "      <th>pal_20days_prior_pro_change_inf_adj</th>\n",
       "      <th>plat_20days_prior_pro_change_inf_adj</th>\n",
       "      <th>crude_oil_20days_prior_pro_change_inf_adj</th>\n",
       "    </tr>\n",
       "  </thead>\n",
       "  <tbody>\n",
       "    <tr>\n",
       "      <th>0</th>\n",
       "      <td>2014-01-02</td>\n",
       "      <td>NaN</td>\n",
       "      <td>0.08</td>\n",
       "      <td>2.446838</td>\n",
       "      <td>-0.103829</td>\n",
       "      <td>0.017017</td>\n",
       "      <td>-0.370646</td>\n",
       "      <td>-0.155464</td>\n",
       "      <td>-0.116273</td>\n",
       "      <td>-0.118845</td>\n",
       "      <td>1.594599</td>\n",
       "      <td>-0.370646</td>\n",
       "      <td>-0.478704</td>\n",
       "      <td>-0.370646</td>\n",
       "      <td>NaN</td>\n",
       "      <td>NaN</td>\n",
       "      <td>NaN</td>\n",
       "      <td>NaN</td>\n",
       "      <td>NaN</td>\n",
       "      <td>NaN</td>\n",
       "    </tr>\n",
       "    <tr>\n",
       "      <th>1</th>\n",
       "      <td>2014-01-03</td>\n",
       "      <td>NaN</td>\n",
       "      <td>0.08</td>\n",
       "      <td>2.446838</td>\n",
       "      <td>-0.103829</td>\n",
       "      <td>0.017017</td>\n",
       "      <td>-0.370646</td>\n",
       "      <td>-0.155464</td>\n",
       "      <td>-0.116273</td>\n",
       "      <td>-0.118845</td>\n",
       "      <td>1.594599</td>\n",
       "      <td>-0.370646</td>\n",
       "      <td>-0.478704</td>\n",
       "      <td>-0.370646</td>\n",
       "      <td>NaN</td>\n",
       "      <td>NaN</td>\n",
       "      <td>NaN</td>\n",
       "      <td>NaN</td>\n",
       "      <td>NaN</td>\n",
       "      <td>NaN</td>\n",
       "    </tr>\n",
       "    <tr>\n",
       "      <th>2</th>\n",
       "      <td>2014-01-06</td>\n",
       "      <td>NaN</td>\n",
       "      <td>0.08</td>\n",
       "      <td>2.446838</td>\n",
       "      <td>-0.103829</td>\n",
       "      <td>0.017017</td>\n",
       "      <td>-0.370646</td>\n",
       "      <td>-0.155464</td>\n",
       "      <td>-0.116273</td>\n",
       "      <td>-0.118845</td>\n",
       "      <td>1.594599</td>\n",
       "      <td>-0.370646</td>\n",
       "      <td>-0.478704</td>\n",
       "      <td>-0.370646</td>\n",
       "      <td>NaN</td>\n",
       "      <td>NaN</td>\n",
       "      <td>NaN</td>\n",
       "      <td>NaN</td>\n",
       "      <td>NaN</td>\n",
       "      <td>NaN</td>\n",
       "    </tr>\n",
       "    <tr>\n",
       "      <th>3</th>\n",
       "      <td>2014-01-07</td>\n",
       "      <td>NaN</td>\n",
       "      <td>0.07</td>\n",
       "      <td>2.446838</td>\n",
       "      <td>-0.103829</td>\n",
       "      <td>0.017017</td>\n",
       "      <td>-0.370646</td>\n",
       "      <td>-0.155464</td>\n",
       "      <td>-0.116273</td>\n",
       "      <td>-0.118845</td>\n",
       "      <td>1.594599</td>\n",
       "      <td>-0.370646</td>\n",
       "      <td>-0.478704</td>\n",
       "      <td>-0.370646</td>\n",
       "      <td>NaN</td>\n",
       "      <td>NaN</td>\n",
       "      <td>NaN</td>\n",
       "      <td>NaN</td>\n",
       "      <td>NaN</td>\n",
       "      <td>NaN</td>\n",
       "    </tr>\n",
       "    <tr>\n",
       "      <th>4</th>\n",
       "      <td>2014-01-08</td>\n",
       "      <td>NaN</td>\n",
       "      <td>0.07</td>\n",
       "      <td>2.446838</td>\n",
       "      <td>-0.103829</td>\n",
       "      <td>0.017017</td>\n",
       "      <td>-0.370646</td>\n",
       "      <td>-0.155464</td>\n",
       "      <td>-0.116273</td>\n",
       "      <td>-0.118845</td>\n",
       "      <td>1.594599</td>\n",
       "      <td>-0.370646</td>\n",
       "      <td>-0.478704</td>\n",
       "      <td>-0.370646</td>\n",
       "      <td>NaN</td>\n",
       "      <td>NaN</td>\n",
       "      <td>NaN</td>\n",
       "      <td>NaN</td>\n",
       "      <td>NaN</td>\n",
       "      <td>NaN</td>\n",
       "    </tr>\n",
       "    <tr>\n",
       "      <th>...</th>\n",
       "      <td>...</td>\n",
       "      <td>...</td>\n",
       "      <td>...</td>\n",
       "      <td>...</td>\n",
       "      <td>...</td>\n",
       "      <td>...</td>\n",
       "      <td>...</td>\n",
       "      <td>...</td>\n",
       "      <td>...</td>\n",
       "      <td>...</td>\n",
       "      <td>...</td>\n",
       "      <td>...</td>\n",
       "      <td>...</td>\n",
       "      <td>...</td>\n",
       "      <td>...</td>\n",
       "      <td>...</td>\n",
       "      <td>...</td>\n",
       "      <td>...</td>\n",
       "      <td>...</td>\n",
       "      <td>...</td>\n",
       "    </tr>\n",
       "    <tr>\n",
       "      <th>2563</th>\n",
       "      <td>2024-10-24</td>\n",
       "      <td>2.186840</td>\n",
       "      <td>4.83</td>\n",
       "      <td>-0.668452</td>\n",
       "      <td>0.097178</td>\n",
       "      <td>0.049298</td>\n",
       "      <td>0.216057</td>\n",
       "      <td>-0.278612</td>\n",
       "      <td>0.226184</td>\n",
       "      <td>0.170434</td>\n",
       "      <td>0.823516</td>\n",
       "      <td>0.541414</td>\n",
       "      <td>0.905231</td>\n",
       "      <td>-0.102929</td>\n",
       "      <td>-2.645986</td>\n",
       "      <td>2.730603</td>\n",
       "      <td>5.925661</td>\n",
       "      <td>11.361568</td>\n",
       "      <td>3.770550</td>\n",
       "      <td>0.910874</td>\n",
       "    </tr>\n",
       "    <tr>\n",
       "      <th>2564</th>\n",
       "      <td>2024-10-25</td>\n",
       "      <td>2.039159</td>\n",
       "      <td>4.83</td>\n",
       "      <td>-0.668452</td>\n",
       "      <td>0.097178</td>\n",
       "      <td>0.049298</td>\n",
       "      <td>0.216057</td>\n",
       "      <td>-0.278612</td>\n",
       "      <td>0.226184</td>\n",
       "      <td>0.170434</td>\n",
       "      <td>0.823516</td>\n",
       "      <td>0.541414</td>\n",
       "      <td>0.905231</td>\n",
       "      <td>-0.102929</td>\n",
       "      <td>-6.166548</td>\n",
       "      <td>2.570648</td>\n",
       "      <td>4.807398</td>\n",
       "      <td>13.892089</td>\n",
       "      <td>1.598315</td>\n",
       "      <td>6.069282</td>\n",
       "    </tr>\n",
       "    <tr>\n",
       "      <th>2565</th>\n",
       "      <td>2024-10-28</td>\n",
       "      <td>2.764371</td>\n",
       "      <td>4.83</td>\n",
       "      <td>-0.668452</td>\n",
       "      <td>0.097178</td>\n",
       "      <td>0.049298</td>\n",
       "      <td>0.216057</td>\n",
       "      <td>-0.278612</td>\n",
       "      <td>0.226184</td>\n",
       "      <td>0.170434</td>\n",
       "      <td>0.823516</td>\n",
       "      <td>0.541414</td>\n",
       "      <td>0.905231</td>\n",
       "      <td>-0.102929</td>\n",
       "      <td>-4.889680</td>\n",
       "      <td>3.159984</td>\n",
       "      <td>6.734911</td>\n",
       "      <td>-98.798978</td>\n",
       "      <td>3.077340</td>\n",
       "      <td>-1.133477</td>\n",
       "    </tr>\n",
       "    <tr>\n",
       "      <th>2566</th>\n",
       "      <td>2024-10-29</td>\n",
       "      <td>3.462442</td>\n",
       "      <td>4.83</td>\n",
       "      <td>-0.668452</td>\n",
       "      <td>0.097178</td>\n",
       "      <td>0.049298</td>\n",
       "      <td>0.216057</td>\n",
       "      <td>-0.278612</td>\n",
       "      <td>0.226184</td>\n",
       "      <td>0.170434</td>\n",
       "      <td>0.823516</td>\n",
       "      <td>0.541414</td>\n",
       "      <td>0.905231</td>\n",
       "      <td>-0.102929</td>\n",
       "      <td>-4.224189</td>\n",
       "      <td>4.445636</td>\n",
       "      <td>9.329965</td>\n",
       "      <td>21.462597</td>\n",
       "      <td>7.277829</td>\n",
       "      <td>-1.529923</td>\n",
       "    </tr>\n",
       "    <tr>\n",
       "      <th>2567</th>\n",
       "      <td>2024-10-30</td>\n",
       "      <td>4.550073</td>\n",
       "      <td>4.83</td>\n",
       "      <td>-0.668452</td>\n",
       "      <td>0.097178</td>\n",
       "      <td>0.049298</td>\n",
       "      <td>0.216057</td>\n",
       "      <td>-0.278612</td>\n",
       "      <td>0.226184</td>\n",
       "      <td>0.170434</td>\n",
       "      <td>0.823516</td>\n",
       "      <td>0.541414</td>\n",
       "      <td>0.905231</td>\n",
       "      <td>-0.102929</td>\n",
       "      <td>-5.097052</td>\n",
       "      <td>4.445742</td>\n",
       "      <td>7.725321</td>\n",
       "      <td>13.578916</td>\n",
       "      <td>1.739436</td>\n",
       "      <td>-1.856758</td>\n",
       "    </tr>\n",
       "  </tbody>\n",
       "</table>\n",
       "<p>2568 rows × 20 columns</p>\n",
       "</div>"
      ],
      "text/plain": [
       "            Date  tech_index_20days_prior_pro_change_inf_adj  fed_dff_daily  \\\n",
       "0     2014-01-02                                         NaN           0.08   \n",
       "1     2014-01-03                                         NaN           0.08   \n",
       "2     2014-01-06                                         NaN           0.08   \n",
       "3     2014-01-07                                         NaN           0.07   \n",
       "4     2014-01-08                                         NaN           0.07   \n",
       "...          ...                                         ...            ...   \n",
       "2563  2024-10-24                                    2.186840           4.83   \n",
       "2564  2024-10-25                                    2.039159           4.83   \n",
       "2565  2024-10-28                                    2.764371           4.83   \n",
       "2566  2024-10-29                                    3.462442           4.83   \n",
       "2567  2024-10-30                                    4.550073           4.83   \n",
       "\n",
       "      ppi314_monthly_pro_change_inf_adj  ppi332_monthly_pro_change_inf_adj  \\\n",
       "0                              2.446838                          -0.103829   \n",
       "1                              2.446838                          -0.103829   \n",
       "2                              2.446838                          -0.103829   \n",
       "3                              2.446838                          -0.103829   \n",
       "4                              2.446838                          -0.103829   \n",
       "...                                 ...                                ...   \n",
       "2563                          -0.668452                           0.097178   \n",
       "2564                          -0.668452                           0.097178   \n",
       "2565                          -0.668452                           0.097178   \n",
       "2566                          -0.668452                           0.097178   \n",
       "2567                          -0.668452                           0.097178   \n",
       "\n",
       "      ppi333_monthly_pro_change_inf_adj  ppi334_monthly_pro_change_inf_adj  \\\n",
       "0                              0.017017                          -0.370646   \n",
       "1                              0.017017                          -0.370646   \n",
       "2                              0.017017                          -0.370646   \n",
       "3                              0.017017                          -0.370646   \n",
       "4                              0.017017                          -0.370646   \n",
       "...                                 ...                                ...   \n",
       "2563                           0.049298                           0.216057   \n",
       "2564                           0.049298                           0.216057   \n",
       "2565                           0.049298                           0.216057   \n",
       "2566                           0.049298                           0.216057   \n",
       "2567                           0.049298                           0.216057   \n",
       "\n",
       "      ppi335_monthly_pro_change_inf_adj  ppi336_monthly_pro_change_inf_adj  \\\n",
       "0                             -0.155464                          -0.116273   \n",
       "1                             -0.155464                          -0.116273   \n",
       "2                             -0.155464                          -0.116273   \n",
       "3                             -0.155464                          -0.116273   \n",
       "4                             -0.155464                          -0.116273   \n",
       "...                                 ...                                ...   \n",
       "2563                          -0.278612                           0.226184   \n",
       "2564                          -0.278612                           0.226184   \n",
       "2565                          -0.278612                           0.226184   \n",
       "2566                          -0.278612                           0.226184   \n",
       "2567                          -0.278612                           0.226184   \n",
       "\n",
       "      ppi339_monthly_pro_change_inf_adj  ppi516_monthly_pro_change_inf_adj  \\\n",
       "0                             -0.118845                           1.594599   \n",
       "1                             -0.118845                           1.594599   \n",
       "2                             -0.118845                           1.594599   \n",
       "3                             -0.118845                           1.594599   \n",
       "4                             -0.118845                           1.594599   \n",
       "...                                 ...                                ...   \n",
       "2563                           0.170434                           0.823516   \n",
       "2564                           0.170434                           0.823516   \n",
       "2565                           0.170434                           0.823516   \n",
       "2566                           0.170434                           0.823516   \n",
       "2567                           0.170434                           0.823516   \n",
       "\n",
       "      ppi517_monthly_pro_change_inf_adj  ppi5132_monthly_pro_change_inf_adj  \\\n",
       "0                             -0.370646                           -0.478704   \n",
       "1                             -0.370646                           -0.478704   \n",
       "2                             -0.370646                           -0.478704   \n",
       "3                             -0.370646                           -0.478704   \n",
       "4                             -0.370646                           -0.478704   \n",
       "...                                 ...                                 ...   \n",
       "2563                           0.541414                            0.905231   \n",
       "2564                           0.541414                            0.905231   \n",
       "2565                           0.541414                            0.905231   \n",
       "2566                           0.541414                            0.905231   \n",
       "2567                           0.541414                            0.905231   \n",
       "\n",
       "      ppi5182_monthly_pro_change_inf_adj  cop_20days_prior_pro_change_inf_adj  \\\n",
       "0                              -0.370646                                  NaN   \n",
       "1                              -0.370646                                  NaN   \n",
       "2                              -0.370646                                  NaN   \n",
       "3                              -0.370646                                  NaN   \n",
       "4                              -0.370646                                  NaN   \n",
       "...                                  ...                                  ...   \n",
       "2563                           -0.102929                            -2.645986   \n",
       "2564                           -0.102929                            -6.166548   \n",
       "2565                           -0.102929                            -4.889680   \n",
       "2566                           -0.102929                            -4.224189   \n",
       "2567                           -0.102929                            -5.097052   \n",
       "\n",
       "      gold_20days_prior_pro_change_inf_adj  \\\n",
       "0                                      NaN   \n",
       "1                                      NaN   \n",
       "2                                      NaN   \n",
       "3                                      NaN   \n",
       "4                                      NaN   \n",
       "...                                    ...   \n",
       "2563                              2.730603   \n",
       "2564                              2.570648   \n",
       "2565                              3.159984   \n",
       "2566                              4.445636   \n",
       "2567                              4.445742   \n",
       "\n",
       "      silv_20days_prior_pro_change_inf_adj  \\\n",
       "0                                      NaN   \n",
       "1                                      NaN   \n",
       "2                                      NaN   \n",
       "3                                      NaN   \n",
       "4                                      NaN   \n",
       "...                                    ...   \n",
       "2563                              5.925661   \n",
       "2564                              4.807398   \n",
       "2565                              6.734911   \n",
       "2566                              9.329965   \n",
       "2567                              7.725321   \n",
       "\n",
       "      pal_20days_prior_pro_change_inf_adj  \\\n",
       "0                                     NaN   \n",
       "1                                     NaN   \n",
       "2                                     NaN   \n",
       "3                                     NaN   \n",
       "4                                     NaN   \n",
       "...                                   ...   \n",
       "2563                            11.361568   \n",
       "2564                            13.892089   \n",
       "2565                           -98.798978   \n",
       "2566                            21.462597   \n",
       "2567                            13.578916   \n",
       "\n",
       "      plat_20days_prior_pro_change_inf_adj  \\\n",
       "0                                      NaN   \n",
       "1                                      NaN   \n",
       "2                                      NaN   \n",
       "3                                      NaN   \n",
       "4                                      NaN   \n",
       "...                                    ...   \n",
       "2563                              3.770550   \n",
       "2564                              1.598315   \n",
       "2565                              3.077340   \n",
       "2566                              7.277829   \n",
       "2567                              1.739436   \n",
       "\n",
       "      crude_oil_20days_prior_pro_change_inf_adj  \n",
       "0                                           NaN  \n",
       "1                                           NaN  \n",
       "2                                           NaN  \n",
       "3                                           NaN  \n",
       "4                                           NaN  \n",
       "...                                         ...  \n",
       "2563                                   0.910874  \n",
       "2564                                   6.069282  \n",
       "2565                                  -1.133477  \n",
       "2566                                  -1.529923  \n",
       "2567                                  -1.856758  \n",
       "\n",
       "[2568 rows x 20 columns]"
      ]
     },
     "execution_count": 15,
     "metadata": {},
     "output_type": "execute_result"
    }
   ],
   "source": [
    "all_data"
   ]
  },
  {
   "cell_type": "code",
   "execution_count": null,
   "metadata": {},
   "outputs": [
    {
     "name": "stdout",
     "output_type": "stream",
     "text": [
      "mse trained on 0 index shifting and WITHOUT deleting extreme values is 33.894983104275774 with k fold.\n",
      "mse trained on 0 index shifting and WITH deleting extreme values is 33.377248684416614 with k fold.\n",
      "\n",
      "Finished training and testing for 0 shiftings.\n",
      "mse trained on 1 index shifting and WITHOUT deleting extreme values is 49.62771103379488 with k fold.\n",
      "mse trained on 1 index shifting and WITH deleting extreme values is 49.144663035843884 with k fold.\n",
      "\n",
      "Finished training and testing for 1 shiftings.\n",
      "mse trained on 2 index shifting and WITHOUT deleting extreme values is 65.66331054248842 with k fold.\n",
      "mse trained on 2 index shifting and WITH deleting extreme values is 65.92692736044691 with k fold.\n",
      "\n",
      "Finished training and testing for 2 shiftings.\n",
      "mse trained on 3 index shifting and WITHOUT deleting extreme values is 73.14825055873455 with k fold.\n",
      "mse trained on 3 index shifting and WITH deleting extreme values is 75.49343642478338 with k fold.\n",
      "\n",
      "Finished training and testing for 3 shiftings.\n"
     ]
    }
   ],
   "source": [
    "all_data_extended = all_data.copy(deep=True)\n",
    "\n",
    "arr_mse_kfold_collection=[] #Each row is for one int_extend. Then for each row index zero is for the training with extreme values, and index one is for the training without extreme values. \n",
    "arr_mse_kfold_de_collection=[] #Each row is for one int_extend. Then for each row index zero is for the training with extreme values, and index one is for the training without extreme values. \n",
    "\n",
    "for int_extend in range(4): \n",
    "    if int_extend != 0: \n",
    "        for col in lst_cols_shift: \n",
    "            all_data_extended=data_shifting.shifter(df_in=all_data_extended,str_col=col,int_shift=int_extend*20)\n",
    "    all_data_extended_train=all_data_extended[all_data_extended[\"Date\"]<\"2024-01-01\"].dropna()\n",
    "    # all_data_extended_de=drop_extreme.drop_by_sort(df_in=all_data_extended.dropna(),fl_low=0.001,fl_high=0.999)\n",
    "    # all_data_extended_train_de=drop_extreme.drop_by_sort(df_in=all_data_extended_train,fl_low=0.001,fl_high=0.999)\n",
    "    # all_data_extended_test=all_data_extended[all_data_extended[\"Date\"]>=\"2024-01-01\"].dropna()\n",
    "    X_train=all_data_extended_train.iloc[:,2:]\n",
    "    y_train=all_data_extended_train.iloc[:,1]\n",
    "    # X_de_train=all_data_extended_train_de.iloc[:,2:]\n",
    "    # y_de_train=all_data_extended_train_de.iloc[:,1]\n",
    "    # X_test=all_data_extended_test.iloc[:,2:]\n",
    "    # y_test=all_data_extended_test.iloc[:,1]\n",
    "    spineline_pipe = Pipeline([\n",
    "    (\"std\", StandardScaler()),               # 1) Standardize features\n",
    "    (\"spline\", SplineTransformer(n_knots=2, degree=1)),\n",
    "    (\"regressor\", LinearRegression())        # 2) Fit a regression model\n",
    "])\n",
    "\n",
    "    time_kfold=TimeSeriesSplit(n_splits=5)\n",
    "    fold_mse=[]\n",
    "    fold_mse_de=[]\n",
    "    #First for without deleting extreme values. \n",
    "    for index_train, index_test in time_kfold.split(X_train): \n",
    "        X_tt=X_train.iloc[index_train]\n",
    "        y_tt=y_train.iloc[index_train]\n",
    "        X_ho=X_train.iloc[index_test]\n",
    "        y_ho=y_train.iloc[index_test]\n",
    "        all_data_ho_de=drop_extreme.drop_by_sort(df_in=all_data_extended_train.iloc[index_test], fl_low=0.01, fl_high=0.99)\n",
    "        X_ho_de=all_data_ho_de.iloc[:,2:]\n",
    "        y_ho_de=all_data_ho_de.iloc[:,1]\n",
    "        spineline_pipe.fit(X=X_tt,y=y_tt)\n",
    "        pred=spineline_pipe.predict(X=X_ho)\n",
    "        error=mean_squared_error(y_pred=pred,y_true=y_ho)\n",
    "        fold_mse.append(error)\n",
    "        pred_de=spineline_pipe.predict(X=X_ho_de)\n",
    "        error_de=mean_squared_error(y_pred=pred_de,y_true=y_ho_de)\n",
    "        fold_mse_de.append(error_de)\n",
    "    mean_error=np.mean(fold_mse)\n",
    "    arr_mse_kfold_collection.append([])\n",
    "    arr_mse_kfold_collection[-1].append(mean_error)\n",
    "    mean_error_de=np.mean(fold_mse_de)\n",
    "    arr_mse_kfold_de_collection.append([])\n",
    "    arr_mse_kfold_de_collection[-1].append(mean_error_de)\n",
    "    print(\"mse trained on \"+str(int_extend)+\" index shifting and WITHOUT deleting extreme values is \"+str(mean_error)+\" with k fold.\")\n",
    "    fold_mse=[]\n",
    "    fold_mse_de=[]\n",
    "    #Then the one with deleting extreme values. \n",
    "    for index_train, index_test in time_kfold.split(X_train): \n",
    "        all_data_tt=drop_extreme.drop_by_sort(df_in=all_data_extended_train.iloc[index_train], fl_low=0.001, fl_high=0.999)  #all_data_extended_train.iloc[index_train]\n",
    "        all_data_ho=drop_extreme.drop_by_sort(df_in=all_data_extended_train.iloc[index_test], fl_low=0.01, fl_high=0.99) #all_data_extended_train.iloc[index_test]\n",
    "        X_tt=all_data_tt.iloc[:,2:] #drop_extreme.drop_by_sort(df_in=X_train.iloc[index_train], fl_low=0.01, fl_high=0.99)     #X_de_train.iloc[index_train]\n",
    "        y_tt=all_data_tt.iloc[:,1] #drop_extreme.drop_by_sort(df_in=y_train.iloc[index_train], fl_low=0.01, fl_high=0.99) \n",
    "        X_ho_de=all_data_ho.iloc[:,2:] #drop_extreme.drop_by_sort(df_in=X_train.iloc[index_test], fl_low=0.01, fl_high=0.99) #X_train.iloc[index_test]\n",
    "        y_ho_de=all_data_ho.iloc[:,1] #drop_extreme.drop_by_sort(df_in=y_train.iloc[index_test], fl_low=0.01, fl_high=0.99) #y_train.iloc[index_test]\n",
    "        X_ho=X_train.iloc[index_test]\n",
    "        y_ho=y_train.iloc[index_test]\n",
    "        spineline_pipe.fit(X=X_tt,y=y_tt)\n",
    "        pred=spineline_pipe.predict(X=X_ho)\n",
    "        error=mean_squared_error(y_pred=pred,y_true=y_ho)\n",
    "        fold_mse.append(error)\n",
    "        pred_de=spineline_pipe.predict(X=X_ho_de)\n",
    "        error_de=mean_squared_error(y_pred=pred_de,y_true=y_ho_de)\n",
    "        fold_mse_de.append(error_de)\n",
    "    mean_error=np.mean(fold_mse)\n",
    "    arr_mse_kfold_collection[-1].append(mean_error)\n",
    "    mean_error_de=np.mean(fold_mse_de)\n",
    "    arr_mse_kfold_de_collection[-1].append(mean_error_de)\n",
    "    print(\"mse trained on \"+str(int_extend)+\" index shifting and WITH deleting extreme values is \"+str(mean_error)+\" with k fold.\")\n",
    "    print(\"\\n\"+\"Finished training and testing for \"+str(int_extend)+\" shiftings.\")"
   ]
  },
  {
   "cell_type": "code",
   "execution_count": 17,
   "metadata": {},
   "outputs": [
    {
     "data": {
      "text/plain": [
       "[[np.float64(33.894983104275774), np.float64(33.377248684416614)],\n",
       " [np.float64(49.62771103379488), np.float64(49.144663035843884)],\n",
       " [np.float64(65.66331054248842), np.float64(65.92692736044691)],\n",
       " [np.float64(73.14825055873455), np.float64(75.49343642478338)]]"
      ]
     },
     "execution_count": 17,
     "metadata": {},
     "output_type": "execute_result"
    }
   ],
   "source": [
    "arr_mse_kfold_collection"
   ]
  },
  {
   "cell_type": "code",
   "execution_count": 18,
   "metadata": {},
   "outputs": [
    {
     "data": {
      "text/plain": [
       "[[np.float64(30.41430156712179), np.float64(29.82672081366683)],\n",
       " [np.float64(42.05313619584691), np.float64(41.287664218388855)],\n",
       " [np.float64(53.784462285867264), np.float64(54.19156357608873)],\n",
       " [np.float64(55.829534917023715), np.float64(57.15051873303512)]]"
      ]
     },
     "execution_count": 18,
     "metadata": {},
     "output_type": "execute_result"
    }
   ],
   "source": [
    "arr_mse_kfold_de_collection"
   ]
  },
  {
   "cell_type": "code",
   "execution_count": 19,
   "metadata": {},
   "outputs": [],
   "source": [
    "arr_in=np.array(arr_mse_kfold_de_collection).transpose()"
   ]
  },
  {
   "cell_type": "code",
   "execution_count": 20,
   "metadata": {},
   "outputs": [
    {
     "data": {
      "text/plain": [
       "array([[33.8949831 , 49.62771103, 65.66331054, 73.14825056],\n",
       "       [33.37724868, 49.14466304, 65.92692736, 75.49343642]])"
      ]
     },
     "execution_count": 20,
     "metadata": {},
     "output_type": "execute_result"
    }
   ],
   "source": [
    "np.array(arr_mse_kfold_collection).transpose()"
   ]
  },
  {
   "cell_type": "code",
   "execution_count": 21,
   "metadata": {},
   "outputs": [
    {
     "data": {
      "image/png": "[encoded data removed]",
      "text/plain": [
       "<Figure size 640x480 with 1 Axes>"
      ]
     },
     "metadata": {},
     "output_type": "display_data"
    }
   ],
   "source": [
    "plt.plot(np.array(arr_mse_kfold_collection).transpose()[0], c=\"r\",label=\"Trained with extreme\")\n",
    "plt.plot(np.array(arr_mse_kfold_collection).transpose()[1], c=\"b\",label=\"Trained without extreme\")\n",
    "plt.show()"
   ]
  },
  {
   "cell_type": "markdown",
   "metadata": {},
   "source": [
    "We should take no shifting for both with and without extreme. "
   ]
  },
  {
   "cell_type": "code",
   "execution_count": 22,
   "metadata": {},
   "outputs": [
    {
     "data": {
      "image/png": "[encoded data removed]",
      "text/plain": [
       "<Figure size 640x480 with 1 Axes>"
      ]
     },
     "metadata": {},
     "output_type": "display_data"
    }
   ],
   "source": [
    "plt.plot(arr_in[0], c=\"r\",label=\"Trained with extreme\")\n",
    "plt.plot(arr_in[1], c=\"b\",label=\"Trained without extreme\")\n",
    "plt.show()"
   ]
  },
  {
   "cell_type": "markdown",
   "metadata": {},
   "source": [
    "Seems 4 shifts works better with tested without extreme values. "
   ]
  },
  {
   "cell_type": "code",
   "execution_count": 23,
   "metadata": {},
   "outputs": [],
   "source": [
    "all_data_extended = all_data.copy(deep=True)"
   ]
  },
  {
   "cell_type": "code",
   "execution_count": 24,
   "metadata": {},
   "outputs": [],
   "source": [
    "all_data_extended_train=all_data_extended[all_data_extended[\"Date\"]<\"2024-01-01\"].dropna()"
   ]
  },
  {
   "cell_type": "code",
   "execution_count": 25,
   "metadata": {},
   "outputs": [],
   "source": [
    "# all_data_extended_de=drop_extreme.drop_by_sort(df_in=all_data_extended.dropna(),fl_low=0.001,fl_high=0.999)\n",
    "all_data_extended_train_de=drop_extreme.drop_by_sort(df_in=all_data_extended_train,fl_low=0.001,fl_high=0.999)\n",
    "all_data_extended_test=all_data_extended[all_data_extended[\"Date\"]>=\"2024-01-01\"].dropna()"
   ]
  },
  {
   "cell_type": "code",
   "execution_count": 26,
   "metadata": {},
   "outputs": [],
   "source": [
    "all_data_extended_test_de=drop_extreme.drop_by_sort(df_in=all_data_extended_test,fl_low=0.01,fl_high=0.99)"
   ]
  },
  {
   "cell_type": "code",
   "execution_count": 27,
   "metadata": {},
   "outputs": [],
   "source": [
    "X_train=all_data_extended_train.iloc[:,2:]\n",
    "y_train=all_data_extended_train.iloc[:,1]\n",
    "X_de_train=all_data_extended_train_de.iloc[:,2:]\n",
    "y_de_train=all_data_extended_train_de.iloc[:,1]\n",
    "X_test=all_data_extended_test.iloc[:,2:]\n",
    "y_test=all_data_extended_test.iloc[:,1]\n",
    "X_de_test=all_data_extended_test_de.iloc[:,2:]\n",
    "y_de_test=all_data_extended_test_de.iloc[:,1]"
   ]
  },
  {
   "cell_type": "markdown",
   "metadata": {},
   "source": [
    "First the one trained without extreme values. "
   ]
  },
  {
   "cell_type": "code",
   "execution_count": 28,
   "metadata": {},
   "outputs": [],
   "source": [
    "spineline_pipe = Pipeline([\n",
    "    (\"std\", StandardScaler()),               # 1) Standardize features\n",
    "    (\"spline\", SplineTransformer(n_knots=2, degree=1)),\n",
    "    (\"regressor\", LinearRegression())        # 2) Fit a regression model\n",
    "])"
   ]
  },
  {
   "cell_type": "code",
   "execution_count": null,
   "metadata": {},
   "outputs": [
    {
     "data": {
      "text/html": [
       "<style>#sk-container-id-1 {\n",
       "  /* Definition of color scheme common for light and dark mode */\n",
       "  --sklearn-color-text: #000;\n",
       "  --sklearn-color-text-muted: #666;\n",
       "  --sklearn-color-line: gray;\n",
       "  /* Definition of color scheme for unfitted estimators */\n",
       "  --sklearn-color-unfitted-level-0: #fff5e6;\n",
       "  --sklearn-color-unfitted-level-1: #f6e4d2;\n",
       "  --sklearn-color-unfitted-level-2: #ffe0b3;\n",
       "  --sklearn-color-unfitted-level-3: chocolate;\n",
       "  /* Definition of color scheme for fitted estimators */\n",
       "  --sklearn-color-fitted-level-0: #f0f8ff;\n",
       "  --sklearn-color-fitted-level-1: #d4ebff;\n",
       "  --sklearn-color-fitted-level-2: #b3dbfd;\n",
       "  --sklearn-color-fitted-level-3: cornflowerblue;\n",
       "\n",
       "  /* Specific color for light theme */\n",
       "  --sklearn-color-text-on-default-background: var(--sg-text-color, var(--theme-code-foreground, var(--jp-content-font-color1, black)));\n",
       "  --sklearn-color-background: var(--sg-background-color, var(--theme-background, var(--jp-layout-color0, white)));\n",
       "  --sklearn-color-border-box: var(--sg-text-color, var(--theme-code-foreground, var(--jp-content-font-color1, black)));\n",
       "  --sklearn-color-icon: #696969;\n",
       "\n",
       "  @media (prefers-color-scheme: dark) {\n",
       "    /* Redefinition of color scheme for dark theme */\n",
       "    --sklearn-color-text-on-default-background: var(--sg-text-color, var(--theme-code-foreground, var(--jp-content-font-color1, white)));\n",
       "    --sklearn-color-background: var(--sg-background-color, var(--theme-background, var(--jp-layout-color0, #111)));\n",
       "    --sklearn-color-border-box: var(--sg-text-color, var(--theme-code-foreground, var(--jp-content-font-color1, white)));\n",
       "    --sklearn-color-icon: #878787;\n",
       "  }\n",
       "}\n",
       "\n",
       "#sk-container-id-1 {\n",
       "  color: var(--sklearn-color-text);\n",
       "}\n",
       "\n",
       "#sk-container-id-1 pre {\n",
       "  padding: 0;\n",
       "}\n",
       "\n",
       "#sk-container-id-1 input.sk-hidden--visually {\n",
       "  border: 0;\n",
       "  clip: rect(1px 1px 1px 1px);\n",
       "  clip: rect(1px, 1px, 1px, 1px);\n",
       "  height: 1px;\n",
       "  margin: -1px;\n",
       "  overflow: hidden;\n",
       "  padding: 0;\n",
       "  position: absolute;\n",
       "  width: 1px;\n",
       "}\n",
       "\n",
       "#sk-container-id-1 div.sk-dashed-wrapped {\n",
       "  border: 1px dashed var(--sklearn-color-line);\n",
       "  margin: 0 0.4em 0.5em 0.4em;\n",
       "  box-sizing: border-box;\n",
       "  padding-bottom: 0.4em;\n",
       "  background-color: var(--sklearn-color-background);\n",
       "}\n",
       "\n",
       "#sk-container-id-1 div.sk-container {\n",
       "  /* jupyter's `normalize.less` sets `[hidden] { display: none; }`\n",
       "     but bootstrap.min.css set `[hidden] { display: none !important; }`\n",
       "     so we also need the `!important` here to be able to override the\n",
       "     default hidden behavior on the sphinx rendered scikit-learn.org.\n",
       "     See: https://github.com/scikit-learn/scikit-learn/issues/21755 */\n",
       "  display: inline-block !important;\n",
       "  position: relative;\n",
       "}\n",
       "\n",
       "#sk-container-id-1 div.sk-text-repr-fallback {\n",
       "  display: none;\n",
       "}\n",
       "\n",
       "div.sk-parallel-item,\n",
       "div.sk-serial,\n",
       "div.sk-item {\n",
       "  /* draw centered vertical line to link estimators */\n",
       "  background-image: linear-gradient(var(--sklearn-color-text-on-default-background), var(--sklearn-color-text-on-default-background));\n",
       "  background-size: 2px 100%;\n",
       "  background-repeat: no-repeat;\n",
       "  background-position: center center;\n",
       "}\n",
       "\n",
       "/* Parallel-specific style estimator block */\n",
       "\n",
       "#sk-container-id-1 div.sk-parallel-item::after {\n",
       "  content: \"\";\n",
       "  width: 100%;\n",
       "  border-bottom: 2px solid var(--sklearn-color-text-on-default-background);\n",
       "  flex-grow: 1;\n",
       "}\n",
       "\n",
       "#sk-container-id-1 div.sk-parallel {\n",
       "  display: flex;\n",
       "  align-items: stretch;\n",
       "  justify-content: center;\n",
       "  background-color: var(--sklearn-color-background);\n",
       "  position: relative;\n",
       "}\n",
       "\n",
       "#sk-container-id-1 div.sk-parallel-item {\n",
       "  display: flex;\n",
       "  flex-direction: column;\n",
       "}\n",
       "\n",
       "#sk-container-id-1 div.sk-parallel-item:first-child::after {\n",
       "  align-self: flex-end;\n",
       "  width: 50%;\n",
       "}\n",
       "\n",
       "#sk-container-id-1 div.sk-parallel-item:last-child::after {\n",
       "  align-self: flex-start;\n",
       "  width: 50%;\n",
       "}\n",
       "\n",
       "#sk-container-id-1 div.sk-parallel-item:only-child::after {\n",
       "  width: 0;\n",
       "}\n",
       "\n",
       "/* Serial-specific style estimator block */\n",
       "\n",
       "#sk-container-id-1 div.sk-serial {\n",
       "  display: flex;\n",
       "  flex-direction: column;\n",
       "  align-items: center;\n",
       "  background-color: var(--sklearn-color-background);\n",
       "  padding-right: 1em;\n",
       "  padding-left: 1em;\n",
       "}\n",
       "\n",
       "\n",
       "/* Toggleable style: style used for estimator/Pipeline/ColumnTransformer box that is\n",
       "clickable and can be expanded/collapsed.\n",
       "- Pipeline and ColumnTransformer use this feature and define the default style\n",
       "- Estimators will overwrite some part of the style using the `sk-estimator` class\n",
       "*/\n",
       "\n",
       "/* Pipeline and ColumnTransformer style (default) */\n",
       "\n",
       "#sk-container-id-1 div.sk-toggleable {\n",
       "  /* Default theme specific background. It is overwritten whether we have a\n",
       "  specific estimator or a Pipeline/ColumnTransformer */\n",
       "  background-color: var(--sklearn-color-background);\n",
       "}\n",
       "\n",
       "/* Toggleable label */\n",
       "#sk-container-id-1 label.sk-toggleable__label {\n",
       "  cursor: pointer;\n",
       "  display: flex;\n",
       "  width: 100%;\n",
       "  margin-bottom: 0;\n",
       "  padding: 0.5em;\n",
       "  box-sizing: border-box;\n",
       "  text-align: center;\n",
       "  align-items: start;\n",
       "  justify-content: space-between;\n",
       "  gap: 0.5em;\n",
       "}\n",
       "\n",
       "#sk-container-id-1 label.sk-toggleable__label .caption {\n",
       "  font-size: 0.6rem;\n",
       "  font-weight: lighter;\n",
       "  color: var(--sklearn-color-text-muted);\n",
       "}\n",
       "\n",
       "#sk-container-id-1 label.sk-toggleable__label-arrow:before {\n",
       "  /* Arrow on the left of the label */\n",
       "  content: \"▸\";\n",
       "  float: left;\n",
       "  margin-right: 0.25em;\n",
       "  color: var(--sklearn-color-icon);\n",
       "}\n",
       "\n",
       "#sk-container-id-1 label.sk-toggleable__label-arrow:hover:before {\n",
       "  color: var(--sklearn-color-text);\n",
       "}\n",
       "\n",
       "/* Toggleable content - dropdown */\n",
       "\n",
       "#sk-container-id-1 div.sk-toggleable__content {\n",
       "  max-height: 0;\n",
       "  max-width: 0;\n",
       "  overflow: hidden;\n",
       "  text-align: left;\n",
       "  /* unfitted */\n",
       "  background-color: var(--sklearn-color-unfitted-level-0);\n",
       "}\n",
       "\n",
       "#sk-container-id-1 div.sk-toggleable__content.fitted {\n",
       "  /* fitted */\n",
       "  background-color: var(--sklearn-color-fitted-level-0);\n",
       "}\n",
       "\n",
       "#sk-container-id-1 div.sk-toggleable__content pre {\n",
       "  margin: 0.2em;\n",
       "  border-radius: 0.25em;\n",
       "  color: var(--sklearn-color-text);\n",
       "  /* unfitted */\n",
       "  background-color: var(--sklearn-color-unfitted-level-0);\n",
       "}\n",
       "\n",
       "#sk-container-id-1 div.sk-toggleable__content.fitted pre {\n",
       "  /* unfitted */\n",
       "  background-color: var(--sklearn-color-fitted-level-0);\n",
       "}\n",
       "\n",
       "#sk-container-id-1 input.sk-toggleable__control:checked~div.sk-toggleable__content {\n",
       "  /* Expand drop-down */\n",
       "  max-height: 200px;\n",
       "  max-width: 100%;\n",
       "  overflow: auto;\n",
       "}\n",
       "\n",
       "#sk-container-id-1 input.sk-toggleable__control:checked~label.sk-toggleable__label-arrow:before {\n",
       "  content: \"▾\";\n",
       "}\n",
       "\n",
       "/* Pipeline/ColumnTransformer-specific style */\n",
       "\n",
       "#sk-container-id-1 div.sk-label input.sk-toggleable__control:checked~label.sk-toggleable__label {\n",
       "  color: var(--sklearn-color-text);\n",
       "  background-color: var(--sklearn-color-unfitted-level-2);\n",
       "}\n",
       "\n",
       "#sk-container-id-1 div.sk-label.fitted input.sk-toggleable__control:checked~label.sk-toggleable__label {\n",
       "  background-color: var(--sklearn-color-fitted-level-2);\n",
       "}\n",
       "\n",
       "/* Estimator-specific style */\n",
       "\n",
       "/* Colorize estimator box */\n",
       "#sk-container-id-1 div.sk-estimator input.sk-toggleable__control:checked~label.sk-toggleable__label {\n",
       "  /* unfitted */\n",
       "  background-color: var(--sklearn-color-unfitted-level-2);\n",
       "}\n",
       "\n",
       "#sk-container-id-1 div.sk-estimator.fitted input.sk-toggleable__control:checked~label.sk-toggleable__label {\n",
       "  /* fitted */\n",
       "  background-color: var(--sklearn-color-fitted-level-2);\n",
       "}\n",
       "\n",
       "#sk-container-id-1 div.sk-label label.sk-toggleable__label,\n",
       "#sk-container-id-1 div.sk-label label {\n",
       "  /* The background is the default theme color */\n",
       "  color: var(--sklearn-color-text-on-default-background);\n",
       "}\n",
       "\n",
       "/* On hover, darken the color of the background */\n",
       "#sk-container-id-1 div.sk-label:hover label.sk-toggleable__label {\n",
       "  color: var(--sklearn-color-text);\n",
       "  background-color: var(--sklearn-color-unfitted-level-2);\n",
       "}\n",
       "\n",
       "/* Label box, darken color on hover, fitted */\n",
       "#sk-container-id-1 div.sk-label.fitted:hover label.sk-toggleable__label.fitted {\n",
       "  color: var(--sklearn-color-text);\n",
       "  background-color: var(--sklearn-color-fitted-level-2);\n",
       "}\n",
       "\n",
       "/* Estimator label */\n",
       "\n",
       "#sk-container-id-1 div.sk-label label {\n",
       "  font-family: monospace;\n",
       "  font-weight: bold;\n",
       "  display: inline-block;\n",
       "  line-height: 1.2em;\n",
       "}\n",
       "\n",
       "#sk-container-id-1 div.sk-label-container {\n",
       "  text-align: center;\n",
       "}\n",
       "\n",
       "/* Estimator-specific */\n",
       "#sk-container-id-1 div.sk-estimator {\n",
       "  font-family: monospace;\n",
       "  border: 1px dotted var(--sklearn-color-border-box);\n",
       "  border-radius: 0.25em;\n",
       "  box-sizing: border-box;\n",
       "  margin-bottom: 0.5em;\n",
       "  /* unfitted */\n",
       "  background-color: var(--sklearn-color-unfitted-level-0);\n",
       "}\n",
       "\n",
       "#sk-container-id-1 div.sk-estimator.fitted {\n",
       "  /* fitted */\n",
       "  background-color: var(--sklearn-color-fitted-level-0);\n",
       "}\n",
       "\n",
       "/* on hover */\n",
       "#sk-container-id-1 div.sk-estimator:hover {\n",
       "  /* unfitted */\n",
       "  background-color: var(--sklearn-color-unfitted-level-2);\n",
       "}\n",
       "\n",
       "#sk-container-id-1 div.sk-estimator.fitted:hover {\n",
       "  /* fitted */\n",
       "  background-color: var(--sklearn-color-fitted-level-2);\n",
       "}\n",
       "\n",
       "/* Specification for estimator info (e.g. \"i\" and \"?\") */\n",
       "\n",
       "/* Common style for \"i\" and \"?\" */\n",
       "\n",
       ".sk-estimator-doc-link,\n",
       "a:link.sk-estimator-doc-link,\n",
       "a:visited.sk-estimator-doc-link {\n",
       "  float: right;\n",
       "  font-size: smaller;\n",
       "  line-height: 1em;\n",
       "  font-family: monospace;\n",
       "  background-color: var(--sklearn-color-background);\n",
       "  border-radius: 1em;\n",
       "  height: 1em;\n",
       "  width: 1em;\n",
       "  text-decoration: none !important;\n",
       "  margin-left: 0.5em;\n",
       "  text-align: center;\n",
       "  /* unfitted */\n",
       "  border: var(--sklearn-color-unfitted-level-1) 1pt solid;\n",
       "  color: var(--sklearn-color-unfitted-level-1);\n",
       "}\n",
       "\n",
       ".sk-estimator-doc-link.fitted,\n",
       "a:link.sk-estimator-doc-link.fitted,\n",
       "a:visited.sk-estimator-doc-link.fitted {\n",
       "  /* fitted */\n",
       "  border: var(--sklearn-color-fitted-level-1) 1pt solid;\n",
       "  color: var(--sklearn-color-fitted-level-1);\n",
       "}\n",
       "\n",
       "/* On hover */\n",
       "div.sk-estimator:hover .sk-estimator-doc-link:hover,\n",
       ".sk-estimator-doc-link:hover,\n",
       "div.sk-label-container:hover .sk-estimator-doc-link:hover,\n",
       ".sk-estimator-doc-link:hover {\n",
       "  /* unfitted */\n",
       "  background-color: var(--sklearn-color-unfitted-level-3);\n",
       "  color: var(--sklearn-color-background);\n",
       "  text-decoration: none;\n",
       "}\n",
       "\n",
       "div.sk-estimator.fitted:hover .sk-estimator-doc-link.fitted:hover,\n",
       ".sk-estimator-doc-link.fitted:hover,\n",
       "div.sk-label-container:hover .sk-estimator-doc-link.fitted:hover,\n",
       ".sk-estimator-doc-link.fitted:hover {\n",
       "  /* fitted */\n",
       "  background-color: var(--sklearn-color-fitted-level-3);\n",
       "  color: var(--sklearn-color-background);\n",
       "  text-decoration: none;\n",
       "}\n",
       "\n",
       "/* Span, style for the box shown on hovering the info icon */\n",
       ".sk-estimator-doc-link span {\n",
       "  display: none;\n",
       "  z-index: 9999;\n",
       "  position: relative;\n",
       "  font-weight: normal;\n",
       "  right: .2ex;\n",
       "  padding: .5ex;\n",
       "  margin: .5ex;\n",
       "  width: min-content;\n",
       "  min-width: 20ex;\n",
       "  max-width: 50ex;\n",
       "  color: var(--sklearn-color-text);\n",
       "  box-shadow: 2pt 2pt 4pt #999;\n",
       "  /* unfitted */\n",
       "  background: var(--sklearn-color-unfitted-level-0);\n",
       "  border: .5pt solid var(--sklearn-color-unfitted-level-3);\n",
       "}\n",
       "\n",
       ".sk-estimator-doc-link.fitted span {\n",
       "  /* fitted */\n",
       "  background: var(--sklearn-color-fitted-level-0);\n",
       "  border: var(--sklearn-color-fitted-level-3);\n",
       "}\n",
       "\n",
       ".sk-estimator-doc-link:hover span {\n",
       "  display: block;\n",
       "}\n",
       "\n",
       "/* \"?\"-specific style due to the `<a>` HTML tag */\n",
       "\n",
       "#sk-container-id-1 a.estimator_doc_link {\n",
       "  float: right;\n",
       "  font-size: 1rem;\n",
       "  line-height: 1em;\n",
       "  font-family: monospace;\n",
       "  background-color: var(--sklearn-color-background);\n",
       "  border-radius: 1rem;\n",
       "  height: 1rem;\n",
       "  width: 1rem;\n",
       "  text-decoration: none;\n",
       "  /* unfitted */\n",
       "  color: var(--sklearn-color-unfitted-level-1);\n",
       "  border: var(--sklearn-color-unfitted-level-1) 1pt solid;\n",
       "}\n",
       "\n",
       "#sk-container-id-1 a.estimator_doc_link.fitted {\n",
       "  /* fitted */\n",
       "  border: var(--sklearn-color-fitted-level-1) 1pt solid;\n",
       "  color: var(--sklearn-color-fitted-level-1);\n",
       "}\n",
       "\n",
       "/* On hover */\n",
       "#sk-container-id-1 a.estimator_doc_link:hover {\n",
       "  /* unfitted */\n",
       "  background-color: var(--sklearn-color-unfitted-level-3);\n",
       "  color: var(--sklearn-color-background);\n",
       "  text-decoration: none;\n",
       "}\n",
       "\n",
       "#sk-container-id-1 a.estimator_doc_link.fitted:hover {\n",
       "  /* fitted */\n",
       "  background-color: var(--sklearn-color-fitted-level-3);\n",
       "}\n",
       "</style><div id=\"sk-container-id-1\" class=\"sk-top-container\"><div class=\"sk-text-repr-fallback\"><pre>Pipeline(steps=[(&#x27;std&#x27;, StandardScaler()),\n",
       "                (&#x27;spline&#x27;, SplineTransformer(degree=1, n_knots=2)),\n",
       "                (&#x27;regressor&#x27;, LinearRegression())])</pre><b>In a Jupyter environment, please rerun this cell to show the HTML representation or trust the notebook. <br />On GitHub, the HTML representation is unable to render, please try loading this page with nbviewer.org.</b></div><div class=\"sk-container\" hidden><div class=\"sk-item sk-dashed-wrapped\"><div class=\"sk-label-container\"><div class=\"sk-label fitted sk-toggleable\"><input class=\"sk-toggleable__control sk-hidden--visually\" id=\"sk-estimator-id-1\" type=\"checkbox\" ><label for=\"sk-estimator-id-1\" class=\"sk-toggleable__label fitted sk-toggleable__label-arrow\"><div><div>Pipeline</div></div><div><a class=\"sk-estimator-doc-link fitted\" rel=\"noreferrer\" target=\"_blank\" href=\"https://scikit-learn.org/1.6/modules/generated/sklearn.pipeline.Pipeline.html\">?<span>Documentation for Pipeline</span></a><span class=\"sk-estimator-doc-link fitted\">i<span>Fitted</span></span></div></label><div class=\"sk-toggleable__content fitted\"><pre>Pipeline(steps=[(&#x27;std&#x27;, StandardScaler()),\n",
       "                (&#x27;spline&#x27;, SplineTransformer(degree=1, n_knots=2)),\n",
       "                (&#x27;regressor&#x27;, LinearRegression())])</pre></div> </div></div><div class=\"sk-serial\"><div class=\"sk-item\"><div class=\"sk-estimator fitted sk-toggleable\"><input class=\"sk-toggleable__control sk-hidden--visually\" id=\"sk-estimator-id-2\" type=\"checkbox\" ><label for=\"sk-estimator-id-2\" class=\"sk-toggleable__label fitted sk-toggleable__label-arrow\"><div><div>StandardScaler</div></div><div><a class=\"sk-estimator-doc-link fitted\" rel=\"noreferrer\" target=\"_blank\" href=\"https://scikit-learn.org/1.6/modules/generated/sklearn.preprocessing.StandardScaler.html\">?<span>Documentation for StandardScaler</span></a></div></label><div class=\"sk-toggleable__content fitted\"><pre>StandardScaler()</pre></div> </div></div><div class=\"sk-item\"><div class=\"sk-estimator fitted sk-toggleable\"><input class=\"sk-toggleable__control sk-hidden--visually\" id=\"sk-estimator-id-3\" type=\"checkbox\" ><label for=\"sk-estimator-id-3\" class=\"sk-toggleable__label fitted sk-toggleable__label-arrow\"><div><div>SplineTransformer</div></div><div><a class=\"sk-estimator-doc-link fitted\" rel=\"noreferrer\" target=\"_blank\" href=\"https://scikit-learn.org/1.6/modules/generated/sklearn.preprocessing.SplineTransformer.html\">?<span>Documentation for SplineTransformer</span></a></div></label><div class=\"sk-toggleable__content fitted\"><pre>SplineTransformer(degree=1, n_knots=2)</pre></div> </div></div><div class=\"sk-item\"><div class=\"sk-estimator fitted sk-toggleable\"><input class=\"sk-toggleable__control sk-hidden--visually\" id=\"sk-estimator-id-4\" type=\"checkbox\" ><label for=\"sk-estimator-id-4\" class=\"sk-toggleable__label fitted sk-toggleable__label-arrow\"><div><div>LinearRegression</div></div><div><a class=\"sk-estimator-doc-link fitted\" rel=\"noreferrer\" target=\"_blank\" href=\"https://scikit-learn.org/1.6/modules/generated/sklearn.linear_model.LinearRegression.html\">?<span>Documentation for LinearRegression</span></a></div></label><div class=\"sk-toggleable__content fitted\"><pre>LinearRegression()</pre></div> </div></div></div></div></div></div>"
      ],
      "text/plain": [
       "Pipeline(steps=[('std', StandardScaler()),\n",
       "                ('spline', SplineTransformer(degree=1, n_knots=2)),\n",
       "                ('regressor', LinearRegression())])"
      ]
     },
     "execution_count": 29,
     "metadata": {},
     "output_type": "execute_result"
    }
   ],
   "source": [
    "spineline_pipe.fit(X=X_de_train,y=y_de_train)"
   ]
  },
  {
   "cell_type": "code",
   "execution_count": 30,
   "metadata": {},
   "outputs": [],
   "source": [
    "pred_extreme=spineline_pipe.predict(X=X_test)"
   ]
  },
  {
   "cell_type": "code",
   "execution_count": 31,
   "metadata": {},
   "outputs": [],
   "source": [
    "pred_noextreme=spineline_pipe.predict(X_de_test)"
   ]
  },
  {
   "cell_type": "markdown",
   "metadata": {},
   "source": [
    "Graph for training without extreme, test with extreme. "
   ]
  },
  {
   "cell_type": "code",
   "execution_count": 32,
   "metadata": {},
   "outputs": [
    {
     "data": {
      "text/plain": [
       "25.518053545397255"
      ]
     },
     "execution_count": 32,
     "metadata": {},
     "output_type": "execute_result"
    }
   ],
   "source": [
    "mean_squared_error(y_pred=pred_extreme,y_true=y_test)"
   ]
  },
  {
   "cell_type": "code",
   "execution_count": 33,
   "metadata": {},
   "outputs": [
    {
     "data": {
      "text/plain": [
       "<function matplotlib.pyplot.show(close=None, block=None)>"
      ]
     },
     "execution_count": 33,
     "metadata": {},
     "output_type": "execute_result"
    },
    {
     "data": {
      "image/png": "[encoded data removed]",
      "text/plain": [
       "<Figure size 640x480 with 1 Axes>"
      ]
     },
     "metadata": {},
     "output_type": "display_data"
    }
   ],
   "source": [
    "plt.scatter(x=y_test,y=pred_extreme,c=\"b\",alpha=0.1,label=\"pred\")\n",
    "plt.scatter(x=y_test,y=y_test,c=\"r\",alpha=0.1,label=\"true\")\n",
    "plt.show"
   ]
  },
  {
   "cell_type": "markdown",
   "metadata": {},
   "source": [
    "Graph for training without extreme, test without extreme. "
   ]
  },
  {
   "cell_type": "code",
   "execution_count": 34,
   "metadata": {},
   "outputs": [
    {
     "data": {
      "text/plain": [
       "22.92451268912475"
      ]
     },
     "execution_count": 34,
     "metadata": {},
     "output_type": "execute_result"
    }
   ],
   "source": [
    "mean_squared_error(y_pred=pred_noextreme,y_true=y_de_test)"
   ]
  },
  {
   "cell_type": "code",
   "execution_count": 35,
   "metadata": {},
   "outputs": [
    {
     "data": {
      "text/plain": [
       "<function matplotlib.pyplot.show(close=None, block=None)>"
      ]
     },
     "execution_count": 35,
     "metadata": {},
     "output_type": "execute_result"
    },
    {
     "data": {
      "image/png": "[encoded data removed]",
      "text/plain": [
       "<Figure size 640x480 with 1 Axes>"
      ]
     },
     "metadata": {},
     "output_type": "display_data"
    }
   ],
   "source": [
    "plt.scatter(x=y_de_test,y=pred_noextreme,c=\"b\",alpha=0.1,label=\"pred\")\n",
    "plt.scatter(x=y_de_test,y=y_de_test,c=\"r\",alpha=0.1,label=\"true\")\n",
    "plt.show"
   ]
  },
  {
   "cell_type": "code",
   "execution_count": 36,
   "metadata": {},
   "outputs": [
    {
     "name": "stdout",
     "output_type": "stream",
     "text": [
      "The focused features, in order of importance are:\n",
      "\n",
      "ppi5182_monthly_pro_change_inf_adj\n",
      "----------------------------------\n",
      "\n",
      "ppi5132_monthly_pro_change_inf_adj\n",
      "----------------------------------\n",
      "\n",
      "fed_dff_daily\n",
      "----------------------------------\n",
      "\n",
      "cop_20days_prior_pro_change_inf_adj\n",
      "----------------------------------\n",
      "\n",
      "gold_20days_prior_pro_change_inf_adj\n",
      "----------------------------------\n",
      "\n",
      "ppi336_monthly_pro_change_inf_adj\n",
      "----------------------------------\n",
      "\n",
      "silv_20days_prior_pro_change_inf_adj\n",
      "----------------------------------\n",
      "\n",
      "ppi339_monthly_pro_change_inf_adj\n",
      "----------------------------------\n",
      "\n",
      "ppi332_monthly_pro_change_inf_adj\n",
      "----------------------------------\n",
      "\n",
      "ppi335_monthly_pro_change_inf_adj\n",
      "----------------------------------\n",
      "\n",
      "ppi334_monthly_pro_change_inf_adj\n",
      "----------------------------------\n",
      "\n",
      "ppi333_monthly_pro_change_inf_adj\n",
      "----------------------------------\n",
      "\n",
      "crude_oil_20days_prior_pro_change_inf_adj\n",
      "----------------------------------\n",
      "\n",
      "ppi335_monthly_pro_change_inf_adj\n",
      "crude_oil_20days_prior_pro_change_inf_adj\n",
      "----------------------------------\n",
      "\n",
      "ppi333_monthly_pro_change_inf_adj\n",
      "plat_20days_prior_pro_change_inf_adj\n",
      "----------------------------------\n",
      "\n"
     ]
    }
   ],
   "source": [
    "fo_feat=[[11],[10],[0],[12],[13],[6],[14],[7],[2],[5],[4],[3],[17],[5,17],[3,16]]\n",
    "feat_cols=X_train.columns\n",
    "\n",
    "print(\"The focused features, in order of importance are:\"+\"\\n\")\n",
    "for lst_feats in fo_feat: \n",
    "    for ind in lst_feats: \n",
    "        print(feat_cols[ind])\n",
    "    print(\"----------------------------------\"+\"\\n\")"
   ]
  },
  {
   "cell_type": "markdown",
   "metadata": {},
   "source": [
    "Actually not too bad if you look at the graphs. "
   ]
  },
  {
   "cell_type": "markdown",
   "metadata": {},
   "source": [
    "Then, the one trained with extreme values. "
   ]
  },
  {
   "cell_type": "code",
   "execution_count": 37,
   "metadata": {},
   "outputs": [],
   "source": [
    "spineline_pipe = Pipeline([\n",
    "    (\"std\", StandardScaler()),               # 1) Standardize features\n",
    "    (\"spline\", SplineTransformer(n_knots=2, degree=1)),\n",
    "    (\"regressor\", LinearRegression())        # 2) Fit a regression model\n",
    "])"
   ]
  },
  {
   "cell_type": "code",
   "execution_count": 38,
   "metadata": {},
   "outputs": [
    {
     "data": {
      "text/html": [
       "<style>#sk-container-id-2 {\n",
       "  /* Definition of color scheme common for light and dark mode */\n",
       "  --sklearn-color-text: #000;\n",
       "  --sklearn-color-text-muted: #666;\n",
       "  --sklearn-color-line: gray;\n",
       "  /* Definition of color scheme for unfitted estimators */\n",
       "  --sklearn-color-unfitted-level-0: #fff5e6;\n",
       "  --sklearn-color-unfitted-level-1: #f6e4d2;\n",
       "  --sklearn-color-unfitted-level-2: #ffe0b3;\n",
       "  --sklearn-color-unfitted-level-3: chocolate;\n",
       "  /* Definition of color scheme for fitted estimators */\n",
       "  --sklearn-color-fitted-level-0: #f0f8ff;\n",
       "  --sklearn-color-fitted-level-1: #d4ebff;\n",
       "  --sklearn-color-fitted-level-2: #b3dbfd;\n",
       "  --sklearn-color-fitted-level-3: cornflowerblue;\n",
       "\n",
       "  /* Specific color for light theme */\n",
       "  --sklearn-color-text-on-default-background: var(--sg-text-color, var(--theme-code-foreground, var(--jp-content-font-color1, black)));\n",
       "  --sklearn-color-background: var(--sg-background-color, var(--theme-background, var(--jp-layout-color0, white)));\n",
       "  --sklearn-color-border-box: var(--sg-text-color, var(--theme-code-foreground, var(--jp-content-font-color1, black)));\n",
       "  --sklearn-color-icon: #696969;\n",
       "\n",
       "  @media (prefers-color-scheme: dark) {\n",
       "    /* Redefinition of color scheme for dark theme */\n",
       "    --sklearn-color-text-on-default-background: var(--sg-text-color, var(--theme-code-foreground, var(--jp-content-font-color1, white)));\n",
       "    --sklearn-color-background: var(--sg-background-color, var(--theme-background, var(--jp-layout-color0, #111)));\n",
       "    --sklearn-color-border-box: var(--sg-text-color, var(--theme-code-foreground, var(--jp-content-font-color1, white)));\n",
       "    --sklearn-color-icon: #878787;\n",
       "  }\n",
       "}\n",
       "\n",
       "#sk-container-id-2 {\n",
       "  color: var(--sklearn-color-text);\n",
       "}\n",
       "\n",
       "#sk-container-id-2 pre {\n",
       "  padding: 0;\n",
       "}\n",
       "\n",
       "#sk-container-id-2 input.sk-hidden--visually {\n",
       "  border: 0;\n",
       "  clip: rect(1px 1px 1px 1px);\n",
       "  clip: rect(1px, 1px, 1px, 1px);\n",
       "  height: 1px;\n",
       "  margin: -1px;\n",
       "  overflow: hidden;\n",
       "  padding: 0;\n",
       "  position: absolute;\n",
       "  width: 1px;\n",
       "}\n",
       "\n",
       "#sk-container-id-2 div.sk-dashed-wrapped {\n",
       "  border: 1px dashed var(--sklearn-color-line);\n",
       "  margin: 0 0.4em 0.5em 0.4em;\n",
       "  box-sizing: border-box;\n",
       "  padding-bottom: 0.4em;\n",
       "  background-color: var(--sklearn-color-background);\n",
       "}\n",
       "\n",
       "#sk-container-id-2 div.sk-container {\n",
       "  /* jupyter's `normalize.less` sets `[hidden] { display: none; }`\n",
       "     but bootstrap.min.css set `[hidden] { display: none !important; }`\n",
       "     so we also need the `!important` here to be able to override the\n",
       "     default hidden behavior on the sphinx rendered scikit-learn.org.\n",
       "     See: https://github.com/scikit-learn/scikit-learn/issues/21755 */\n",
       "  display: inline-block !important;\n",
       "  position: relative;\n",
       "}\n",
       "\n",
       "#sk-container-id-2 div.sk-text-repr-fallback {\n",
       "  display: none;\n",
       "}\n",
       "\n",
       "div.sk-parallel-item,\n",
       "div.sk-serial,\n",
       "div.sk-item {\n",
       "  /* draw centered vertical line to link estimators */\n",
       "  background-image: linear-gradient(var(--sklearn-color-text-on-default-background), var(--sklearn-color-text-on-default-background));\n",
       "  background-size: 2px 100%;\n",
       "  background-repeat: no-repeat;\n",
       "  background-position: center center;\n",
       "}\n",
       "\n",
       "/* Parallel-specific style estimator block */\n",
       "\n",
       "#sk-container-id-2 div.sk-parallel-item::after {\n",
       "  content: \"\";\n",
       "  width: 100%;\n",
       "  border-bottom: 2px solid var(--sklearn-color-text-on-default-background);\n",
       "  flex-grow: 1;\n",
       "}\n",
       "\n",
       "#sk-container-id-2 div.sk-parallel {\n",
       "  display: flex;\n",
       "  align-items: stretch;\n",
       "  justify-content: center;\n",
       "  background-color: var(--sklearn-color-background);\n",
       "  position: relative;\n",
       "}\n",
       "\n",
       "#sk-container-id-2 div.sk-parallel-item {\n",
       "  display: flex;\n",
       "  flex-direction: column;\n",
       "}\n",
       "\n",
       "#sk-container-id-2 div.sk-parallel-item:first-child::after {\n",
       "  align-self: flex-end;\n",
       "  width: 50%;\n",
       "}\n",
       "\n",
       "#sk-container-id-2 div.sk-parallel-item:last-child::after {\n",
       "  align-self: flex-start;\n",
       "  width: 50%;\n",
       "}\n",
       "\n",
       "#sk-container-id-2 div.sk-parallel-item:only-child::after {\n",
       "  width: 0;\n",
       "}\n",
       "\n",
       "/* Serial-specific style estimator block */\n",
       "\n",
       "#sk-container-id-2 div.sk-serial {\n",
       "  display: flex;\n",
       "  flex-direction: column;\n",
       "  align-items: center;\n",
       "  background-color: var(--sklearn-color-background);\n",
       "  padding-right: 1em;\n",
       "  padding-left: 1em;\n",
       "}\n",
       "\n",
       "\n",
       "/* Toggleable style: style used for estimator/Pipeline/ColumnTransformer box that is\n",
       "clickable and can be expanded/collapsed.\n",
       "- Pipeline and ColumnTransformer use this feature and define the default style\n",
       "- Estimators will overwrite some part of the style using the `sk-estimator` class\n",
       "*/\n",
       "\n",
       "/* Pipeline and ColumnTransformer style (default) */\n",
       "\n",
       "#sk-container-id-2 div.sk-toggleable {\n",
       "  /* Default theme specific background. It is overwritten whether we have a\n",
       "  specific estimator or a Pipeline/ColumnTransformer */\n",
       "  background-color: var(--sklearn-color-background);\n",
       "}\n",
       "\n",
       "/* Toggleable label */\n",
       "#sk-container-id-2 label.sk-toggleable__label {\n",
       "  cursor: pointer;\n",
       "  display: flex;\n",
       "  width: 100%;\n",
       "  margin-bottom: 0;\n",
       "  padding: 0.5em;\n",
       "  box-sizing: border-box;\n",
       "  text-align: center;\n",
       "  align-items: start;\n",
       "  justify-content: space-between;\n",
       "  gap: 0.5em;\n",
       "}\n",
       "\n",
       "#sk-container-id-2 label.sk-toggleable__label .caption {\n",
       "  font-size: 0.6rem;\n",
       "  font-weight: lighter;\n",
       "  color: var(--sklearn-color-text-muted);\n",
       "}\n",
       "\n",
       "#sk-container-id-2 label.sk-toggleable__label-arrow:before {\n",
       "  /* Arrow on the left of the label */\n",
       "  content: \"▸\";\n",
       "  float: left;\n",
       "  margin-right: 0.25em;\n",
       "  color: var(--sklearn-color-icon);\n",
       "}\n",
       "\n",
       "#sk-container-id-2 label.sk-toggleable__label-arrow:hover:before {\n",
       "  color: var(--sklearn-color-text);\n",
       "}\n",
       "\n",
       "/* Toggleable content - dropdown */\n",
       "\n",
       "#sk-container-id-2 div.sk-toggleable__content {\n",
       "  max-height: 0;\n",
       "  max-width: 0;\n",
       "  overflow: hidden;\n",
       "  text-align: left;\n",
       "  /* unfitted */\n",
       "  background-color: var(--sklearn-color-unfitted-level-0);\n",
       "}\n",
       "\n",
       "#sk-container-id-2 div.sk-toggleable__content.fitted {\n",
       "  /* fitted */\n",
       "  background-color: var(--sklearn-color-fitted-level-0);\n",
       "}\n",
       "\n",
       "#sk-container-id-2 div.sk-toggleable__content pre {\n",
       "  margin: 0.2em;\n",
       "  border-radius: 0.25em;\n",
       "  color: var(--sklearn-color-text);\n",
       "  /* unfitted */\n",
       "  background-color: var(--sklearn-color-unfitted-level-0);\n",
       "}\n",
       "\n",
       "#sk-container-id-2 div.sk-toggleable__content.fitted pre {\n",
       "  /* unfitted */\n",
       "  background-color: var(--sklearn-color-fitted-level-0);\n",
       "}\n",
       "\n",
       "#sk-container-id-2 input.sk-toggleable__control:checked~div.sk-toggleable__content {\n",
       "  /* Expand drop-down */\n",
       "  max-height: 200px;\n",
       "  max-width: 100%;\n",
       "  overflow: auto;\n",
       "}\n",
       "\n",
       "#sk-container-id-2 input.sk-toggleable__control:checked~label.sk-toggleable__label-arrow:before {\n",
       "  content: \"▾\";\n",
       "}\n",
       "\n",
       "/* Pipeline/ColumnTransformer-specific style */\n",
       "\n",
       "#sk-container-id-2 div.sk-label input.sk-toggleable__control:checked~label.sk-toggleable__label {\n",
       "  color: var(--sklearn-color-text);\n",
       "  background-color: var(--sklearn-color-unfitted-level-2);\n",
       "}\n",
       "\n",
       "#sk-container-id-2 div.sk-label.fitted input.sk-toggleable__control:checked~label.sk-toggleable__label {\n",
       "  background-color: var(--sklearn-color-fitted-level-2);\n",
       "}\n",
       "\n",
       "/* Estimator-specific style */\n",
       "\n",
       "/* Colorize estimator box */\n",
       "#sk-container-id-2 div.sk-estimator input.sk-toggleable__control:checked~label.sk-toggleable__label {\n",
       "  /* unfitted */\n",
       "  background-color: var(--sklearn-color-unfitted-level-2);\n",
       "}\n",
       "\n",
       "#sk-container-id-2 div.sk-estimator.fitted input.sk-toggleable__control:checked~label.sk-toggleable__label {\n",
       "  /* fitted */\n",
       "  background-color: var(--sklearn-color-fitted-level-2);\n",
       "}\n",
       "\n",
       "#sk-container-id-2 div.sk-label label.sk-toggleable__label,\n",
       "#sk-container-id-2 div.sk-label label {\n",
       "  /* The background is the default theme color */\n",
       "  color: var(--sklearn-color-text-on-default-background);\n",
       "}\n",
       "\n",
       "/* On hover, darken the color of the background */\n",
       "#sk-container-id-2 div.sk-label:hover label.sk-toggleable__label {\n",
       "  color: var(--sklearn-color-text);\n",
       "  background-color: var(--sklearn-color-unfitted-level-2);\n",
       "}\n",
       "\n",
       "/* Label box, darken color on hover, fitted */\n",
       "#sk-container-id-2 div.sk-label.fitted:hover label.sk-toggleable__label.fitted {\n",
       "  color: var(--sklearn-color-text);\n",
       "  background-color: var(--sklearn-color-fitted-level-2);\n",
       "}\n",
       "\n",
       "/* Estimator label */\n",
       "\n",
       "#sk-container-id-2 div.sk-label label {\n",
       "  font-family: monospace;\n",
       "  font-weight: bold;\n",
       "  display: inline-block;\n",
       "  line-height: 1.2em;\n",
       "}\n",
       "\n",
       "#sk-container-id-2 div.sk-label-container {\n",
       "  text-align: center;\n",
       "}\n",
       "\n",
       "/* Estimator-specific */\n",
       "#sk-container-id-2 div.sk-estimator {\n",
       "  font-family: monospace;\n",
       "  border: 1px dotted var(--sklearn-color-border-box);\n",
       "  border-radius: 0.25em;\n",
       "  box-sizing: border-box;\n",
       "  margin-bottom: 0.5em;\n",
       "  /* unfitted */\n",
       "  background-color: var(--sklearn-color-unfitted-level-0);\n",
       "}\n",
       "\n",
       "#sk-container-id-2 div.sk-estimator.fitted {\n",
       "  /* fitted */\n",
       "  background-color: var(--sklearn-color-fitted-level-0);\n",
       "}\n",
       "\n",
       "/* on hover */\n",
       "#sk-container-id-2 div.sk-estimator:hover {\n",
       "  /* unfitted */\n",
       "  background-color: var(--sklearn-color-unfitted-level-2);\n",
       "}\n",
       "\n",
       "#sk-container-id-2 div.sk-estimator.fitted:hover {\n",
       "  /* fitted */\n",
       "  background-color: var(--sklearn-color-fitted-level-2);\n",
       "}\n",
       "\n",
       "/* Specification for estimator info (e.g. \"i\" and \"?\") */\n",
       "\n",
       "/* Common style for \"i\" and \"?\" */\n",
       "\n",
       ".sk-estimator-doc-link,\n",
       "a:link.sk-estimator-doc-link,\n",
       "a:visited.sk-estimator-doc-link {\n",
       "  float: right;\n",
       "  font-size: smaller;\n",
       "  line-height: 1em;\n",
       "  font-family: monospace;\n",
       "  background-color: var(--sklearn-color-background);\n",
       "  border-radius: 1em;\n",
       "  height: 1em;\n",
       "  width: 1em;\n",
       "  text-decoration: none !important;\n",
       "  margin-left: 0.5em;\n",
       "  text-align: center;\n",
       "  /* unfitted */\n",
       "  border: var(--sklearn-color-unfitted-level-1) 1pt solid;\n",
       "  color: var(--sklearn-color-unfitted-level-1);\n",
       "}\n",
       "\n",
       ".sk-estimator-doc-link.fitted,\n",
       "a:link.sk-estimator-doc-link.fitted,\n",
       "a:visited.sk-estimator-doc-link.fitted {\n",
       "  /* fitted */\n",
       "  border: var(--sklearn-color-fitted-level-1) 1pt solid;\n",
       "  color: var(--sklearn-color-fitted-level-1);\n",
       "}\n",
       "\n",
       "/* On hover */\n",
       "div.sk-estimator:hover .sk-estimator-doc-link:hover,\n",
       ".sk-estimator-doc-link:hover,\n",
       "div.sk-label-container:hover .sk-estimator-doc-link:hover,\n",
       ".sk-estimator-doc-link:hover {\n",
       "  /* unfitted */\n",
       "  background-color: var(--sklearn-color-unfitted-level-3);\n",
       "  color: var(--sklearn-color-background);\n",
       "  text-decoration: none;\n",
       "}\n",
       "\n",
       "div.sk-estimator.fitted:hover .sk-estimator-doc-link.fitted:hover,\n",
       ".sk-estimator-doc-link.fitted:hover,\n",
       "div.sk-label-container:hover .sk-estimator-doc-link.fitted:hover,\n",
       ".sk-estimator-doc-link.fitted:hover {\n",
       "  /* fitted */\n",
       "  background-color: var(--sklearn-color-fitted-level-3);\n",
       "  color: var(--sklearn-color-background);\n",
       "  text-decoration: none;\n",
       "}\n",
       "\n",
       "/* Span, style for the box shown on hovering the info icon */\n",
       ".sk-estimator-doc-link span {\n",
       "  display: none;\n",
       "  z-index: 9999;\n",
       "  position: relative;\n",
       "  font-weight: normal;\n",
       "  right: .2ex;\n",
       "  padding: .5ex;\n",
       "  margin: .5ex;\n",
       "  width: min-content;\n",
       "  min-width: 20ex;\n",
       "  max-width: 50ex;\n",
       "  color: var(--sklearn-color-text);\n",
       "  box-shadow: 2pt 2pt 4pt #999;\n",
       "  /* unfitted */\n",
       "  background: var(--sklearn-color-unfitted-level-0);\n",
       "  border: .5pt solid var(--sklearn-color-unfitted-level-3);\n",
       "}\n",
       "\n",
       ".sk-estimator-doc-link.fitted span {\n",
       "  /* fitted */\n",
       "  background: var(--sklearn-color-fitted-level-0);\n",
       "  border: var(--sklearn-color-fitted-level-3);\n",
       "}\n",
       "\n",
       ".sk-estimator-doc-link:hover span {\n",
       "  display: block;\n",
       "}\n",
       "\n",
       "/* \"?\"-specific style due to the `<a>` HTML tag */\n",
       "\n",
       "#sk-container-id-2 a.estimator_doc_link {\n",
       "  float: right;\n",
       "  font-size: 1rem;\n",
       "  line-height: 1em;\n",
       "  font-family: monospace;\n",
       "  background-color: var(--sklearn-color-background);\n",
       "  border-radius: 1rem;\n",
       "  height: 1rem;\n",
       "  width: 1rem;\n",
       "  text-decoration: none;\n",
       "  /* unfitted */\n",
       "  color: var(--sklearn-color-unfitted-level-1);\n",
       "  border: var(--sklearn-color-unfitted-level-1) 1pt solid;\n",
       "}\n",
       "\n",
       "#sk-container-id-2 a.estimator_doc_link.fitted {\n",
       "  /* fitted */\n",
       "  border: var(--sklearn-color-fitted-level-1) 1pt solid;\n",
       "  color: var(--sklearn-color-fitted-level-1);\n",
       "}\n",
       "\n",
       "/* On hover */\n",
       "#sk-container-id-2 a.estimator_doc_link:hover {\n",
       "  /* unfitted */\n",
       "  background-color: var(--sklearn-color-unfitted-level-3);\n",
       "  color: var(--sklearn-color-background);\n",
       "  text-decoration: none;\n",
       "}\n",
       "\n",
       "#sk-container-id-2 a.estimator_doc_link.fitted:hover {\n",
       "  /* fitted */\n",
       "  background-color: var(--sklearn-color-fitted-level-3);\n",
       "}\n",
       "</style><div id=\"sk-container-id-2\" class=\"sk-top-container\"><div class=\"sk-text-repr-fallback\"><pre>Pipeline(steps=[(&#x27;std&#x27;, StandardScaler()),\n",
       "                (&#x27;spline&#x27;, SplineTransformer(degree=1, n_knots=2)),\n",
       "                (&#x27;regressor&#x27;, LinearRegression())])</pre><b>In a Jupyter environment, please rerun this cell to show the HTML representation or trust the notebook. <br />On GitHub, the HTML representation is unable to render, please try loading this page with nbviewer.org.</b></div><div class=\"sk-container\" hidden><div class=\"sk-item sk-dashed-wrapped\"><div class=\"sk-label-container\"><div class=\"sk-label fitted sk-toggleable\"><input class=\"sk-toggleable__control sk-hidden--visually\" id=\"sk-estimator-id-5\" type=\"checkbox\" ><label for=\"sk-estimator-id-5\" class=\"sk-toggleable__label fitted sk-toggleable__label-arrow\"><div><div>Pipeline</div></div><div><a class=\"sk-estimator-doc-link fitted\" rel=\"noreferrer\" target=\"_blank\" href=\"https://scikit-learn.org/1.6/modules/generated/sklearn.pipeline.Pipeline.html\">?<span>Documentation for Pipeline</span></a><span class=\"sk-estimator-doc-link fitted\">i<span>Fitted</span></span></div></label><div class=\"sk-toggleable__content fitted\"><pre>Pipeline(steps=[(&#x27;std&#x27;, StandardScaler()),\n",
       "                (&#x27;spline&#x27;, SplineTransformer(degree=1, n_knots=2)),\n",
       "                (&#x27;regressor&#x27;, LinearRegression())])</pre></div> </div></div><div class=\"sk-serial\"><div class=\"sk-item\"><div class=\"sk-estimator fitted sk-toggleable\"><input class=\"sk-toggleable__control sk-hidden--visually\" id=\"sk-estimator-id-6\" type=\"checkbox\" ><label for=\"sk-estimator-id-6\" class=\"sk-toggleable__label fitted sk-toggleable__label-arrow\"><div><div>StandardScaler</div></div><div><a class=\"sk-estimator-doc-link fitted\" rel=\"noreferrer\" target=\"_blank\" href=\"https://scikit-learn.org/1.6/modules/generated/sklearn.preprocessing.StandardScaler.html\">?<span>Documentation for StandardScaler</span></a></div></label><div class=\"sk-toggleable__content fitted\"><pre>StandardScaler()</pre></div> </div></div><div class=\"sk-item\"><div class=\"sk-estimator fitted sk-toggleable\"><input class=\"sk-toggleable__control sk-hidden--visually\" id=\"sk-estimator-id-7\" type=\"checkbox\" ><label for=\"sk-estimator-id-7\" class=\"sk-toggleable__label fitted sk-toggleable__label-arrow\"><div><div>SplineTransformer</div></div><div><a class=\"sk-estimator-doc-link fitted\" rel=\"noreferrer\" target=\"_blank\" href=\"https://scikit-learn.org/1.6/modules/generated/sklearn.preprocessing.SplineTransformer.html\">?<span>Documentation for SplineTransformer</span></a></div></label><div class=\"sk-toggleable__content fitted\"><pre>SplineTransformer(degree=1, n_knots=2)</pre></div> </div></div><div class=\"sk-item\"><div class=\"sk-estimator fitted sk-toggleable\"><input class=\"sk-toggleable__control sk-hidden--visually\" id=\"sk-estimator-id-8\" type=\"checkbox\" ><label for=\"sk-estimator-id-8\" class=\"sk-toggleable__label fitted sk-toggleable__label-arrow\"><div><div>LinearRegression</div></div><div><a class=\"sk-estimator-doc-link fitted\" rel=\"noreferrer\" target=\"_blank\" href=\"https://scikit-learn.org/1.6/modules/generated/sklearn.linear_model.LinearRegression.html\">?<span>Documentation for LinearRegression</span></a></div></label><div class=\"sk-toggleable__content fitted\"><pre>LinearRegression()</pre></div> </div></div></div></div></div></div>"
      ],
      "text/plain": [
       "Pipeline(steps=[('std', StandardScaler()),\n",
       "                ('spline', SplineTransformer(degree=1, n_knots=2)),\n",
       "                ('regressor', LinearRegression())])"
      ]
     },
     "execution_count": 38,
     "metadata": {},
     "output_type": "execute_result"
    }
   ],
   "source": [
    "spineline_pipe.fit(X=X_train,y=y_train)"
   ]
  },
  {
   "cell_type": "code",
   "execution_count": 39,
   "metadata": {},
   "outputs": [],
   "source": [
    "pred_extreme=spineline_pipe.predict(X=X_test)"
   ]
  },
  {
   "cell_type": "code",
   "execution_count": 40,
   "metadata": {},
   "outputs": [],
   "source": [
    "pred_noextreme=spineline_pipe.predict(X_de_test)"
   ]
  },
  {
   "cell_type": "markdown",
   "metadata": {},
   "source": [
    "The graph for training with extreme, test with extreme: "
   ]
  },
  {
   "cell_type": "code",
   "execution_count": 41,
   "metadata": {},
   "outputs": [
    {
     "data": {
      "text/plain": [
       "25.75188834708212"
      ]
     },
     "execution_count": 41,
     "metadata": {},
     "output_type": "execute_result"
    }
   ],
   "source": [
    "mean_squared_error(y_pred=pred_extreme,y_true=y_test)"
   ]
  },
  {
   "cell_type": "code",
   "execution_count": 42,
   "metadata": {},
   "outputs": [
    {
     "data": {
      "text/plain": [
       "<function matplotlib.pyplot.show(close=None, block=None)>"
      ]
     },
     "execution_count": 42,
     "metadata": {},
     "output_type": "execute_result"
    },
    {
     "data": {
      "image/png": "[encoded data removed]",
      "text/plain": [
       "<Figure size 640x480 with 1 Axes>"
      ]
     },
     "metadata": {},
     "output_type": "display_data"
    }
   ],
   "source": [
    "plt.scatter(x=y_test,y=pred_extreme,c=\"b\",alpha=0.1)\n",
    "plt.scatter(x=y_test,y=y_test,c=\"r\",alpha=0.1)\n",
    "plt.show"
   ]
  },
  {
   "cell_type": "markdown",
   "metadata": {},
   "source": [
    "The graph for training with extreme, test without extreme: "
   ]
  },
  {
   "cell_type": "code",
   "execution_count": 43,
   "metadata": {},
   "outputs": [
    {
     "data": {
      "text/plain": [
       "23.327792137507924"
      ]
     },
     "execution_count": 43,
     "metadata": {},
     "output_type": "execute_result"
    }
   ],
   "source": [
    "mean_squared_error(y_pred=pred_noextreme,y_true=y_de_test)"
   ]
  },
  {
   "cell_type": "code",
   "execution_count": 44,
   "metadata": {},
   "outputs": [
    {
     "data": {
      "text/plain": [
       "<function matplotlib.pyplot.show(close=None, block=None)>"
      ]
     },
     "execution_count": 44,
     "metadata": {},
     "output_type": "execute_result"
    },
    {
     "data": {
      "image/png": "[encoded data removed]",
      "text/plain": [
       "<Figure size 640x480 with 1 Axes>"
      ]
     },
     "metadata": {},
     "output_type": "display_data"
    }
   ],
   "source": [
    "plt.scatter(x=y_de_test,y=pred_noextreme,c=\"b\",alpha=0.1)\n",
    "plt.scatter(x=y_de_test,y=y_de_test,c=\"r\",alpha=0.1)\n",
    "plt.show"
   ]
  },
  {
   "cell_type": "code",
   "execution_count": 45,
   "metadata": {},
   "outputs": [
    {
     "name": "stdout",
     "output_type": "stream",
     "text": [
      "The focused features, in order of importance are:\n",
      "\n",
      "ppi5182_monthly_pro_change_inf_adj\n",
      "----------------------------------\n",
      "\n",
      "ppi5132_monthly_pro_change_inf_adj\n",
      "----------------------------------\n",
      "\n",
      "cop_20days_prior_pro_change_inf_adj\n",
      "----------------------------------\n",
      "\n",
      "fed_dff_daily\n",
      "----------------------------------\n",
      "\n",
      "gold_20days_prior_pro_change_inf_adj\n",
      "----------------------------------\n",
      "\n",
      "ppi336_monthly_pro_change_inf_adj\n",
      "----------------------------------\n",
      "\n",
      "silv_20days_prior_pro_change_inf_adj\n",
      "----------------------------------\n",
      "\n",
      "ppi332_monthly_pro_change_inf_adj\n",
      "----------------------------------\n",
      "\n",
      "ppi335_monthly_pro_change_inf_adj\n",
      "----------------------------------\n",
      "\n",
      "ppi334_monthly_pro_change_inf_adj\n",
      "----------------------------------\n",
      "\n",
      "ppi339_monthly_pro_change_inf_adj\n",
      "----------------------------------\n",
      "\n",
      "ppi333_monthly_pro_change_inf_adj\n",
      "----------------------------------\n",
      "\n",
      "crude_oil_20days_prior_pro_change_inf_adj\n",
      "----------------------------------\n",
      "\n",
      "fed_dff_daily\n",
      "gold_20days_prior_pro_change_inf_adj\n",
      "----------------------------------\n",
      "\n",
      "ppi5182_monthly_pro_change_inf_adj\n",
      "gold_20days_prior_pro_change_inf_adj\n",
      "----------------------------------\n",
      "\n"
     ]
    }
   ],
   "source": [
    "fo_feat=[[11],[10],[12],[0],[13],[6],[14],[2],[5],[4],[7],[3],[17],[0,13],[11,13]]\n",
    "feat_cols=X_train.columns\n",
    "\n",
    "print(\"The focused features, in order of importance are:\"+\"\\n\")\n",
    "for lst_feats in fo_feat: \n",
    "    for ind in lst_feats: \n",
    "        print(feat_cols[ind])\n",
    "    print(\"----------------------------------\"+\"\\n\")"
   ]
  },
  {
   "cell_type": "markdown",
   "metadata": {},
   "source": [
    "Not very bad again if you look at the graph. "
   ]
  },
  {
   "cell_type": "markdown",
   "metadata": {},
   "source": [
    "It seems more sifting does cause worse effect on whole test set, but it also seems to reduce error in the test set with no extreme values, let's try that out as well. "
   ]
  },
  {
   "cell_type": "code",
   "execution_count": 46,
   "metadata": {},
   "outputs": [],
   "source": [
    "all_data_extended = all_data.copy(deep=True)\n",
    "for int_extend in range(4): \n",
    "    if int_extend != 0: \n",
    "        for col in lst_cols_shift: \n",
    "            all_data_extended=data_shifting.shifter(df_in=all_data_extended,str_col=col,int_shift=int_extend*20)\n",
    "all_data_extended_train=all_data_extended[all_data_extended[\"Date\"]<\"2024-01-01\"].dropna()\n",
    "all_data_extended_train_de=drop_extreme.drop_by_sort(df_in=all_data_extended_train,fl_low=0.001,fl_high=0.999)\n",
    "all_data_extended_test=all_data_extended[all_data_extended[\"Date\"]>=\"2024-01-01\"].dropna()\n",
    "all_data_extended_test_de=drop_extreme.drop_by_sort(df_in=all_data_extended_test,fl_low=0.01,fl_high=0.99)\n",
    "X_train=all_data_extended_train.iloc[:,2:]\n",
    "y_train=all_data_extended_train.iloc[:,1]\n",
    "X_de_train=all_data_extended_train_de.iloc[:,2:]\n",
    "y_de_train=all_data_extended_train_de.iloc[:,1]\n",
    "X_test=all_data_extended_test.iloc[:,2:]\n",
    "y_test=all_data_extended_test.iloc[:,1]\n",
    "X_de_test=all_data_extended_test_de.iloc[:,2:]\n",
    "y_de_test=all_data_extended_test_de.iloc[:,1]"
   ]
  },
  {
   "cell_type": "markdown",
   "metadata": {},
   "source": [
    "First train without extreme values. "
   ]
  },
  {
   "cell_type": "code",
   "execution_count": 47,
   "metadata": {},
   "outputs": [],
   "source": [
    "spineline_pipe = Pipeline([\n",
    "    (\"std\", StandardScaler()),                  # standardize features\n",
    "    (\"spline\", SplineTransformer(n_knots=2, degree=1)),\n",
    "    (\"regressor\", LinearRegression())           # final estimator\n",
    "])\n",
    "spineline_pipe.fit(X=X_de_train,y=y_de_train)\n",
    "pred_extreme=spineline_pipe.predict(X=X_test)\n",
    "mse_extreme=mean_squared_error(y_pred=pred_extreme,y_true=y_test)\n",
    "pred_noextreme=spineline_pipe.predict(X=X_de_test)\n",
    "mse_noextreme=mean_squared_error(y_pred=pred_noextreme,y_true=y_de_test)"
   ]
  },
  {
   "cell_type": "markdown",
   "metadata": {},
   "source": [
    "Test on test set with extreme value: "
   ]
  },
  {
   "cell_type": "code",
   "execution_count": 48,
   "metadata": {},
   "outputs": [
    {
     "data": {
      "text/plain": [
       "42.00448281729663"
      ]
     },
     "execution_count": 48,
     "metadata": {},
     "output_type": "execute_result"
    }
   ],
   "source": [
    "mse_extreme"
   ]
  },
  {
   "cell_type": "code",
   "execution_count": 49,
   "metadata": {},
   "outputs": [
    {
     "data": {
      "image/png": "[encoded data removed]",
      "text/plain": [
       "<Figure size 640x480 with 1 Axes>"
      ]
     },
     "metadata": {},
     "output_type": "display_data"
    }
   ],
   "source": [
    "plt.scatter(x=y_test,y=y_test,c=\"r\",alpha=0.1,label=\"true\")\n",
    "plt.scatter(x=y_test,y=pred_extreme,c=\"b\",alpha=0.1,label=\"pred\")\n",
    "plt.show()"
   ]
  },
  {
   "cell_type": "markdown",
   "metadata": {},
   "source": [
    "Test on test set without extreme value: "
   ]
  },
  {
   "cell_type": "code",
   "execution_count": 50,
   "metadata": {},
   "outputs": [
    {
     "data": {
      "text/plain": [
       "41.35163723578369"
      ]
     },
     "execution_count": 50,
     "metadata": {},
     "output_type": "execute_result"
    }
   ],
   "source": [
    "mse_noextreme"
   ]
  },
  {
   "cell_type": "code",
   "execution_count": 51,
   "metadata": {},
   "outputs": [
    {
     "data": {
      "image/png": "[encoded data removed]",
      "text/plain": [
       "<Figure size 640x480 with 1 Axes>"
      ]
     },
     "metadata": {},
     "output_type": "display_data"
    }
   ],
   "source": [
    "plt.scatter(x=y_de_test,y=y_de_test,c=\"r\",alpha=0.1,label=\"true\")\n",
    "plt.scatter(x=y_de_test,y=pred_noextreme,c=\"b\",alpha=0.1,label=\"pred\")\n",
    "plt.show()"
   ]
  },
  {
   "cell_type": "code",
   "execution_count": 52,
   "metadata": {},
   "outputs": [
    {
     "name": "stdout",
     "output_type": "stream",
     "text": [
      "The focused features, in order of importance are:\n",
      "\n",
      "tech_index_20days_prior_pro_change_inf_adj_shifted_by_20\n",
      "----------------------------------\n",
      "\n",
      "cop_20days_prior_pro_change_inf_adj\n",
      "----------------------------------\n",
      "\n",
      "fed_dff_daily_shifted_by_20\n",
      "----------------------------------\n",
      "\n",
      "tech_index_20days_prior_pro_change_inf_adj_shifted_by_40\n",
      "----------------------------------\n",
      "\n",
      "gold_20days_prior_pro_change_inf_adj\n",
      "----------------------------------\n",
      "\n",
      "ppi5182_monthly_pro_change_inf_adj\n",
      "----------------------------------\n",
      "\n",
      "crude_oil_20days_prior_pro_change_inf_adj\n",
      "----------------------------------\n",
      "\n",
      "plat_20days_prior_pro_change_inf_adj\n",
      "----------------------------------\n",
      "\n",
      "ppi5132_monthly_pro_change_inf_adj\n",
      "----------------------------------\n",
      "\n",
      "ppi517_monthly_pro_change_inf_adj_shifted_by_60\n",
      "----------------------------------\n",
      "\n",
      "crude_oil_20days_prior_pro_change_inf_adj_shifted_by_40\n",
      "----------------------------------\n",
      "\n",
      "ppi339_monthly_pro_change_inf_adj_shifted_by_40\n",
      "----------------------------------\n",
      "\n",
      "ppi5132_monthly_pro_change_inf_adj_shifted_by_60\n",
      "----------------------------------\n",
      "\n",
      "ppi332_monthly_pro_change_inf_adj_shifted_by_40\n",
      "----------------------------------\n",
      "\n",
      "fed_dff_daily_shifted_by_60\n",
      "----------------------------------\n",
      "\n"
     ]
    }
   ],
   "source": [
    "fo_feat=[[18],[12],[19],[37],[13],[11],[17],[16],[10],[66],[55],[45],[67],[40],[57]]\n",
    "feat_cols=X_train.columns\n",
    "\n",
    "print(\"The focused features, in order of importance are:\"+\"\\n\")\n",
    "for lst_feats in fo_feat: \n",
    "    for ind in lst_feats: \n",
    "        print(feat_cols[ind])\n",
    "    print(\"----------------------------------\"+\"\\n\")"
   ]
  },
  {
   "cell_type": "markdown",
   "metadata": {},
   "source": [
    "Seems to have a better \"trend\". "
   ]
  },
  {
   "cell_type": "markdown",
   "metadata": {},
   "source": [
    "Then train with extreme values."
   ]
  },
  {
   "cell_type": "code",
   "execution_count": 53,
   "metadata": {},
   "outputs": [],
   "source": [
    "spineline_pipe = Pipeline([\n",
    "    (\"std\", StandardScaler()),                  # standardize features\n",
    "    (\"spline\", SplineTransformer(n_knots=2, degree=1)),\n",
    "    (\"regressor\", LinearRegression())           # final estimator\n",
    "])\n",
    "spineline_pipe.fit(X=X_train,y=y_train)\n",
    "pred_extreme=spineline_pipe.predict(X=X_test)\n",
    "mse_extreme=mean_squared_error(y_pred=pred_extreme,y_true=y_test)\n",
    "pred_noextreme=spineline_pipe.predict(X=X_de_test)\n",
    "mse_noextreme=mean_squared_error(y_pred=pred_noextreme,y_true=y_de_test)"
   ]
  },
  {
   "cell_type": "markdown",
   "metadata": {},
   "source": [
    "Test without extreme value: "
   ]
  },
  {
   "cell_type": "code",
   "execution_count": 54,
   "metadata": {},
   "outputs": [
    {
     "data": {
      "text/plain": [
       "44.7825778654072"
      ]
     },
     "execution_count": 54,
     "metadata": {},
     "output_type": "execute_result"
    }
   ],
   "source": [
    "mse_extreme"
   ]
  },
  {
   "cell_type": "code",
   "execution_count": 55,
   "metadata": {},
   "outputs": [
    {
     "data": {
      "image/png": "[encoded data removed]",
      "text/plain": [
       "<Figure size 640x480 with 1 Axes>"
      ]
     },
     "metadata": {},
     "output_type": "display_data"
    }
   ],
   "source": [
    "plt.scatter(x=y_test,y=y_test,c=\"r\",alpha=0.1,label=\"true\")\n",
    "plt.scatter(x=y_test,y=pred_extreme,c=\"b\",alpha=0.1,label=\"pred\")\n",
    "plt.show()"
   ]
  },
  {
   "cell_type": "markdown",
   "metadata": {},
   "source": [
    "Test with extreme value: "
   ]
  },
  {
   "cell_type": "code",
   "execution_count": 56,
   "metadata": {},
   "outputs": [
    {
     "data": {
      "text/plain": [
       "44.91056051735737"
      ]
     },
     "execution_count": 56,
     "metadata": {},
     "output_type": "execute_result"
    }
   ],
   "source": [
    "mse_noextreme"
   ]
  },
  {
   "cell_type": "code",
   "execution_count": 57,
   "metadata": {},
   "outputs": [
    {
     "data": {
      "image/png": "[encoded data removed]",
      "text/plain": [
       "<Figure size 640x480 with 1 Axes>"
      ]
     },
     "metadata": {},
     "output_type": "display_data"
    }
   ],
   "source": [
    "plt.scatter(x=y_de_test,y=y_de_test,c=\"r\",alpha=0.1,label=\"true\")\n",
    "plt.scatter(x=y_de_test,y=pred_noextreme,c=\"b\",alpha=0.1,label=\"pred\")\n",
    "plt.show()"
   ]
  },
  {
   "cell_type": "code",
   "execution_count": 58,
   "metadata": {},
   "outputs": [
    {
     "name": "stdout",
     "output_type": "stream",
     "text": [
      "The focused features, in order of importance are:\n",
      "\n",
      "tech_index_20days_prior_pro_change_inf_adj_shifted_by_20\n",
      "----------------------------------\n",
      "\n",
      "cop_20days_prior_pro_change_inf_adj\n",
      "----------------------------------\n",
      "\n",
      "fed_dff_daily_shifted_by_20\n",
      "----------------------------------\n",
      "\n",
      "tech_index_20days_prior_pro_change_inf_adj_shifted_by_40\n",
      "----------------------------------\n",
      "\n",
      "gold_20days_prior_pro_change_inf_adj\n",
      "----------------------------------\n",
      "\n",
      "crude_oil_20days_prior_pro_change_inf_adj\n",
      "----------------------------------\n",
      "\n",
      "ppi5182_monthly_pro_change_inf_adj\n",
      "----------------------------------\n",
      "\n",
      "plat_20days_prior_pro_change_inf_adj\n",
      "----------------------------------\n",
      "\n",
      "ppi5132_monthly_pro_change_inf_adj\n",
      "----------------------------------\n",
      "\n",
      "ppi517_monthly_pro_change_inf_adj_shifted_by_60\n",
      "----------------------------------\n",
      "\n",
      "crude_oil_20days_prior_pro_change_inf_adj_shifted_by_40\n",
      "----------------------------------\n",
      "\n",
      "ppi339_monthly_pro_change_inf_adj_shifted_by_40\n",
      "----------------------------------\n",
      "\n",
      "ppi332_monthly_pro_change_inf_adj_shifted_by_40\n",
      "----------------------------------\n",
      "\n",
      "ppi5132_monthly_pro_change_inf_adj_shifted_by_60\n",
      "----------------------------------\n",
      "\n",
      "plat_20days_prior_pro_change_inf_adj_shifted_by_60\n",
      "----------------------------------\n",
      "\n"
     ]
    }
   ],
   "source": [
    "fo_feat=[[18],[12],[19],[37],[13],[17],[11],[16],[10],[66],[55],[45],[40],[67],[73]]\n",
    "feat_cols=X_train.columns\n",
    "\n",
    "print(\"The focused features, in order of importance are:\"+\"\\n\")\n",
    "for lst_feats in fo_feat: \n",
    "    for ind in lst_feats: \n",
    "        print(feat_cols[ind])\n",
    "    print(\"----------------------------------\"+\"\\n\")"
   ]
  },
  {
   "cell_type": "markdown",
   "metadata": {},
   "source": [
    "Seems to have better \"trend\" as well. "
   ]
  }
 ],
 "metadata": {
  "kernelspec": {
   "display_name": "erdos_spring_2025",
   "language": "python",
   "name": "python3"
  },
  "language_info": {
   "codemirror_mode": {
    "name": "ipython",
    "version": 3
   },
   "file_extension": ".py",
   "mimetype": "text/x-python",
   "name": "python",
   "nbconvert_exporter": "python",
   "pygments_lexer": "ipython3",
   "version": "3.12.8"
  }
 },
 "nbformat": 4,
 "nbformat_minor": 2
}
