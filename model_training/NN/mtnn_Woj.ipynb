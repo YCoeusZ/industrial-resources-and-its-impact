{
 "cells": [
  {
   "cell_type": "markdown",
   "id": "7530e853",
   "metadata": {},
   "source": [
    "Only Wojciech should make changes to this file. "
   ]
  }
 ],
 "metadata": {
  "language_info": {
   "name": "python"
  }
 },
 "nbformat": 4,
 "nbformat_minor": 5
}
