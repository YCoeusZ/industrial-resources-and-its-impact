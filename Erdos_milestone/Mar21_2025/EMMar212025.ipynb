{
 "cells": [
  {
   "cell_type": "markdown",
   "metadata": {},
   "source": [
    "The data process is close to completion, in particular, proportional change of daily parameters (for instance, the gold daily values) and training target are finished. While creation of monthly data (for instance, the ppi data) populated to daily dates is in process. "
   ]
  },
  {
   "cell_type": "markdown",
   "metadata": {},
   "source": [
    "Within next week, training data set will be created with data generated, while updated with newly generated data periodically. And we will commence EDA as well (some graphs are already present in the ipynb files where each daily values are generated). To see EDA, one should go to the EDA folder. "
   ]
  },
  {
   "cell_type": "markdown",
   "metadata": {},
   "source": [
    "Some candidates of modules to train has be pin pointed: EBM (see https://interpret.ml/docs/ebm.html), and MARS (see https://en.wikipedia.org/wiki/Multivariate_adaptive_regression_spline#Hinge_functions). "
   ]
  },
  {
   "cell_type": "markdown",
   "metadata": {},
   "source": [
    "MARS is known to be a commonly used model for predictive purposes. While EBM is an improved version of GAM (see https://pygam.readthedocs.io/en/latest/notebooks/tour_of_pygam.html), as it also considers interaction terms automatically. "
   ]
  }
 ],
 "metadata": {
  "language_info": {
   "name": "python"
  }
 },
 "nbformat": 4,
 "nbformat_minor": 2
}
