{
 "cells": [
  {
   "cell_type": "code",
   "execution_count": 1,
   "metadata": {},
   "outputs": [],
   "source": [
    "import pandas as pd"
   ]
  },
  {
   "cell_type": "code",
   "execution_count": 2,
   "metadata": {},
   "outputs": [],
   "source": [
    "from datetime import datetime"
   ]
  },
  {
   "cell_type": "code",
   "execution_count": 142,
   "metadata": {},
   "outputs": [],
   "source": [
    "import matplotlib.pyplot as plt\n",
    "import seaborn as sns"
   ]
  },
  {
   "cell_type": "code",
   "execution_count": 3,
   "metadata": {},
   "outputs": [],
   "source": [
    "df_his_index=pd.read_csv(\"../../processed/his_index_tech_500_stable_14_24.csv\")"
   ]
  },
  {
   "cell_type": "code",
   "execution_count": 4,
   "metadata": {},
   "outputs": [],
   "source": [
    "df_his_index[\"Date\"]=pd.to_datetime(df_his_index[\"Date\"])"
   ]
  },
  {
   "cell_type": "code",
   "execution_count": 6,
   "metadata": {},
   "outputs": [],
   "source": [
    "lst_date_we_care=df_his_index[\"Date\"].to_list()"
   ]
  },
  {
   "cell_type": "code",
   "execution_count": 8,
   "metadata": {},
   "outputs": [],
   "source": [
    "df_gold_1=pd.read_csv(\"../../raw/macro_daily/gold_and_silver_kaggle/gold prices.csv\")"
   ]
  },
  {
   "cell_type": "code",
   "execution_count": 10,
   "metadata": {},
   "outputs": [
    {
     "data": {
      "text/plain": [
       "Index(['Date', 'Close/Last', 'Volume', 'Open', 'High', 'Low'], dtype='object')"
      ]
     },
     "execution_count": 10,
     "metadata": {},
     "output_type": "execute_result"
    }
   ],
   "source": [
    "df_gold_1.columns"
   ]
  },
  {
   "cell_type": "code",
   "execution_count": 19,
   "metadata": {},
   "outputs": [],
   "source": [
    "df_gold_1[\"Date\"]=pd.to_datetime(df_gold_1[\"Date\"])"
   ]
  },
  {
   "cell_type": "code",
   "execution_count": 26,
   "metadata": {},
   "outputs": [],
   "source": [
    "df_gold_1=df_gold_1.drop(\"Volume\", axis=1)"
   ]
  },
  {
   "cell_type": "code",
   "execution_count": 27,
   "metadata": {},
   "outputs": [
    {
     "data": {
      "text/html": [
       "<div>\n",
       "<style scoped>\n",
       "    .dataframe tbody tr th:only-of-type {\n",
       "        vertical-align: middle;\n",
       "    }\n",
       "\n",
       "    .dataframe tbody tr th {\n",
       "        vertical-align: top;\n",
       "    }\n",
       "\n",
       "    .dataframe thead th {\n",
       "        text-align: right;\n",
       "    }\n",
       "</style>\n",
       "<table border=\"1\" class=\"dataframe\">\n",
       "  <thead>\n",
       "    <tr style=\"text-align: right;\">\n",
       "      <th></th>\n",
       "      <th>Date</th>\n",
       "      <th>Close/Last</th>\n",
       "      <th>Open</th>\n",
       "      <th>High</th>\n",
       "      <th>Low</th>\n",
       "    </tr>\n",
       "  </thead>\n",
       "  <tbody>\n",
       "    <tr>\n",
       "      <th>0</th>\n",
       "      <td>2023-08-17</td>\n",
       "      <td>1915.2</td>\n",
       "      <td>1922.4</td>\n",
       "      <td>1933.5</td>\n",
       "      <td>1914.2</td>\n",
       "    </tr>\n",
       "    <tr>\n",
       "      <th>1</th>\n",
       "      <td>2023-08-16</td>\n",
       "      <td>1928.3</td>\n",
       "      <td>1933.1</td>\n",
       "      <td>1938.2</td>\n",
       "      <td>1922.0</td>\n",
       "    </tr>\n",
       "    <tr>\n",
       "      <th>2</th>\n",
       "      <td>2023-08-15</td>\n",
       "      <td>1935.2</td>\n",
       "      <td>1939.4</td>\n",
       "      <td>1944.3</td>\n",
       "      <td>1927.5</td>\n",
       "    </tr>\n",
       "    <tr>\n",
       "      <th>3</th>\n",
       "      <td>2023-08-14</td>\n",
       "      <td>1944.0</td>\n",
       "      <td>1945.6</td>\n",
       "      <td>1948.2</td>\n",
       "      <td>1934.2</td>\n",
       "    </tr>\n",
       "    <tr>\n",
       "      <th>4</th>\n",
       "      <td>2023-08-11</td>\n",
       "      <td>1946.6</td>\n",
       "      <td>1944.9</td>\n",
       "      <td>1953.6</td>\n",
       "      <td>1942.7</td>\n",
       "    </tr>\n",
       "    <tr>\n",
       "      <th>...</th>\n",
       "      <td>...</td>\n",
       "      <td>...</td>\n",
       "      <td>...</td>\n",
       "      <td>...</td>\n",
       "      <td>...</td>\n",
       "    </tr>\n",
       "    <tr>\n",
       "      <th>2534</th>\n",
       "      <td>2013-08-23</td>\n",
       "      <td>1395.8</td>\n",
       "      <td>1376.1</td>\n",
       "      <td>1399.9</td>\n",
       "      <td>1367.8</td>\n",
       "    </tr>\n",
       "    <tr>\n",
       "      <th>2535</th>\n",
       "      <td>2013-08-22</td>\n",
       "      <td>1370.8</td>\n",
       "      <td>1365.6</td>\n",
       "      <td>1381.4</td>\n",
       "      <td>1354.5</td>\n",
       "    </tr>\n",
       "    <tr>\n",
       "      <th>2536</th>\n",
       "      <td>2013-08-21</td>\n",
       "      <td>1370.1</td>\n",
       "      <td>1371.0</td>\n",
       "      <td>1378.9</td>\n",
       "      <td>1359.2</td>\n",
       "    </tr>\n",
       "    <tr>\n",
       "      <th>2537</th>\n",
       "      <td>2013-08-20</td>\n",
       "      <td>1372.6</td>\n",
       "      <td>1364.9</td>\n",
       "      <td>1378.0</td>\n",
       "      <td>1351.6</td>\n",
       "    </tr>\n",
       "    <tr>\n",
       "      <th>2538</th>\n",
       "      <td>2013-08-19</td>\n",
       "      <td>1365.7</td>\n",
       "      <td>1377.1</td>\n",
       "      <td>1384.1</td>\n",
       "      <td>1362.0</td>\n",
       "    </tr>\n",
       "  </tbody>\n",
       "</table>\n",
       "<p>2539 rows × 5 columns</p>\n",
       "</div>"
      ],
      "text/plain": [
       "           Date  Close/Last    Open    High     Low\n",
       "0    2023-08-17      1915.2  1922.4  1933.5  1914.2\n",
       "1    2023-08-16      1928.3  1933.1  1938.2  1922.0\n",
       "2    2023-08-15      1935.2  1939.4  1944.3  1927.5\n",
       "3    2023-08-14      1944.0  1945.6  1948.2  1934.2\n",
       "4    2023-08-11      1946.6  1944.9  1953.6  1942.7\n",
       "...         ...         ...     ...     ...     ...\n",
       "2534 2013-08-23      1395.8  1376.1  1399.9  1367.8\n",
       "2535 2013-08-22      1370.8  1365.6  1381.4  1354.5\n",
       "2536 2013-08-21      1370.1  1371.0  1378.9  1359.2\n",
       "2537 2013-08-20      1372.6  1364.9  1378.0  1351.6\n",
       "2538 2013-08-19      1365.7  1377.1  1384.1  1362.0\n",
       "\n",
       "[2539 rows x 5 columns]"
      ]
     },
     "execution_count": 27,
     "metadata": {},
     "output_type": "execute_result"
    }
   ],
   "source": [
    "df_gold_1"
   ]
  },
  {
   "cell_type": "code",
   "execution_count": 67,
   "metadata": {},
   "outputs": [],
   "source": [
    "df_gold_2=pd.read_csv(\"../../raw/macro_daily/gold_and_silver_kaggle/Gold prices (18.08.2023 - 22.01.2024).csv\")"
   ]
  },
  {
   "cell_type": "code",
   "execution_count": 68,
   "metadata": {},
   "outputs": [
    {
     "data": {
      "text/plain": [
       "Index(['Date', 'Close/Last', 'Volume', 'Open', 'High', 'Low'], dtype='object')"
      ]
     },
     "execution_count": 68,
     "metadata": {},
     "output_type": "execute_result"
    }
   ],
   "source": [
    "df_gold_2.columns"
   ]
  },
  {
   "cell_type": "code",
   "execution_count": 71,
   "metadata": {},
   "outputs": [],
   "source": [
    "df_gold_2[\"Date\"]=pd.to_datetime(df_gold_2[\"Date\"])"
   ]
  },
  {
   "cell_type": "code",
   "execution_count": 72,
   "metadata": {},
   "outputs": [],
   "source": [
    "df_gold_2=df_gold_2.drop(\"Volume\", axis=1)"
   ]
  },
  {
   "cell_type": "code",
   "execution_count": 73,
   "metadata": {},
   "outputs": [
    {
     "data": {
      "text/html": [
       "<div>\n",
       "<style scoped>\n",
       "    .dataframe tbody tr th:only-of-type {\n",
       "        vertical-align: middle;\n",
       "    }\n",
       "\n",
       "    .dataframe tbody tr th {\n",
       "        vertical-align: top;\n",
       "    }\n",
       "\n",
       "    .dataframe thead th {\n",
       "        text-align: right;\n",
       "    }\n",
       "</style>\n",
       "<table border=\"1\" class=\"dataframe\">\n",
       "  <thead>\n",
       "    <tr style=\"text-align: right;\">\n",
       "      <th></th>\n",
       "      <th>Date</th>\n",
       "      <th>Close/Last</th>\n",
       "      <th>Open</th>\n",
       "      <th>High</th>\n",
       "      <th>Low</th>\n",
       "    </tr>\n",
       "  </thead>\n",
       "  <tbody>\n",
       "    <tr>\n",
       "      <th>0</th>\n",
       "      <td>2024-01-22</td>\n",
       "      <td>2022.2</td>\n",
       "      <td>2031.8</td>\n",
       "      <td>2034.1</td>\n",
       "      <td>2017.4</td>\n",
       "    </tr>\n",
       "    <tr>\n",
       "      <th>1</th>\n",
       "      <td>2024-01-19</td>\n",
       "      <td>2029.3</td>\n",
       "      <td>2027.4</td>\n",
       "      <td>2041.9</td>\n",
       "      <td>2022.2</td>\n",
       "    </tr>\n",
       "    <tr>\n",
       "      <th>2</th>\n",
       "      <td>2024-01-18</td>\n",
       "      <td>2021.6</td>\n",
       "      <td>2009.1</td>\n",
       "      <td>2025.6</td>\n",
       "      <td>2007.7</td>\n",
       "    </tr>\n",
       "    <tr>\n",
       "      <th>3</th>\n",
       "      <td>2024-01-17</td>\n",
       "      <td>2006.5</td>\n",
       "      <td>2031.7</td>\n",
       "      <td>2036.1</td>\n",
       "      <td>2004.6</td>\n",
       "    </tr>\n",
       "    <tr>\n",
       "      <th>4</th>\n",
       "      <td>2024-01-16</td>\n",
       "      <td>2030.2</td>\n",
       "      <td>2053.4</td>\n",
       "      <td>2062.8</td>\n",
       "      <td>2027.6</td>\n",
       "    </tr>\n",
       "    <tr>\n",
       "      <th>...</th>\n",
       "      <td>...</td>\n",
       "      <td>...</td>\n",
       "      <td>...</td>\n",
       "      <td>...</td>\n",
       "      <td>...</td>\n",
       "    </tr>\n",
       "    <tr>\n",
       "      <th>102</th>\n",
       "      <td>2023-08-24</td>\n",
       "      <td>1947.1</td>\n",
       "      <td>1944.9</td>\n",
       "      <td>1951.3</td>\n",
       "      <td>1939.2</td>\n",
       "    </tr>\n",
       "    <tr>\n",
       "      <th>103</th>\n",
       "      <td>2023-08-23</td>\n",
       "      <td>1948.1</td>\n",
       "      <td>1926.8</td>\n",
       "      <td>1949.7</td>\n",
       "      <td>1926.2</td>\n",
       "    </tr>\n",
       "    <tr>\n",
       "      <th>104</th>\n",
       "      <td>2023-08-22</td>\n",
       "      <td>1926.0</td>\n",
       "      <td>1924.0</td>\n",
       "      <td>1933.2</td>\n",
       "      <td>1917.5</td>\n",
       "    </tr>\n",
       "    <tr>\n",
       "      <th>105</th>\n",
       "      <td>2023-08-21</td>\n",
       "      <td>1923.0</td>\n",
       "      <td>1918.4</td>\n",
       "      <td>1927.9</td>\n",
       "      <td>1913.6</td>\n",
       "    </tr>\n",
       "    <tr>\n",
       "      <th>106</th>\n",
       "      <td>2023-08-18</td>\n",
       "      <td>1916.5</td>\n",
       "      <td>1919.2</td>\n",
       "      <td>1926.0</td>\n",
       "      <td>1915.9</td>\n",
       "    </tr>\n",
       "  </tbody>\n",
       "</table>\n",
       "<p>107 rows × 5 columns</p>\n",
       "</div>"
      ],
      "text/plain": [
       "          Date  Close/Last    Open    High     Low\n",
       "0   2024-01-22      2022.2  2031.8  2034.1  2017.4\n",
       "1   2024-01-19      2029.3  2027.4  2041.9  2022.2\n",
       "2   2024-01-18      2021.6  2009.1  2025.6  2007.7\n",
       "3   2024-01-17      2006.5  2031.7  2036.1  2004.6\n",
       "4   2024-01-16      2030.2  2053.4  2062.8  2027.6\n",
       "..         ...         ...     ...     ...     ...\n",
       "102 2023-08-24      1947.1  1944.9  1951.3  1939.2\n",
       "103 2023-08-23      1948.1  1926.8  1949.7  1926.2\n",
       "104 2023-08-22      1926.0  1924.0  1933.2  1917.5\n",
       "105 2023-08-21      1923.0  1918.4  1927.9  1913.6\n",
       "106 2023-08-18      1916.5  1919.2  1926.0  1915.9\n",
       "\n",
       "[107 rows x 5 columns]"
      ]
     },
     "execution_count": 73,
     "metadata": {},
     "output_type": "execute_result"
    }
   ],
   "source": [
    "df_gold_2"
   ]
  },
  {
   "cell_type": "code",
   "execution_count": 16,
   "metadata": {},
   "outputs": [],
   "source": [
    "df_gold_3=pd.read_csv(\"../../raw/macro_daily/gold_and_silver_kaggle/Gold Futures Historical Data (23.01.24-22.11.24).csv\")"
   ]
  },
  {
   "cell_type": "code",
   "execution_count": 17,
   "metadata": {},
   "outputs": [
    {
     "data": {
      "text/plain": [
       "Index(['Date', 'Price', 'Open', 'High', 'Low', 'Vol.', 'Change %'], dtype='object')"
      ]
     },
     "execution_count": 17,
     "metadata": {},
     "output_type": "execute_result"
    }
   ],
   "source": [
    "df_gold_3.columns"
   ]
  },
  {
   "cell_type": "code",
   "execution_count": 24,
   "metadata": {},
   "outputs": [],
   "source": [
    "df_gold_3[\"Date\"]=pd.to_datetime(df_gold_3[\"Date\"])"
   ]
  },
  {
   "cell_type": "code",
   "execution_count": 30,
   "metadata": {},
   "outputs": [],
   "source": [
    "df_gold_3=df_gold_3.drop([\"Vol.\",\"Change %\"],axis=1)"
   ]
  },
  {
   "cell_type": "code",
   "execution_count": 33,
   "metadata": {},
   "outputs": [],
   "source": [
    "df_gold_3=df_gold_3.rename(columns={\"Price\":\"Close/Last\"})"
   ]
  },
  {
   "cell_type": "code",
   "execution_count": 34,
   "metadata": {},
   "outputs": [
    {
     "data": {
      "text/html": [
       "<div>\n",
       "<style scoped>\n",
       "    .dataframe tbody tr th:only-of-type {\n",
       "        vertical-align: middle;\n",
       "    }\n",
       "\n",
       "    .dataframe tbody tr th {\n",
       "        vertical-align: top;\n",
       "    }\n",
       "\n",
       "    .dataframe thead th {\n",
       "        text-align: right;\n",
       "    }\n",
       "</style>\n",
       "<table border=\"1\" class=\"dataframe\">\n",
       "  <thead>\n",
       "    <tr style=\"text-align: right;\">\n",
       "      <th></th>\n",
       "      <th>Date</th>\n",
       "      <th>Close/Last</th>\n",
       "      <th>Open</th>\n",
       "      <th>High</th>\n",
       "      <th>Low</th>\n",
       "    </tr>\n",
       "  </thead>\n",
       "  <tbody>\n",
       "    <tr>\n",
       "      <th>0</th>\n",
       "      <td>2024-11-22</td>\n",
       "      <td>2,699.70</td>\n",
       "      <td>2,671.20</td>\n",
       "      <td>2,701.60</td>\n",
       "      <td>2,670.85</td>\n",
       "    </tr>\n",
       "    <tr>\n",
       "      <th>1</th>\n",
       "      <td>2024-11-21</td>\n",
       "      <td>2,674.90</td>\n",
       "      <td>2,653.50</td>\n",
       "      <td>2,676.50</td>\n",
       "      <td>2,651.60</td>\n",
       "    </tr>\n",
       "    <tr>\n",
       "      <th>2</th>\n",
       "      <td>2024-11-20</td>\n",
       "      <td>2,651.70</td>\n",
       "      <td>2,635.80</td>\n",
       "      <td>2,659.00</td>\n",
       "      <td>2,621.90</td>\n",
       "    </tr>\n",
       "    <tr>\n",
       "      <th>3</th>\n",
       "      <td>2024-11-19</td>\n",
       "      <td>2,631.00</td>\n",
       "      <td>2,616.30</td>\n",
       "      <td>2,643.40</td>\n",
       "      <td>2,614.20</td>\n",
       "    </tr>\n",
       "    <tr>\n",
       "      <th>4</th>\n",
       "      <td>2024-11-18</td>\n",
       "      <td>2,614.60</td>\n",
       "      <td>2,571.50</td>\n",
       "      <td>2,619.50</td>\n",
       "      <td>2,568.50</td>\n",
       "    </tr>\n",
       "    <tr>\n",
       "      <th>...</th>\n",
       "      <td>...</td>\n",
       "      <td>...</td>\n",
       "      <td>...</td>\n",
       "      <td>...</td>\n",
       "      <td>...</td>\n",
       "    </tr>\n",
       "    <tr>\n",
       "      <th>212</th>\n",
       "      <td>2024-01-29</td>\n",
       "      <td>2,025.40</td>\n",
       "      <td>2,024.40</td>\n",
       "      <td>2,037.20</td>\n",
       "      <td>2,018.80</td>\n",
       "    </tr>\n",
       "    <tr>\n",
       "      <th>213</th>\n",
       "      <td>2024-01-26</td>\n",
       "      <td>2,017.30</td>\n",
       "      <td>2,021.00</td>\n",
       "      <td>2,028.10</td>\n",
       "      <td>2,015.60</td>\n",
       "    </tr>\n",
       "    <tr>\n",
       "      <th>214</th>\n",
       "      <td>2024-01-25</td>\n",
       "      <td>2,017.80</td>\n",
       "      <td>2,014.80</td>\n",
       "      <td>2,025.60</td>\n",
       "      <td>2,004.00</td>\n",
       "    </tr>\n",
       "    <tr>\n",
       "      <th>215</th>\n",
       "      <td>2024-01-24</td>\n",
       "      <td>2,016.00</td>\n",
       "      <td>2,030.70</td>\n",
       "      <td>2,037.90</td>\n",
       "      <td>2,011.70</td>\n",
       "    </tr>\n",
       "    <tr>\n",
       "      <th>216</th>\n",
       "      <td>2024-01-23</td>\n",
       "      <td>2,025.80</td>\n",
       "      <td>2,023.20</td>\n",
       "      <td>2,039.30</td>\n",
       "      <td>2,020.80</td>\n",
       "    </tr>\n",
       "  </tbody>\n",
       "</table>\n",
       "<p>217 rows × 5 columns</p>\n",
       "</div>"
      ],
      "text/plain": [
       "          Date Close/Last      Open      High       Low\n",
       "0   2024-11-22   2,699.70  2,671.20  2,701.60  2,670.85\n",
       "1   2024-11-21   2,674.90  2,653.50  2,676.50  2,651.60\n",
       "2   2024-11-20   2,651.70  2,635.80  2,659.00  2,621.90\n",
       "3   2024-11-19   2,631.00  2,616.30  2,643.40  2,614.20\n",
       "4   2024-11-18   2,614.60  2,571.50  2,619.50  2,568.50\n",
       "..         ...        ...       ...       ...       ...\n",
       "212 2024-01-29   2,025.40  2,024.40  2,037.20  2,018.80\n",
       "213 2024-01-26   2,017.30  2,021.00  2,028.10  2,015.60\n",
       "214 2024-01-25   2,017.80  2,014.80  2,025.60  2,004.00\n",
       "215 2024-01-24   2,016.00  2,030.70  2,037.90  2,011.70\n",
       "216 2024-01-23   2,025.80  2,023.20  2,039.30  2,020.80\n",
       "\n",
       "[217 rows x 5 columns]"
      ]
     },
     "execution_count": 34,
     "metadata": {},
     "output_type": "execute_result"
    }
   ],
   "source": [
    "df_gold_3"
   ]
  },
  {
   "cell_type": "code",
   "execution_count": 74,
   "metadata": {},
   "outputs": [],
   "source": [
    "df_gold=pd.concat([df_gold_1,df_gold_2,df_gold_3])"
   ]
  },
  {
   "cell_type": "code",
   "execution_count": 75,
   "metadata": {},
   "outputs": [],
   "source": [
    "df_gold=df_gold.sort_values(\"Date\")"
   ]
  },
  {
   "cell_type": "code",
   "execution_count": 76,
   "metadata": {},
   "outputs": [
    {
     "data": {
      "text/html": [
       "<div>\n",
       "<style scoped>\n",
       "    .dataframe tbody tr th:only-of-type {\n",
       "        vertical-align: middle;\n",
       "    }\n",
       "\n",
       "    .dataframe tbody tr th {\n",
       "        vertical-align: top;\n",
       "    }\n",
       "\n",
       "    .dataframe thead th {\n",
       "        text-align: right;\n",
       "    }\n",
       "</style>\n",
       "<table border=\"1\" class=\"dataframe\">\n",
       "  <thead>\n",
       "    <tr style=\"text-align: right;\">\n",
       "      <th></th>\n",
       "      <th>Date</th>\n",
       "      <th>Close/Last</th>\n",
       "      <th>Open</th>\n",
       "      <th>High</th>\n",
       "      <th>Low</th>\n",
       "    </tr>\n",
       "  </thead>\n",
       "  <tbody>\n",
       "    <tr>\n",
       "      <th>2538</th>\n",
       "      <td>2013-08-19</td>\n",
       "      <td>1365.7</td>\n",
       "      <td>1377.1</td>\n",
       "      <td>1384.1</td>\n",
       "      <td>1362.0</td>\n",
       "    </tr>\n",
       "    <tr>\n",
       "      <th>2537</th>\n",
       "      <td>2013-08-20</td>\n",
       "      <td>1372.6</td>\n",
       "      <td>1364.9</td>\n",
       "      <td>1378.0</td>\n",
       "      <td>1351.6</td>\n",
       "    </tr>\n",
       "    <tr>\n",
       "      <th>2536</th>\n",
       "      <td>2013-08-21</td>\n",
       "      <td>1370.1</td>\n",
       "      <td>1371.0</td>\n",
       "      <td>1378.9</td>\n",
       "      <td>1359.2</td>\n",
       "    </tr>\n",
       "    <tr>\n",
       "      <th>2535</th>\n",
       "      <td>2013-08-22</td>\n",
       "      <td>1370.8</td>\n",
       "      <td>1365.6</td>\n",
       "      <td>1381.4</td>\n",
       "      <td>1354.5</td>\n",
       "    </tr>\n",
       "    <tr>\n",
       "      <th>2534</th>\n",
       "      <td>2013-08-23</td>\n",
       "      <td>1395.8</td>\n",
       "      <td>1376.1</td>\n",
       "      <td>1399.9</td>\n",
       "      <td>1367.8</td>\n",
       "    </tr>\n",
       "    <tr>\n",
       "      <th>...</th>\n",
       "      <td>...</td>\n",
       "      <td>...</td>\n",
       "      <td>...</td>\n",
       "      <td>...</td>\n",
       "      <td>...</td>\n",
       "    </tr>\n",
       "    <tr>\n",
       "      <th>4</th>\n",
       "      <td>2024-11-18</td>\n",
       "      <td>2,614.60</td>\n",
       "      <td>2,571.50</td>\n",
       "      <td>2,619.50</td>\n",
       "      <td>2,568.50</td>\n",
       "    </tr>\n",
       "    <tr>\n",
       "      <th>3</th>\n",
       "      <td>2024-11-19</td>\n",
       "      <td>2,631.00</td>\n",
       "      <td>2,616.30</td>\n",
       "      <td>2,643.40</td>\n",
       "      <td>2,614.20</td>\n",
       "    </tr>\n",
       "    <tr>\n",
       "      <th>2</th>\n",
       "      <td>2024-11-20</td>\n",
       "      <td>2,651.70</td>\n",
       "      <td>2,635.80</td>\n",
       "      <td>2,659.00</td>\n",
       "      <td>2,621.90</td>\n",
       "    </tr>\n",
       "    <tr>\n",
       "      <th>1</th>\n",
       "      <td>2024-11-21</td>\n",
       "      <td>2,674.90</td>\n",
       "      <td>2,653.50</td>\n",
       "      <td>2,676.50</td>\n",
       "      <td>2,651.60</td>\n",
       "    </tr>\n",
       "    <tr>\n",
       "      <th>0</th>\n",
       "      <td>2024-11-22</td>\n",
       "      <td>2,699.70</td>\n",
       "      <td>2,671.20</td>\n",
       "      <td>2,701.60</td>\n",
       "      <td>2,670.85</td>\n",
       "    </tr>\n",
       "  </tbody>\n",
       "</table>\n",
       "<p>2863 rows × 5 columns</p>\n",
       "</div>"
      ],
      "text/plain": [
       "           Date Close/Last      Open      High       Low\n",
       "2538 2013-08-19     1365.7    1377.1    1384.1    1362.0\n",
       "2537 2013-08-20     1372.6    1364.9    1378.0    1351.6\n",
       "2536 2013-08-21     1370.1    1371.0    1378.9    1359.2\n",
       "2535 2013-08-22     1370.8    1365.6    1381.4    1354.5\n",
       "2534 2013-08-23     1395.8    1376.1    1399.9    1367.8\n",
       "...         ...        ...       ...       ...       ...\n",
       "4    2024-11-18   2,614.60  2,571.50  2,619.50  2,568.50\n",
       "3    2024-11-19   2,631.00  2,616.30  2,643.40  2,614.20\n",
       "2    2024-11-20   2,651.70  2,635.80  2,659.00  2,621.90\n",
       "1    2024-11-21   2,674.90  2,653.50  2,676.50  2,651.60\n",
       "0    2024-11-22   2,699.70  2,671.20  2,701.60  2,670.85\n",
       "\n",
       "[2863 rows x 5 columns]"
      ]
     },
     "execution_count": 76,
     "metadata": {},
     "output_type": "execute_result"
    }
   ],
   "source": [
    "df_gold"
   ]
  },
  {
   "cell_type": "code",
   "execution_count": 77,
   "metadata": {},
   "outputs": [],
   "source": [
    "df_gold=df_gold.reset_index().drop(\"index\",axis=1)"
   ]
  },
  {
   "cell_type": "code",
   "execution_count": 78,
   "metadata": {},
   "outputs": [
    {
     "data": {
      "text/html": [
       "<div>\n",
       "<style scoped>\n",
       "    .dataframe tbody tr th:only-of-type {\n",
       "        vertical-align: middle;\n",
       "    }\n",
       "\n",
       "    .dataframe tbody tr th {\n",
       "        vertical-align: top;\n",
       "    }\n",
       "\n",
       "    .dataframe thead th {\n",
       "        text-align: right;\n",
       "    }\n",
       "</style>\n",
       "<table border=\"1\" class=\"dataframe\">\n",
       "  <thead>\n",
       "    <tr style=\"text-align: right;\">\n",
       "      <th></th>\n",
       "      <th>Date</th>\n",
       "      <th>Close/Last</th>\n",
       "      <th>Open</th>\n",
       "      <th>High</th>\n",
       "      <th>Low</th>\n",
       "    </tr>\n",
       "  </thead>\n",
       "  <tbody>\n",
       "    <tr>\n",
       "      <th>0</th>\n",
       "      <td>2013-08-19</td>\n",
       "      <td>1365.7</td>\n",
       "      <td>1377.1</td>\n",
       "      <td>1384.1</td>\n",
       "      <td>1362.0</td>\n",
       "    </tr>\n",
       "    <tr>\n",
       "      <th>1</th>\n",
       "      <td>2013-08-20</td>\n",
       "      <td>1372.6</td>\n",
       "      <td>1364.9</td>\n",
       "      <td>1378.0</td>\n",
       "      <td>1351.6</td>\n",
       "    </tr>\n",
       "    <tr>\n",
       "      <th>2</th>\n",
       "      <td>2013-08-21</td>\n",
       "      <td>1370.1</td>\n",
       "      <td>1371.0</td>\n",
       "      <td>1378.9</td>\n",
       "      <td>1359.2</td>\n",
       "    </tr>\n",
       "    <tr>\n",
       "      <th>3</th>\n",
       "      <td>2013-08-22</td>\n",
       "      <td>1370.8</td>\n",
       "      <td>1365.6</td>\n",
       "      <td>1381.4</td>\n",
       "      <td>1354.5</td>\n",
       "    </tr>\n",
       "    <tr>\n",
       "      <th>4</th>\n",
       "      <td>2013-08-23</td>\n",
       "      <td>1395.8</td>\n",
       "      <td>1376.1</td>\n",
       "      <td>1399.9</td>\n",
       "      <td>1367.8</td>\n",
       "    </tr>\n",
       "    <tr>\n",
       "      <th>...</th>\n",
       "      <td>...</td>\n",
       "      <td>...</td>\n",
       "      <td>...</td>\n",
       "      <td>...</td>\n",
       "      <td>...</td>\n",
       "    </tr>\n",
       "    <tr>\n",
       "      <th>2858</th>\n",
       "      <td>2024-11-18</td>\n",
       "      <td>2,614.60</td>\n",
       "      <td>2,571.50</td>\n",
       "      <td>2,619.50</td>\n",
       "      <td>2,568.50</td>\n",
       "    </tr>\n",
       "    <tr>\n",
       "      <th>2859</th>\n",
       "      <td>2024-11-19</td>\n",
       "      <td>2,631.00</td>\n",
       "      <td>2,616.30</td>\n",
       "      <td>2,643.40</td>\n",
       "      <td>2,614.20</td>\n",
       "    </tr>\n",
       "    <tr>\n",
       "      <th>2860</th>\n",
       "      <td>2024-11-20</td>\n",
       "      <td>2,651.70</td>\n",
       "      <td>2,635.80</td>\n",
       "      <td>2,659.00</td>\n",
       "      <td>2,621.90</td>\n",
       "    </tr>\n",
       "    <tr>\n",
       "      <th>2861</th>\n",
       "      <td>2024-11-21</td>\n",
       "      <td>2,674.90</td>\n",
       "      <td>2,653.50</td>\n",
       "      <td>2,676.50</td>\n",
       "      <td>2,651.60</td>\n",
       "    </tr>\n",
       "    <tr>\n",
       "      <th>2862</th>\n",
       "      <td>2024-11-22</td>\n",
       "      <td>2,699.70</td>\n",
       "      <td>2,671.20</td>\n",
       "      <td>2,701.60</td>\n",
       "      <td>2,670.85</td>\n",
       "    </tr>\n",
       "  </tbody>\n",
       "</table>\n",
       "<p>2863 rows × 5 columns</p>\n",
       "</div>"
      ],
      "text/plain": [
       "           Date Close/Last      Open      High       Low\n",
       "0    2013-08-19     1365.7    1377.1    1384.1    1362.0\n",
       "1    2013-08-20     1372.6    1364.9    1378.0    1351.6\n",
       "2    2013-08-21     1370.1    1371.0    1378.9    1359.2\n",
       "3    2013-08-22     1370.8    1365.6    1381.4    1354.5\n",
       "4    2013-08-23     1395.8    1376.1    1399.9    1367.8\n",
       "...         ...        ...       ...       ...       ...\n",
       "2858 2024-11-18   2,614.60  2,571.50  2,619.50  2,568.50\n",
       "2859 2024-11-19   2,631.00  2,616.30  2,643.40  2,614.20\n",
       "2860 2024-11-20   2,651.70  2,635.80  2,659.00  2,621.90\n",
       "2861 2024-11-21   2,674.90  2,653.50  2,676.50  2,651.60\n",
       "2862 2024-11-22   2,699.70  2,671.20  2,701.60  2,670.85\n",
       "\n",
       "[2863 rows x 5 columns]"
      ]
     },
     "execution_count": 78,
     "metadata": {},
     "output_type": "execute_result"
    }
   ],
   "source": [
    "df_gold"
   ]
  },
  {
   "cell_type": "code",
   "execution_count": 91,
   "metadata": {},
   "outputs": [],
   "source": [
    "df_gold_care=df_gold[df_gold[\"Date\"].isin(lst_date_we_care)].reset_index().drop(\"index\",axis=1)"
   ]
  },
  {
   "cell_type": "code",
   "execution_count": 92,
   "metadata": {},
   "outputs": [
    {
     "data": {
      "text/html": [
       "<div>\n",
       "<style scoped>\n",
       "    .dataframe tbody tr th:only-of-type {\n",
       "        vertical-align: middle;\n",
       "    }\n",
       "\n",
       "    .dataframe tbody tr th {\n",
       "        vertical-align: top;\n",
       "    }\n",
       "\n",
       "    .dataframe thead th {\n",
       "        text-align: right;\n",
       "    }\n",
       "</style>\n",
       "<table border=\"1\" class=\"dataframe\">\n",
       "  <thead>\n",
       "    <tr style=\"text-align: right;\">\n",
       "      <th></th>\n",
       "      <th>Date</th>\n",
       "      <th>Close/Last</th>\n",
       "      <th>Open</th>\n",
       "      <th>High</th>\n",
       "      <th>Low</th>\n",
       "    </tr>\n",
       "  </thead>\n",
       "  <tbody>\n",
       "    <tr>\n",
       "      <th>0</th>\n",
       "      <td>2014-01-02</td>\n",
       "      <td>1225.2</td>\n",
       "      <td>1226.5</td>\n",
       "      <td>1230.8</td>\n",
       "      <td>1202.5</td>\n",
       "    </tr>\n",
       "    <tr>\n",
       "      <th>1</th>\n",
       "      <td>2014-01-03</td>\n",
       "      <td>1225.2</td>\n",
       "      <td>1222.3</td>\n",
       "      <td>1239.6</td>\n",
       "      <td>1221.3</td>\n",
       "    </tr>\n",
       "    <tr>\n",
       "      <th>2</th>\n",
       "      <td>2014-01-06</td>\n",
       "      <td>1238.0</td>\n",
       "      <td>1237.4</td>\n",
       "      <td>1247.7</td>\n",
       "      <td>1212.6</td>\n",
       "    </tr>\n",
       "    <tr>\n",
       "      <th>3</th>\n",
       "      <td>2014-01-07</td>\n",
       "      <td>1229.6</td>\n",
       "      <td>1237.0</td>\n",
       "      <td>1244.7</td>\n",
       "      <td>1224.2</td>\n",
       "    </tr>\n",
       "    <tr>\n",
       "      <th>4</th>\n",
       "      <td>2014-01-08</td>\n",
       "      <td>1225.5</td>\n",
       "      <td>1231.0</td>\n",
       "      <td>1231.8</td>\n",
       "      <td>1217.7</td>\n",
       "    </tr>\n",
       "    <tr>\n",
       "      <th>...</th>\n",
       "      <td>...</td>\n",
       "      <td>...</td>\n",
       "      <td>...</td>\n",
       "      <td>...</td>\n",
       "      <td>...</td>\n",
       "    </tr>\n",
       "    <tr>\n",
       "      <th>2563</th>\n",
       "      <td>2024-10-24</td>\n",
       "      <td>2,736.50</td>\n",
       "      <td>2,717.40</td>\n",
       "      <td>2,743.30</td>\n",
       "      <td>2,717.40</td>\n",
       "    </tr>\n",
       "    <tr>\n",
       "      <th>2564</th>\n",
       "      <td>2024-10-25</td>\n",
       "      <td>2,742.20</td>\n",
       "      <td>2,735.40</td>\n",
       "      <td>2,747.20</td>\n",
       "      <td>2,716.90</td>\n",
       "    </tr>\n",
       "    <tr>\n",
       "      <th>2565</th>\n",
       "      <td>2024-10-28</td>\n",
       "      <td>2,743.60</td>\n",
       "      <td>2,739.40</td>\n",
       "      <td>2,745.60</td>\n",
       "      <td>2,725.80</td>\n",
       "    </tr>\n",
       "    <tr>\n",
       "      <th>2566</th>\n",
       "      <td>2024-10-29</td>\n",
       "      <td>2,768.80</td>\n",
       "      <td>2,741.90</td>\n",
       "      <td>2,773.20</td>\n",
       "      <td>2,741.90</td>\n",
       "    </tr>\n",
       "    <tr>\n",
       "      <th>2567</th>\n",
       "      <td>2024-10-30</td>\n",
       "      <td>2,800.80</td>\n",
       "      <td>2,786.90</td>\n",
       "      <td>2,801.80</td>\n",
       "      <td>2,782.40</td>\n",
       "    </tr>\n",
       "  </tbody>\n",
       "</table>\n",
       "<p>2568 rows × 5 columns</p>\n",
       "</div>"
      ],
      "text/plain": [
       "           Date Close/Last      Open      High       Low\n",
       "0    2014-01-02     1225.2    1226.5    1230.8    1202.5\n",
       "1    2014-01-03     1225.2    1222.3    1239.6    1221.3\n",
       "2    2014-01-06     1238.0    1237.4    1247.7    1212.6\n",
       "3    2014-01-07     1229.6    1237.0    1244.7    1224.2\n",
       "4    2014-01-08     1225.5    1231.0    1231.8    1217.7\n",
       "...         ...        ...       ...       ...       ...\n",
       "2563 2024-10-24   2,736.50  2,717.40  2,743.30  2,717.40\n",
       "2564 2024-10-25   2,742.20  2,735.40  2,747.20  2,716.90\n",
       "2565 2024-10-28   2,743.60  2,739.40  2,745.60  2,725.80\n",
       "2566 2024-10-29   2,768.80  2,741.90  2,773.20  2,741.90\n",
       "2567 2024-10-30   2,800.80  2,786.90  2,801.80  2,782.40\n",
       "\n",
       "[2568 rows x 5 columns]"
      ]
     },
     "execution_count": 92,
     "metadata": {},
     "output_type": "execute_result"
    }
   ],
   "source": [
    "df_gold_care"
   ]
  },
  {
   "cell_type": "code",
   "execution_count": 82,
   "metadata": {},
   "outputs": [
    {
     "data": {
      "text/html": [
       "<div>\n",
       "<style scoped>\n",
       "    .dataframe tbody tr th:only-of-type {\n",
       "        vertical-align: middle;\n",
       "    }\n",
       "\n",
       "    .dataframe tbody tr th {\n",
       "        vertical-align: top;\n",
       "    }\n",
       "\n",
       "    .dataframe thead th {\n",
       "        text-align: right;\n",
       "    }\n",
       "</style>\n",
       "<table border=\"1\" class=\"dataframe\">\n",
       "  <thead>\n",
       "    <tr style=\"text-align: right;\">\n",
       "      <th></th>\n",
       "      <th>Date</th>\n",
       "      <th>Close/Last</th>\n",
       "      <th>Open</th>\n",
       "      <th>High</th>\n",
       "      <th>Low</th>\n",
       "    </tr>\n",
       "  </thead>\n",
       "  <tbody>\n",
       "  </tbody>\n",
       "</table>\n",
       "</div>"
      ],
      "text/plain": [
       "Empty DataFrame\n",
       "Columns: [Date, Close/Last, Open, High, Low]\n",
       "Index: []"
      ]
     },
     "execution_count": 82,
     "metadata": {},
     "output_type": "execute_result"
    }
   ],
   "source": [
    "df_gold[df_gold.duplicated(\"Date\")]"
   ]
  },
  {
   "cell_type": "markdown",
   "metadata": {},
   "source": [
    "No missing :). No duplicated rows on \"Date\" :). "
   ]
  },
  {
   "cell_type": "code",
   "execution_count": 98,
   "metadata": {},
   "outputs": [
    {
     "data": {
      "text/plain": [
       "'2717.40'"
      ]
     },
     "execution_count": 98,
     "metadata": {},
     "output_type": "execute_result"
    }
   ],
   "source": [
    "df_gold_care.loc[2563][\"Open\"].replace(\",\",\"\")"
   ]
  },
  {
   "cell_type": "markdown",
   "metadata": {},
   "source": [
    "There are values with \",\", they are clearly strings, let's fix that. "
   ]
  },
  {
   "cell_type": "code",
   "execution_count": 104,
   "metadata": {},
   "outputs": [],
   "source": [
    "for col in [\"Close/Last\", \"Open\", \"High\", \"Low\"]: \n",
    "    for index in range(2568): \n",
    "        # print(index)\n",
    "        if type(df_gold_care.loc[index][col])==str:\n",
    "            df_gold_care.at[index,col]=float(df_gold_care.loc[index][col].replace(\",\",\"\"))"
   ]
  },
  {
   "cell_type": "code",
   "execution_count": 105,
   "metadata": {},
   "outputs": [
    {
     "data": {
      "text/html": [
       "<div>\n",
       "<style scoped>\n",
       "    .dataframe tbody tr th:only-of-type {\n",
       "        vertical-align: middle;\n",
       "    }\n",
       "\n",
       "    .dataframe tbody tr th {\n",
       "        vertical-align: top;\n",
       "    }\n",
       "\n",
       "    .dataframe thead th {\n",
       "        text-align: right;\n",
       "    }\n",
       "</style>\n",
       "<table border=\"1\" class=\"dataframe\">\n",
       "  <thead>\n",
       "    <tr style=\"text-align: right;\">\n",
       "      <th></th>\n",
       "      <th>Date</th>\n",
       "      <th>Close/Last</th>\n",
       "      <th>Open</th>\n",
       "      <th>High</th>\n",
       "      <th>Low</th>\n",
       "    </tr>\n",
       "  </thead>\n",
       "  <tbody>\n",
       "    <tr>\n",
       "      <th>0</th>\n",
       "      <td>2014-01-02</td>\n",
       "      <td>1225.2</td>\n",
       "      <td>1226.5</td>\n",
       "      <td>1230.8</td>\n",
       "      <td>1202.5</td>\n",
       "    </tr>\n",
       "    <tr>\n",
       "      <th>1</th>\n",
       "      <td>2014-01-03</td>\n",
       "      <td>1225.2</td>\n",
       "      <td>1222.3</td>\n",
       "      <td>1239.6</td>\n",
       "      <td>1221.3</td>\n",
       "    </tr>\n",
       "    <tr>\n",
       "      <th>2</th>\n",
       "      <td>2014-01-06</td>\n",
       "      <td>1238.0</td>\n",
       "      <td>1237.4</td>\n",
       "      <td>1247.7</td>\n",
       "      <td>1212.6</td>\n",
       "    </tr>\n",
       "    <tr>\n",
       "      <th>3</th>\n",
       "      <td>2014-01-07</td>\n",
       "      <td>1229.6</td>\n",
       "      <td>1237.0</td>\n",
       "      <td>1244.7</td>\n",
       "      <td>1224.2</td>\n",
       "    </tr>\n",
       "    <tr>\n",
       "      <th>4</th>\n",
       "      <td>2014-01-08</td>\n",
       "      <td>1225.5</td>\n",
       "      <td>1231.0</td>\n",
       "      <td>1231.8</td>\n",
       "      <td>1217.7</td>\n",
       "    </tr>\n",
       "    <tr>\n",
       "      <th>...</th>\n",
       "      <td>...</td>\n",
       "      <td>...</td>\n",
       "      <td>...</td>\n",
       "      <td>...</td>\n",
       "      <td>...</td>\n",
       "    </tr>\n",
       "    <tr>\n",
       "      <th>2563</th>\n",
       "      <td>2024-10-24</td>\n",
       "      <td>2736.5</td>\n",
       "      <td>2717.4</td>\n",
       "      <td>2743.3</td>\n",
       "      <td>2717.4</td>\n",
       "    </tr>\n",
       "    <tr>\n",
       "      <th>2564</th>\n",
       "      <td>2024-10-25</td>\n",
       "      <td>2742.2</td>\n",
       "      <td>2735.4</td>\n",
       "      <td>2747.2</td>\n",
       "      <td>2716.9</td>\n",
       "    </tr>\n",
       "    <tr>\n",
       "      <th>2565</th>\n",
       "      <td>2024-10-28</td>\n",
       "      <td>2743.6</td>\n",
       "      <td>2739.4</td>\n",
       "      <td>2745.6</td>\n",
       "      <td>2725.8</td>\n",
       "    </tr>\n",
       "    <tr>\n",
       "      <th>2566</th>\n",
       "      <td>2024-10-29</td>\n",
       "      <td>2768.8</td>\n",
       "      <td>2741.9</td>\n",
       "      <td>2773.2</td>\n",
       "      <td>2741.9</td>\n",
       "    </tr>\n",
       "    <tr>\n",
       "      <th>2567</th>\n",
       "      <td>2024-10-30</td>\n",
       "      <td>2800.8</td>\n",
       "      <td>2786.9</td>\n",
       "      <td>2801.8</td>\n",
       "      <td>2782.4</td>\n",
       "    </tr>\n",
       "  </tbody>\n",
       "</table>\n",
       "<p>2568 rows × 5 columns</p>\n",
       "</div>"
      ],
      "text/plain": [
       "           Date Close/Last    Open    High     Low\n",
       "0    2014-01-02     1225.2  1226.5  1230.8  1202.5\n",
       "1    2014-01-03     1225.2  1222.3  1239.6  1221.3\n",
       "2    2014-01-06     1238.0  1237.4  1247.7  1212.6\n",
       "3    2014-01-07     1229.6  1237.0  1244.7  1224.2\n",
       "4    2014-01-08     1225.5  1231.0  1231.8  1217.7\n",
       "...         ...        ...     ...     ...     ...\n",
       "2563 2024-10-24     2736.5  2717.4  2743.3  2717.4\n",
       "2564 2024-10-25     2742.2  2735.4  2747.2  2716.9\n",
       "2565 2024-10-28     2743.6  2739.4  2745.6  2725.8\n",
       "2566 2024-10-29     2768.8  2741.9  2773.2  2741.9\n",
       "2567 2024-10-30     2800.8  2786.9  2801.8  2782.4\n",
       "\n",
       "[2568 rows x 5 columns]"
      ]
     },
     "execution_count": 105,
     "metadata": {},
     "output_type": "execute_result"
    }
   ],
   "source": [
    "df_gold_care"
   ]
  },
  {
   "cell_type": "code",
   "execution_count": 115,
   "metadata": {},
   "outputs": [],
   "source": [
    "lst_pro_change=[(df_gold_care.loc[df_gold_care[\"Date\"]==\"2014-01-02\"][\"Close/Last\"].values[0]/df_gold_care.loc[df_gold_care[\"Date\"]==\"2014-01-02\"][\"Open\"].values[0]-1)*100]"
   ]
  },
  {
   "cell_type": "code",
   "execution_count": 116,
   "metadata": {},
   "outputs": [],
   "source": [
    "for index in range(1,2568): \n",
    "    lst_pro_change.append((df_gold_care.loc[index][\"Close/Last\"]/df_gold_care.loc[index-1][\"Close/Last\"]-1)*100)"
   ]
  },
  {
   "cell_type": "code",
   "execution_count": 117,
   "metadata": {},
   "outputs": [],
   "source": [
    "df_gold_care[\"pro_change\"]=lst_pro_change"
   ]
  },
  {
   "cell_type": "markdown",
   "metadata": {},
   "source": [
    "We fix the 2017-07-06 data. "
   ]
  },
  {
   "cell_type": "code",
   "execution_count": 119,
   "metadata": {},
   "outputs": [
    {
     "data": {
      "text/html": [
       "<div>\n",
       "<style scoped>\n",
       "    .dataframe tbody tr th:only-of-type {\n",
       "        vertical-align: middle;\n",
       "    }\n",
       "\n",
       "    .dataframe tbody tr th {\n",
       "        vertical-align: top;\n",
       "    }\n",
       "\n",
       "    .dataframe thead th {\n",
       "        text-align: right;\n",
       "    }\n",
       "</style>\n",
       "<table border=\"1\" class=\"dataframe\">\n",
       "  <thead>\n",
       "    <tr style=\"text-align: right;\">\n",
       "      <th></th>\n",
       "      <th>Date</th>\n",
       "      <th>Close/Last</th>\n",
       "      <th>Open</th>\n",
       "      <th>High</th>\n",
       "      <th>Low</th>\n",
       "      <th>pro_change</th>\n",
       "    </tr>\n",
       "  </thead>\n",
       "  <tbody>\n",
       "    <tr>\n",
       "      <th>737</th>\n",
       "      <td>2017-07-06</td>\n",
       "      <td>1223.3</td>\n",
       "      <td>1226.5</td>\n",
       "      <td>1229.5</td>\n",
       "      <td>1221.8</td>\n",
       "      <td>6.216897</td>\n",
       "    </tr>\n",
       "  </tbody>\n",
       "</table>\n",
       "</div>"
      ],
      "text/plain": [
       "          Date Close/Last    Open    High     Low  pro_change\n",
       "737 2017-07-06     1223.3  1226.5  1229.5  1221.8    6.216897"
      ]
     },
     "execution_count": 119,
     "metadata": {},
     "output_type": "execute_result"
    }
   ],
   "source": [
    "df_gold_care.loc[df_gold_care[\"Date\"]==\"2017-07-06\"]"
   ]
  },
  {
   "cell_type": "code",
   "execution_count": 137,
   "metadata": {},
   "outputs": [],
   "source": [
    "df_gold_care.at[df_gold_care[df_gold_care[\"Date\"]==\"2017-07-06\"].index[0],\"pro_change\"]=(df_gold_care.loc[df_gold_care[\"Date\"]==\"2017-07-06\"][\"Close/Last\"].values[0]/df_gold_care.loc[df_gold_care[\"Date\"]==\"2017-07-06\"][\"Open\"].values[0]-1)*100"
   ]
  },
  {
   "cell_type": "code",
   "execution_count": 140,
   "metadata": {},
   "outputs": [
    {
     "data": {
      "text/html": [
       "<div>\n",
       "<style scoped>\n",
       "    .dataframe tbody tr th:only-of-type {\n",
       "        vertical-align: middle;\n",
       "    }\n",
       "\n",
       "    .dataframe tbody tr th {\n",
       "        vertical-align: top;\n",
       "    }\n",
       "\n",
       "    .dataframe thead th {\n",
       "        text-align: right;\n",
       "    }\n",
       "</style>\n",
       "<table border=\"1\" class=\"dataframe\">\n",
       "  <thead>\n",
       "    <tr style=\"text-align: right;\">\n",
       "      <th></th>\n",
       "      <th>Date</th>\n",
       "      <th>Close/Last</th>\n",
       "      <th>Open</th>\n",
       "      <th>High</th>\n",
       "      <th>Low</th>\n",
       "      <th>pro_change</th>\n",
       "    </tr>\n",
       "  </thead>\n",
       "  <tbody>\n",
       "    <tr>\n",
       "      <th>737</th>\n",
       "      <td>2017-07-06</td>\n",
       "      <td>1223.3</td>\n",
       "      <td>1226.5</td>\n",
       "      <td>1229.5</td>\n",
       "      <td>1221.8</td>\n",
       "      <td>-0.260905</td>\n",
       "    </tr>\n",
       "  </tbody>\n",
       "</table>\n",
       "</div>"
      ],
      "text/plain": [
       "          Date Close/Last    Open    High     Low  pro_change\n",
       "737 2017-07-06     1223.3  1226.5  1229.5  1221.8   -0.260905"
      ]
     },
     "execution_count": 140,
     "metadata": {},
     "output_type": "execute_result"
    }
   ],
   "source": [
    "df_gold_care.loc[df_gold_care[\"Date\"]==\"2017-07-06\"]"
   ]
  },
  {
   "cell_type": "code",
   "execution_count": 141,
   "metadata": {},
   "outputs": [],
   "source": [
    "df_gold_care.to_csv(\"../../processed/gold_daily_we_care.csv\")"
   ]
  },
  {
   "cell_type": "code",
   "execution_count": 143,
   "metadata": {},
   "outputs": [
    {
     "data": {
      "image/png": "[encoded data removed]",
      "text/plain": [
       "<Figure size 1200x600 with 2 Axes>"
      ]
     },
     "metadata": {},
     "output_type": "display_data"
    }
   ],
   "source": [
    "fig,ax=plt.subplots(nrows=1, ncols=2, figsize=(12,6))\n",
    "\n",
    "sns.scatterplot(data=df_his_index, x=\"Date\", y=\"pro_change_close_wi\", label=\"tech index pro change\", ax=ax[0])\n",
    "sns.scatterplot(data=df_gold_care, x=\"Date\", y=\"pro_change\",label=\"gold pro change\", ax=ax[1])\n",
    "\n",
    "# ax[1].set_ylim(-25,25)\n",
    "\n",
    "plt.show()"
   ]
  }
 ],
 "metadata": {
  "kernelspec": {
   "display_name": "ds_bc_3_12_8_2025",
   "language": "python",
   "name": "python3"
  },
  "language_info": {
   "codemirror_mode": {
    "name": "ipython",
    "version": 3
   },
   "file_extension": ".py",
   "mimetype": "text/x-python",
   "name": "python",
   "nbconvert_exporter": "python",
   "pygments_lexer": "ipython3",
   "version": "3.12.8"
  }
 },
 "nbformat": 4,
 "nbformat_minor": 2
}
