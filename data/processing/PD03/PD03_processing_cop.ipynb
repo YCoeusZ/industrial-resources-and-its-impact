{
 "cells": [
  {
   "cell_type": "code",
   "execution_count": 1,
   "metadata": {},
   "outputs": [],
   "source": [
    "import pandas as pd"
   ]
  },
  {
   "cell_type": "code",
   "execution_count": 2,
   "metadata": {},
   "outputs": [],
   "source": [
    "import numpy as np"
   ]
  },
  {
   "cell_type": "code",
   "execution_count": 34,
   "metadata": {},
   "outputs": [],
   "source": [
    "import matplotlib.pyplot as plt\n",
    "import seaborn as sns"
   ]
  },
  {
   "cell_type": "code",
   "execution_count": 3,
   "metadata": {},
   "outputs": [],
   "source": [
    "df_his_index=pd.read_csv(\"../../processed/his_index_tech_500_stable_14_24.csv\")"
   ]
  },
  {
   "cell_type": "code",
   "execution_count": 4,
   "metadata": {},
   "outputs": [
    {
     "data": {
      "text/html": [
       "<div>\n",
       "<style scoped>\n",
       "    .dataframe tbody tr th:only-of-type {\n",
       "        vertical-align: middle;\n",
       "    }\n",
       "\n",
       "    .dataframe tbody tr th {\n",
       "        vertical-align: top;\n",
       "    }\n",
       "\n",
       "    .dataframe thead th {\n",
       "        text-align: right;\n",
       "    }\n",
       "</style>\n",
       "<table border=\"1\" class=\"dataframe\">\n",
       "  <thead>\n",
       "    <tr style=\"text-align: right;\">\n",
       "      <th></th>\n",
       "      <th>Date</th>\n",
       "      <th>tech_weight</th>\n",
       "      <th>Open</th>\n",
       "      <th>High</th>\n",
       "      <th>Low</th>\n",
       "      <th>Close</th>\n",
       "      <th>Open_wi</th>\n",
       "      <th>High_wi</th>\n",
       "      <th>Low_wi</th>\n",
       "      <th>Close_wi</th>\n",
       "      <th>Timedelta_days</th>\n",
       "      <th>pro_change_close_wi</th>\n",
       "    </tr>\n",
       "  </thead>\n",
       "  <tbody>\n",
       "    <tr>\n",
       "      <th>0</th>\n",
       "      <td>2014-01-02</td>\n",
       "      <td>18.666742</td>\n",
       "      <td>1845.86</td>\n",
       "      <td>1845.86</td>\n",
       "      <td>1827.74</td>\n",
       "      <td>1831.98</td>\n",
       "      <td>344.561924</td>\n",
       "      <td>344.561924</td>\n",
       "      <td>341.179510</td>\n",
       "      <td>341.970980</td>\n",
       "      <td>0</td>\n",
       "      <td>-0.751953</td>\n",
       "    </tr>\n",
       "    <tr>\n",
       "      <th>1</th>\n",
       "      <td>2014-01-03</td>\n",
       "      <td>18.575319</td>\n",
       "      <td>1833.21</td>\n",
       "      <td>1838.24</td>\n",
       "      <td>1829.13</td>\n",
       "      <td>1831.37</td>\n",
       "      <td>340.524605</td>\n",
       "      <td>341.458944</td>\n",
       "      <td>339.766732</td>\n",
       "      <td>340.182820</td>\n",
       "      <td>1</td>\n",
       "      <td>-0.522898</td>\n",
       "    </tr>\n",
       "    <tr>\n",
       "      <th>2</th>\n",
       "      <td>2014-01-06</td>\n",
       "      <td>18.617887</td>\n",
       "      <td>1832.31</td>\n",
       "      <td>1837.16</td>\n",
       "      <td>1823.73</td>\n",
       "      <td>1826.77</td>\n",
       "      <td>341.137405</td>\n",
       "      <td>342.040373</td>\n",
       "      <td>339.539991</td>\n",
       "      <td>340.105974</td>\n",
       "      <td>3</td>\n",
       "      <td>-0.022589</td>\n",
       "    </tr>\n",
       "    <tr>\n",
       "      <th>3</th>\n",
       "      <td>2014-01-07</td>\n",
       "      <td>18.672965</td>\n",
       "      <td>1828.71</td>\n",
       "      <td>1840.10</td>\n",
       "      <td>1828.71</td>\n",
       "      <td>1837.88</td>\n",
       "      <td>341.474378</td>\n",
       "      <td>343.601229</td>\n",
       "      <td>341.474378</td>\n",
       "      <td>343.186689</td>\n",
       "      <td>1</td>\n",
       "      <td>0.905810</td>\n",
       "    </tr>\n",
       "    <tr>\n",
       "      <th>4</th>\n",
       "      <td>2014-01-08</td>\n",
       "      <td>18.639790</td>\n",
       "      <td>1837.90</td>\n",
       "      <td>1840.02</td>\n",
       "      <td>1831.40</td>\n",
       "      <td>1837.49</td>\n",
       "      <td>342.580700</td>\n",
       "      <td>342.975864</td>\n",
       "      <td>341.369114</td>\n",
       "      <td>342.504277</td>\n",
       "      <td>1</td>\n",
       "      <td>-0.198846</td>\n",
       "    </tr>\n",
       "    <tr>\n",
       "      <th>...</th>\n",
       "      <td>...</td>\n",
       "      <td>...</td>\n",
       "      <td>...</td>\n",
       "      <td>...</td>\n",
       "      <td>...</td>\n",
       "      <td>...</td>\n",
       "      <td>...</td>\n",
       "      <td>...</td>\n",
       "      <td>...</td>\n",
       "      <td>...</td>\n",
       "      <td>...</td>\n",
       "      <td>...</td>\n",
       "    </tr>\n",
       "    <tr>\n",
       "      <th>2563</th>\n",
       "      <td>2024-10-24</td>\n",
       "      <td>37.089590</td>\n",
       "      <td>5817.80</td>\n",
       "      <td>5817.80</td>\n",
       "      <td>5784.92</td>\n",
       "      <td>5809.86</td>\n",
       "      <td>2157.798167</td>\n",
       "      <td>2157.798167</td>\n",
       "      <td>2145.603110</td>\n",
       "      <td>2154.853254</td>\n",
       "      <td>1</td>\n",
       "      <td>0.014143</td>\n",
       "    </tr>\n",
       "    <tr>\n",
       "      <th>2564</th>\n",
       "      <td>2024-10-25</td>\n",
       "      <td>37.319370</td>\n",
       "      <td>5826.75</td>\n",
       "      <td>5862.82</td>\n",
       "      <td>5799.98</td>\n",
       "      <td>5808.12</td>\n",
       "      <td>2174.506391</td>\n",
       "      <td>2187.967488</td>\n",
       "      <td>2164.515996</td>\n",
       "      <td>2167.553793</td>\n",
       "      <td>1</td>\n",
       "      <td>0.589392</td>\n",
       "    </tr>\n",
       "    <tr>\n",
       "      <th>2565</th>\n",
       "      <td>2024-10-28</td>\n",
       "      <td>37.250240</td>\n",
       "      <td>5833.93</td>\n",
       "      <td>5842.92</td>\n",
       "      <td>5823.08</td>\n",
       "      <td>5823.52</td>\n",
       "      <td>2173.152926</td>\n",
       "      <td>2176.501723</td>\n",
       "      <td>2169.111275</td>\n",
       "      <td>2169.275176</td>\n",
       "      <td>3</td>\n",
       "      <td>0.079416</td>\n",
       "    </tr>\n",
       "    <tr>\n",
       "      <th>2566</th>\n",
       "      <td>2024-10-29</td>\n",
       "      <td>37.562030</td>\n",
       "      <td>5819.68</td>\n",
       "      <td>5847.19</td>\n",
       "      <td>5802.17</td>\n",
       "      <td>5832.92</td>\n",
       "      <td>2185.989948</td>\n",
       "      <td>2196.323262</td>\n",
       "      <td>2179.412836</td>\n",
       "      <td>2190.963160</td>\n",
       "      <td>1</td>\n",
       "      <td>0.999780</td>\n",
       "    </tr>\n",
       "    <tr>\n",
       "      <th>2567</th>\n",
       "      <td>2024-10-30</td>\n",
       "      <td>37.506520</td>\n",
       "      <td>5832.65</td>\n",
       "      <td>5850.94</td>\n",
       "      <td>5811.28</td>\n",
       "      <td>5813.67</td>\n",
       "      <td>2187.624039</td>\n",
       "      <td>2194.483981</td>\n",
       "      <td>2179.608895</td>\n",
       "      <td>2180.505301</td>\n",
       "      <td>1</td>\n",
       "      <td>-0.477318</td>\n",
       "    </tr>\n",
       "  </tbody>\n",
       "</table>\n",
       "<p>2568 rows × 12 columns</p>\n",
       "</div>"
      ],
      "text/plain": [
       "            Date  tech_weight     Open     High      Low    Close  \\\n",
       "0     2014-01-02    18.666742  1845.86  1845.86  1827.74  1831.98   \n",
       "1     2014-01-03    18.575319  1833.21  1838.24  1829.13  1831.37   \n",
       "2     2014-01-06    18.617887  1832.31  1837.16  1823.73  1826.77   \n",
       "3     2014-01-07    18.672965  1828.71  1840.10  1828.71  1837.88   \n",
       "4     2014-01-08    18.639790  1837.90  1840.02  1831.40  1837.49   \n",
       "...          ...          ...      ...      ...      ...      ...   \n",
       "2563  2024-10-24    37.089590  5817.80  5817.80  5784.92  5809.86   \n",
       "2564  2024-10-25    37.319370  5826.75  5862.82  5799.98  5808.12   \n",
       "2565  2024-10-28    37.250240  5833.93  5842.92  5823.08  5823.52   \n",
       "2566  2024-10-29    37.562030  5819.68  5847.19  5802.17  5832.92   \n",
       "2567  2024-10-30    37.506520  5832.65  5850.94  5811.28  5813.67   \n",
       "\n",
       "          Open_wi      High_wi       Low_wi     Close_wi  Timedelta_days  \\\n",
       "0      344.561924   344.561924   341.179510   341.970980               0   \n",
       "1      340.524605   341.458944   339.766732   340.182820               1   \n",
       "2      341.137405   342.040373   339.539991   340.105974               3   \n",
       "3      341.474378   343.601229   341.474378   343.186689               1   \n",
       "4      342.580700   342.975864   341.369114   342.504277               1   \n",
       "...           ...          ...          ...          ...             ...   \n",
       "2563  2157.798167  2157.798167  2145.603110  2154.853254               1   \n",
       "2564  2174.506391  2187.967488  2164.515996  2167.553793               1   \n",
       "2565  2173.152926  2176.501723  2169.111275  2169.275176               3   \n",
       "2566  2185.989948  2196.323262  2179.412836  2190.963160               1   \n",
       "2567  2187.624039  2194.483981  2179.608895  2180.505301               1   \n",
       "\n",
       "      pro_change_close_wi  \n",
       "0               -0.751953  \n",
       "1               -0.522898  \n",
       "2               -0.022589  \n",
       "3                0.905810  \n",
       "4               -0.198846  \n",
       "...                   ...  \n",
       "2563             0.014143  \n",
       "2564             0.589392  \n",
       "2565             0.079416  \n",
       "2566             0.999780  \n",
       "2567            -0.477318  \n",
       "\n",
       "[2568 rows x 12 columns]"
      ]
     },
     "execution_count": 4,
     "metadata": {},
     "output_type": "execute_result"
    }
   ],
   "source": [
    "df_his_index"
   ]
  },
  {
   "cell_type": "code",
   "execution_count": 5,
   "metadata": {},
   "outputs": [],
   "source": [
    "lst_date_we_care=df_his_index[\"Date\"].to_list()"
   ]
  },
  {
   "cell_type": "code",
   "execution_count": 6,
   "metadata": {},
   "outputs": [],
   "source": [
    "df_cop=pd.read_csv(\"../../raw/macro_daily/copper-prices-historical-chart-data.csv\")"
   ]
  },
  {
   "cell_type": "code",
   "execution_count": 7,
   "metadata": {},
   "outputs": [
    {
     "data": {
      "text/html": [
       "<div>\n",
       "<style scoped>\n",
       "    .dataframe tbody tr th:only-of-type {\n",
       "        vertical-align: middle;\n",
       "    }\n",
       "\n",
       "    .dataframe tbody tr th {\n",
       "        vertical-align: top;\n",
       "    }\n",
       "\n",
       "    .dataframe thead th {\n",
       "        text-align: right;\n",
       "    }\n",
       "</style>\n",
       "<table border=\"1\" class=\"dataframe\">\n",
       "  <thead>\n",
       "    <tr style=\"text-align: right;\">\n",
       "      <th></th>\n",
       "      <th>date</th>\n",
       "      <th>value</th>\n",
       "    </tr>\n",
       "  </thead>\n",
       "  <tbody>\n",
       "    <tr>\n",
       "      <th>0</th>\n",
       "      <td>1959-07-02</td>\n",
       "      <td>0.2930</td>\n",
       "    </tr>\n",
       "    <tr>\n",
       "      <th>1</th>\n",
       "      <td>1959-07-06</td>\n",
       "      <td>0.2910</td>\n",
       "    </tr>\n",
       "    <tr>\n",
       "      <th>2</th>\n",
       "      <td>1959-07-07</td>\n",
       "      <td>0.2820</td>\n",
       "    </tr>\n",
       "    <tr>\n",
       "      <th>3</th>\n",
       "      <td>1959-07-08</td>\n",
       "      <td>0.2846</td>\n",
       "    </tr>\n",
       "    <tr>\n",
       "      <th>4</th>\n",
       "      <td>1959-07-09</td>\n",
       "      <td>0.2760</td>\n",
       "    </tr>\n",
       "    <tr>\n",
       "      <th>...</th>\n",
       "      <td>...</td>\n",
       "      <td>...</td>\n",
       "    </tr>\n",
       "    <tr>\n",
       "      <th>16494</th>\n",
       "      <td>2025-04-03</td>\n",
       "      <td>NaN</td>\n",
       "    </tr>\n",
       "    <tr>\n",
       "      <th>16495</th>\n",
       "      <td>2025-04-04</td>\n",
       "      <td>NaN</td>\n",
       "    </tr>\n",
       "    <tr>\n",
       "      <th>16496</th>\n",
       "      <td>2025-04-05</td>\n",
       "      <td>NaN</td>\n",
       "    </tr>\n",
       "    <tr>\n",
       "      <th>16497</th>\n",
       "      <td>2025-04-06</td>\n",
       "      <td>NaN</td>\n",
       "    </tr>\n",
       "    <tr>\n",
       "      <th>16498</th>\n",
       "      <td>2025-04-07</td>\n",
       "      <td>NaN</td>\n",
       "    </tr>\n",
       "  </tbody>\n",
       "</table>\n",
       "<p>16499 rows × 2 columns</p>\n",
       "</div>"
      ],
      "text/plain": [
       "             date   value\n",
       "0      1959-07-02  0.2930\n",
       "1      1959-07-06  0.2910\n",
       "2      1959-07-07  0.2820\n",
       "3      1959-07-08  0.2846\n",
       "4      1959-07-09  0.2760\n",
       "...           ...     ...\n",
       "16494  2025-04-03     NaN\n",
       "16495  2025-04-04     NaN\n",
       "16496  2025-04-05     NaN\n",
       "16497  2025-04-06     NaN\n",
       "16498  2025-04-07     NaN\n",
       "\n",
       "[16499 rows x 2 columns]"
      ]
     },
     "execution_count": 7,
     "metadata": {},
     "output_type": "execute_result"
    }
   ],
   "source": [
    "df_cop"
   ]
  },
  {
   "cell_type": "code",
   "execution_count": 8,
   "metadata": {},
   "outputs": [],
   "source": [
    "df_cop_care=df_cop[df_cop[\"date\"].isin(lst_date_we_care)]"
   ]
  },
  {
   "cell_type": "code",
   "execution_count": 9,
   "metadata": {},
   "outputs": [
    {
     "data": {
      "text/html": [
       "<div>\n",
       "<style scoped>\n",
       "    .dataframe tbody tr th:only-of-type {\n",
       "        vertical-align: middle;\n",
       "    }\n",
       "\n",
       "    .dataframe tbody tr th {\n",
       "        vertical-align: top;\n",
       "    }\n",
       "\n",
       "    .dataframe thead th {\n",
       "        text-align: right;\n",
       "    }\n",
       "</style>\n",
       "<table border=\"1\" class=\"dataframe\">\n",
       "  <thead>\n",
       "    <tr style=\"text-align: right;\">\n",
       "      <th></th>\n",
       "      <th>date</th>\n",
       "      <th>value</th>\n",
       "    </tr>\n",
       "  </thead>\n",
       "  <tbody>\n",
       "    <tr>\n",
       "      <th>13631</th>\n",
       "      <td>2014-01-02</td>\n",
       "      <td>3.3815</td>\n",
       "    </tr>\n",
       "    <tr>\n",
       "      <th>13632</th>\n",
       "      <td>2014-01-03</td>\n",
       "      <td>3.3550</td>\n",
       "    </tr>\n",
       "    <tr>\n",
       "      <th>13633</th>\n",
       "      <td>2014-01-06</td>\n",
       "      <td>3.3595</td>\n",
       "    </tr>\n",
       "    <tr>\n",
       "      <th>13634</th>\n",
       "      <td>2014-01-07</td>\n",
       "      <td>3.3595</td>\n",
       "    </tr>\n",
       "    <tr>\n",
       "      <th>13635</th>\n",
       "      <td>2014-01-08</td>\n",
       "      <td>3.3425</td>\n",
       "    </tr>\n",
       "    <tr>\n",
       "      <th>...</th>\n",
       "      <td>...</td>\n",
       "      <td>...</td>\n",
       "    </tr>\n",
       "    <tr>\n",
       "      <th>16375</th>\n",
       "      <td>2024-10-24</td>\n",
       "      <td>4.3696</td>\n",
       "    </tr>\n",
       "    <tr>\n",
       "      <th>16376</th>\n",
       "      <td>2024-10-25</td>\n",
       "      <td>4.3664</td>\n",
       "    </tr>\n",
       "    <tr>\n",
       "      <th>16377</th>\n",
       "      <td>2024-10-28</td>\n",
       "      <td>4.3664</td>\n",
       "    </tr>\n",
       "    <tr>\n",
       "      <th>16378</th>\n",
       "      <td>2024-10-29</td>\n",
       "      <td>4.3632</td>\n",
       "    </tr>\n",
       "    <tr>\n",
       "      <th>16379</th>\n",
       "      <td>2024-10-30</td>\n",
       "      <td>4.3584</td>\n",
       "    </tr>\n",
       "  </tbody>\n",
       "</table>\n",
       "<p>2563 rows × 2 columns</p>\n",
       "</div>"
      ],
      "text/plain": [
       "             date   value\n",
       "13631  2014-01-02  3.3815\n",
       "13632  2014-01-03  3.3550\n",
       "13633  2014-01-06  3.3595\n",
       "13634  2014-01-07  3.3595\n",
       "13635  2014-01-08  3.3425\n",
       "...           ...     ...\n",
       "16375  2024-10-24  4.3696\n",
       "16376  2024-10-25  4.3664\n",
       "16377  2024-10-28  4.3664\n",
       "16378  2024-10-29  4.3632\n",
       "16379  2024-10-30  4.3584\n",
       "\n",
       "[2563 rows x 2 columns]"
      ]
     },
     "execution_count": 9,
     "metadata": {},
     "output_type": "execute_result"
    }
   ],
   "source": [
    "df_cop_care"
   ]
  },
  {
   "cell_type": "code",
   "execution_count": 10,
   "metadata": {},
   "outputs": [],
   "source": [
    "lst_missing=list(set(lst_date_we_care)-set(df_cop_care[\"date\"].to_list()))"
   ]
  },
  {
   "cell_type": "code",
   "execution_count": 11,
   "metadata": {},
   "outputs": [
    {
     "data": {
      "text/plain": [
       "['2023-11-22', '2014-12-30', '2014-03-05', '2023-11-21', '2015-01-28']"
      ]
     },
     "execution_count": 11,
     "metadata": {},
     "output_type": "execute_result"
    }
   ],
   "source": [
    "lst_missing"
   ]
  },
  {
   "cell_type": "markdown",
   "metadata": {},
   "source": [
    "Above still have a lot of missing data."
   ]
  },
  {
   "cell_type": "code",
   "execution_count": 12,
   "metadata": {},
   "outputs": [],
   "source": [
    "df_cop_data=pd.DataFrame({\"date\": lst_date_we_care})"
   ]
  },
  {
   "cell_type": "code",
   "execution_count": 13,
   "metadata": {},
   "outputs": [],
   "source": [
    "df_cop_data=df_cop_data.join(df_cop_care.set_index(\"date\"), how=\"left\", on=\"date\")"
   ]
  },
  {
   "cell_type": "code",
   "execution_count": 14,
   "metadata": {},
   "outputs": [],
   "source": [
    "df_cop_data[\"date\"]=pd.to_datetime(df_cop_data[\"date\"])"
   ]
  },
  {
   "cell_type": "code",
   "execution_count": 15,
   "metadata": {},
   "outputs": [
    {
     "data": {
      "text/html": [
       "<div>\n",
       "<style scoped>\n",
       "    .dataframe tbody tr th:only-of-type {\n",
       "        vertical-align: middle;\n",
       "    }\n",
       "\n",
       "    .dataframe tbody tr th {\n",
       "        vertical-align: top;\n",
       "    }\n",
       "\n",
       "    .dataframe thead th {\n",
       "        text-align: right;\n",
       "    }\n",
       "</style>\n",
       "<table border=\"1\" class=\"dataframe\">\n",
       "  <thead>\n",
       "    <tr style=\"text-align: right;\">\n",
       "      <th></th>\n",
       "      <th>date</th>\n",
       "      <th>value</th>\n",
       "    </tr>\n",
       "  </thead>\n",
       "  <tbody>\n",
       "    <tr>\n",
       "      <th>0</th>\n",
       "      <td>2014-01-02</td>\n",
       "      <td>3.3815</td>\n",
       "    </tr>\n",
       "    <tr>\n",
       "      <th>1</th>\n",
       "      <td>2014-01-03</td>\n",
       "      <td>3.3550</td>\n",
       "    </tr>\n",
       "    <tr>\n",
       "      <th>2</th>\n",
       "      <td>2014-01-06</td>\n",
       "      <td>3.3595</td>\n",
       "    </tr>\n",
       "    <tr>\n",
       "      <th>3</th>\n",
       "      <td>2014-01-07</td>\n",
       "      <td>3.3595</td>\n",
       "    </tr>\n",
       "    <tr>\n",
       "      <th>4</th>\n",
       "      <td>2014-01-08</td>\n",
       "      <td>3.3425</td>\n",
       "    </tr>\n",
       "    <tr>\n",
       "      <th>...</th>\n",
       "      <td>...</td>\n",
       "      <td>...</td>\n",
       "    </tr>\n",
       "    <tr>\n",
       "      <th>2563</th>\n",
       "      <td>2024-10-24</td>\n",
       "      <td>4.3696</td>\n",
       "    </tr>\n",
       "    <tr>\n",
       "      <th>2564</th>\n",
       "      <td>2024-10-25</td>\n",
       "      <td>4.3664</td>\n",
       "    </tr>\n",
       "    <tr>\n",
       "      <th>2565</th>\n",
       "      <td>2024-10-28</td>\n",
       "      <td>4.3664</td>\n",
       "    </tr>\n",
       "    <tr>\n",
       "      <th>2566</th>\n",
       "      <td>2024-10-29</td>\n",
       "      <td>4.3632</td>\n",
       "    </tr>\n",
       "    <tr>\n",
       "      <th>2567</th>\n",
       "      <td>2024-10-30</td>\n",
       "      <td>4.3584</td>\n",
       "    </tr>\n",
       "  </tbody>\n",
       "</table>\n",
       "<p>2568 rows × 2 columns</p>\n",
       "</div>"
      ],
      "text/plain": [
       "           date   value\n",
       "0    2014-01-02  3.3815\n",
       "1    2014-01-03  3.3550\n",
       "2    2014-01-06  3.3595\n",
       "3    2014-01-07  3.3595\n",
       "4    2014-01-08  3.3425\n",
       "...         ...     ...\n",
       "2563 2024-10-24  4.3696\n",
       "2564 2024-10-25  4.3664\n",
       "2565 2024-10-28  4.3664\n",
       "2566 2024-10-29  4.3632\n",
       "2567 2024-10-30  4.3584\n",
       "\n",
       "[2568 rows x 2 columns]"
      ]
     },
     "execution_count": 15,
     "metadata": {},
     "output_type": "execute_result"
    }
   ],
   "source": [
    "df_cop_data"
   ]
  },
  {
   "cell_type": "code",
   "execution_count": 16,
   "metadata": {},
   "outputs": [
    {
     "data": {
      "text/html": [
       "<div>\n",
       "<style scoped>\n",
       "    .dataframe tbody tr th:only-of-type {\n",
       "        vertical-align: middle;\n",
       "    }\n",
       "\n",
       "    .dataframe tbody tr th {\n",
       "        vertical-align: top;\n",
       "    }\n",
       "\n",
       "    .dataframe thead th {\n",
       "        text-align: right;\n",
       "    }\n",
       "</style>\n",
       "<table border=\"1\" class=\"dataframe\">\n",
       "  <thead>\n",
       "    <tr style=\"text-align: right;\">\n",
       "      <th></th>\n",
       "      <th>date</th>\n",
       "      <th>value</th>\n",
       "    </tr>\n",
       "  </thead>\n",
       "  <tbody>\n",
       "    <tr>\n",
       "      <th>42</th>\n",
       "      <td>2014-03-05</td>\n",
       "      <td>NaN</td>\n",
       "    </tr>\n",
       "    <tr>\n",
       "      <th>249</th>\n",
       "      <td>2014-12-30</td>\n",
       "      <td>NaN</td>\n",
       "    </tr>\n",
       "    <tr>\n",
       "      <th>253</th>\n",
       "      <td>2015-01-28</td>\n",
       "      <td>NaN</td>\n",
       "    </tr>\n",
       "    <tr>\n",
       "      <th>2331</th>\n",
       "      <td>2023-11-21</td>\n",
       "      <td>NaN</td>\n",
       "    </tr>\n",
       "    <tr>\n",
       "      <th>2332</th>\n",
       "      <td>2023-11-22</td>\n",
       "      <td>NaN</td>\n",
       "    </tr>\n",
       "  </tbody>\n",
       "</table>\n",
       "</div>"
      ],
      "text/plain": [
       "           date   value\n",
       "42   2014-03-05     NaN\n",
       "249  2014-12-30     NaN\n",
       "253  2015-01-28     NaN\n",
       "2331 2023-11-21     NaN\n",
       "2332 2023-11-22     NaN"
      ]
     },
     "execution_count": 16,
     "metadata": {},
     "output_type": "execute_result"
    }
   ],
   "source": [
    "df_cop_data[df_cop_data[\" value\"].isnull()]"
   ]
  },
  {
   "cell_type": "code",
   "execution_count": 17,
   "metadata": {},
   "outputs": [],
   "source": [
    "def v_datetime(df_in, str_date_col, str_col): \n",
    "    \"\"\"\n",
    "    Fill in data linearly\n",
    "    \n",
    "    :param df_in: A pandas dataframe. \n",
    "    :param str_date_col: the name of the column in df_in with dates (with type datetime). \n",
    "    :param str_col: the column whose value (floats) one wants to fill in linearly. \n",
    "    :return: the df_in but the null values of str_col are filled in linearly. \n",
    "    \n",
    "    \"\"\"\n",
    "    lst_miss_index=df_in[df_in[str_col].isnull()].index.to_list()\n",
    "    # lst_all_index=df_in.index.to_list()\n",
    "    # lst_no_miss_index=[index for index in lst_all_index if index not in lst_miss_index]\n",
    "    for index in lst_miss_index: \n",
    "        index_before=index\n",
    "        index_after=index\n",
    "        while index_before in lst_miss_index: \n",
    "            index_before-=1\n",
    "        while index_after in lst_miss_index: \n",
    "            index_after+=1\n",
    "        days_between=(df_in.loc[index_after][str_date_col]-df_in.loc[index_before][str_date_col]).days\n",
    "        days_to=(df_in.loc[index][str_date_col]-df_in.loc[index_before][str_date_col]).days\n",
    "        prop=days_to/days_between\n",
    "        value_diff=df_in.loc[index_after][str_col]-df_in.loc[index_before][str_col]\n",
    "        value=value_diff*prop+df_in.loc[index_before][str_col]\n",
    "        df_in.at[index,str_col]=value\n",
    "    return df_in"
   ]
  },
  {
   "cell_type": "markdown",
   "metadata": {},
   "source": [
    "I will place above in proj_mod/fill_in_linearly.py "
   ]
  },
  {
   "cell_type": "code",
   "execution_count": 18,
   "metadata": {},
   "outputs": [
    {
     "data": {
      "text/html": [
       "<div>\n",
       "<style scoped>\n",
       "    .dataframe tbody tr th:only-of-type {\n",
       "        vertical-align: middle;\n",
       "    }\n",
       "\n",
       "    .dataframe tbody tr th {\n",
       "        vertical-align: top;\n",
       "    }\n",
       "\n",
       "    .dataframe thead th {\n",
       "        text-align: right;\n",
       "    }\n",
       "</style>\n",
       "<table border=\"1\" class=\"dataframe\">\n",
       "  <thead>\n",
       "    <tr style=\"text-align: right;\">\n",
       "      <th></th>\n",
       "      <th>date</th>\n",
       "      <th>value</th>\n",
       "    </tr>\n",
       "  </thead>\n",
       "  <tbody>\n",
       "    <tr>\n",
       "      <th>0</th>\n",
       "      <td>2014-01-02</td>\n",
       "      <td>3.3815</td>\n",
       "    </tr>\n",
       "    <tr>\n",
       "      <th>1</th>\n",
       "      <td>2014-01-03</td>\n",
       "      <td>3.3550</td>\n",
       "    </tr>\n",
       "    <tr>\n",
       "      <th>2</th>\n",
       "      <td>2014-01-06</td>\n",
       "      <td>3.3595</td>\n",
       "    </tr>\n",
       "    <tr>\n",
       "      <th>3</th>\n",
       "      <td>2014-01-07</td>\n",
       "      <td>3.3595</td>\n",
       "    </tr>\n",
       "    <tr>\n",
       "      <th>4</th>\n",
       "      <td>2014-01-08</td>\n",
       "      <td>3.3425</td>\n",
       "    </tr>\n",
       "    <tr>\n",
       "      <th>...</th>\n",
       "      <td>...</td>\n",
       "      <td>...</td>\n",
       "    </tr>\n",
       "    <tr>\n",
       "      <th>2563</th>\n",
       "      <td>2024-10-24</td>\n",
       "      <td>4.3696</td>\n",
       "    </tr>\n",
       "    <tr>\n",
       "      <th>2564</th>\n",
       "      <td>2024-10-25</td>\n",
       "      <td>4.3664</td>\n",
       "    </tr>\n",
       "    <tr>\n",
       "      <th>2565</th>\n",
       "      <td>2024-10-28</td>\n",
       "      <td>4.3664</td>\n",
       "    </tr>\n",
       "    <tr>\n",
       "      <th>2566</th>\n",
       "      <td>2024-10-29</td>\n",
       "      <td>4.3632</td>\n",
       "    </tr>\n",
       "    <tr>\n",
       "      <th>2567</th>\n",
       "      <td>2024-10-30</td>\n",
       "      <td>4.3584</td>\n",
       "    </tr>\n",
       "  </tbody>\n",
       "</table>\n",
       "<p>2568 rows × 2 columns</p>\n",
       "</div>"
      ],
      "text/plain": [
       "           date   value\n",
       "0    2014-01-02  3.3815\n",
       "1    2014-01-03  3.3550\n",
       "2    2014-01-06  3.3595\n",
       "3    2014-01-07  3.3595\n",
       "4    2014-01-08  3.3425\n",
       "...         ...     ...\n",
       "2563 2024-10-24  4.3696\n",
       "2564 2024-10-25  4.3664\n",
       "2565 2024-10-28  4.3664\n",
       "2566 2024-10-29  4.3632\n",
       "2567 2024-10-30  4.3584\n",
       "\n",
       "[2568 rows x 2 columns]"
      ]
     },
     "execution_count": 18,
     "metadata": {},
     "output_type": "execute_result"
    }
   ],
   "source": [
    "v_datetime(df_cop_data,\"date\",\" value\")"
   ]
  },
  {
   "cell_type": "code",
   "execution_count": 19,
   "metadata": {},
   "outputs": [
    {
     "name": "stderr",
     "output_type": "stream",
     "text": [
      "/tmp/ipykernel_283932/46395356.py:1: FutureWarning: The behavior of 'isin' with dtype=datetime64[ns] and castable values (e.g. strings) is deprecated. In a future version, these will not be considered matching by isin. Explicitly cast to the appropriate dtype before calling isin instead.\n",
      "  df_cop_data[df_cop_data[\"date\"].isin(lst_missing)]\n"
     ]
    },
    {
     "data": {
      "text/html": [
       "<div>\n",
       "<style scoped>\n",
       "    .dataframe tbody tr th:only-of-type {\n",
       "        vertical-align: middle;\n",
       "    }\n",
       "\n",
       "    .dataframe tbody tr th {\n",
       "        vertical-align: top;\n",
       "    }\n",
       "\n",
       "    .dataframe thead th {\n",
       "        text-align: right;\n",
       "    }\n",
       "</style>\n",
       "<table border=\"1\" class=\"dataframe\">\n",
       "  <thead>\n",
       "    <tr style=\"text-align: right;\">\n",
       "      <th></th>\n",
       "      <th>date</th>\n",
       "      <th>value</th>\n",
       "    </tr>\n",
       "  </thead>\n",
       "  <tbody>\n",
       "    <tr>\n",
       "      <th>42</th>\n",
       "      <td>2014-03-05</td>\n",
       "      <td>3.216250</td>\n",
       "    </tr>\n",
       "    <tr>\n",
       "      <th>249</th>\n",
       "      <td>2014-12-30</td>\n",
       "      <td>2.828650</td>\n",
       "    </tr>\n",
       "    <tr>\n",
       "      <th>253</th>\n",
       "      <td>2015-01-28</td>\n",
       "      <td>2.457000</td>\n",
       "    </tr>\n",
       "    <tr>\n",
       "      <th>2331</th>\n",
       "      <td>2023-11-21</td>\n",
       "      <td>3.804725</td>\n",
       "    </tr>\n",
       "    <tr>\n",
       "      <th>2332</th>\n",
       "      <td>2023-11-22</td>\n",
       "      <td>3.799950</td>\n",
       "    </tr>\n",
       "  </tbody>\n",
       "</table>\n",
       "</div>"
      ],
      "text/plain": [
       "           date     value\n",
       "42   2014-03-05  3.216250\n",
       "249  2014-12-30  2.828650\n",
       "253  2015-01-28  2.457000\n",
       "2331 2023-11-21  3.804725\n",
       "2332 2023-11-22  3.799950"
      ]
     },
     "execution_count": 19,
     "metadata": {},
     "output_type": "execute_result"
    }
   ],
   "source": [
    "df_cop_data[df_cop_data[\"date\"].isin(lst_missing)]"
   ]
  },
  {
   "cell_type": "code",
   "execution_count": 20,
   "metadata": {},
   "outputs": [
    {
     "data": {
      "text/html": [
       "<div>\n",
       "<style scoped>\n",
       "    .dataframe tbody tr th:only-of-type {\n",
       "        vertical-align: middle;\n",
       "    }\n",
       "\n",
       "    .dataframe tbody tr th {\n",
       "        vertical-align: top;\n",
       "    }\n",
       "\n",
       "    .dataframe thead th {\n",
       "        text-align: right;\n",
       "    }\n",
       "</style>\n",
       "<table border=\"1\" class=\"dataframe\">\n",
       "  <thead>\n",
       "    <tr style=\"text-align: right;\">\n",
       "      <th></th>\n",
       "      <th>date</th>\n",
       "      <th>value</th>\n",
       "    </tr>\n",
       "  </thead>\n",
       "  <tbody>\n",
       "    <tr>\n",
       "      <th>13630</th>\n",
       "      <td>2013-12-31</td>\n",
       "      <td>3.4055</td>\n",
       "    </tr>\n",
       "  </tbody>\n",
       "</table>\n",
       "</div>"
      ],
      "text/plain": [
       "             date   value\n",
       "13630  2013-12-31  3.4055"
      ]
     },
     "execution_count": 20,
     "metadata": {},
     "output_type": "execute_result"
    }
   ],
   "source": [
    "df_cop[(df_cop[\"date\"]==\"2013-12-31\")|(df_cop[\"date\"]==\"2014-01-01\")]"
   ]
  },
  {
   "cell_type": "code",
   "execution_count": 21,
   "metadata": {},
   "outputs": [
    {
     "data": {
      "text/plain": [
       "3.4055"
      ]
     },
     "execution_count": 21,
     "metadata": {},
     "output_type": "execute_result"
    }
   ],
   "source": [
    "df_cop.loc[13630][\" value\"]"
   ]
  },
  {
   "cell_type": "code",
   "execution_count": 22,
   "metadata": {},
   "outputs": [
    {
     "data": {
      "text/plain": [
       "3.3815"
      ]
     },
     "execution_count": 22,
     "metadata": {},
     "output_type": "execute_result"
    }
   ],
   "source": [
    "df_cop.loc[13631][\" value\"]"
   ]
  },
  {
   "cell_type": "code",
   "execution_count": 23,
   "metadata": {},
   "outputs": [],
   "source": [
    "lst_pro_change=[(np.sqrt(df_cop.loc[13631][\" value\"]/df_cop.loc[13630][\" value\"])-1)*100]"
   ]
  },
  {
   "cell_type": "code",
   "execution_count": 24,
   "metadata": {},
   "outputs": [
    {
     "data": {
      "text/plain": [
       "[-0.35299418877962063]"
      ]
     },
     "execution_count": 24,
     "metadata": {},
     "output_type": "execute_result"
    }
   ],
   "source": [
    "lst_pro_change"
   ]
  },
  {
   "cell_type": "code",
   "execution_count": 25,
   "metadata": {},
   "outputs": [],
   "source": [
    "for index in range(1,2568): \n",
    "    lst_pro_change.append((df_cop_data.loc[index][\" value\"]/df_cop_data.loc[index-1][\" value\"]-1)*100)"
   ]
  },
  {
   "cell_type": "code",
   "execution_count": 26,
   "metadata": {},
   "outputs": [],
   "source": [
    "df_cop_data[\"pro_change\"]=lst_pro_change"
   ]
  },
  {
   "cell_type": "code",
   "execution_count": 27,
   "metadata": {},
   "outputs": [
    {
     "data": {
      "text/html": [
       "<div>\n",
       "<style scoped>\n",
       "    .dataframe tbody tr th:only-of-type {\n",
       "        vertical-align: middle;\n",
       "    }\n",
       "\n",
       "    .dataframe tbody tr th {\n",
       "        vertical-align: top;\n",
       "    }\n",
       "\n",
       "    .dataframe thead th {\n",
       "        text-align: right;\n",
       "    }\n",
       "</style>\n",
       "<table border=\"1\" class=\"dataframe\">\n",
       "  <thead>\n",
       "    <tr style=\"text-align: right;\">\n",
       "      <th></th>\n",
       "      <th>date</th>\n",
       "      <th>value</th>\n",
       "      <th>pro_change</th>\n",
       "    </tr>\n",
       "  </thead>\n",
       "  <tbody>\n",
       "    <tr>\n",
       "      <th>0</th>\n",
       "      <td>2014-01-02</td>\n",
       "      <td>3.3815</td>\n",
       "      <td>-0.352994</td>\n",
       "    </tr>\n",
       "    <tr>\n",
       "      <th>1</th>\n",
       "      <td>2014-01-03</td>\n",
       "      <td>3.3550</td>\n",
       "      <td>-0.783676</td>\n",
       "    </tr>\n",
       "    <tr>\n",
       "      <th>2</th>\n",
       "      <td>2014-01-06</td>\n",
       "      <td>3.3595</td>\n",
       "      <td>0.134128</td>\n",
       "    </tr>\n",
       "    <tr>\n",
       "      <th>3</th>\n",
       "      <td>2014-01-07</td>\n",
       "      <td>3.3595</td>\n",
       "      <td>0.000000</td>\n",
       "    </tr>\n",
       "    <tr>\n",
       "      <th>4</th>\n",
       "      <td>2014-01-08</td>\n",
       "      <td>3.3425</td>\n",
       "      <td>-0.506028</td>\n",
       "    </tr>\n",
       "    <tr>\n",
       "      <th>...</th>\n",
       "      <td>...</td>\n",
       "      <td>...</td>\n",
       "      <td>...</td>\n",
       "    </tr>\n",
       "    <tr>\n",
       "      <th>2563</th>\n",
       "      <td>2024-10-24</td>\n",
       "      <td>4.3696</td>\n",
       "      <td>0.886590</td>\n",
       "    </tr>\n",
       "    <tr>\n",
       "      <th>2564</th>\n",
       "      <td>2024-10-25</td>\n",
       "      <td>4.3664</td>\n",
       "      <td>-0.073233</td>\n",
       "    </tr>\n",
       "    <tr>\n",
       "      <th>2565</th>\n",
       "      <td>2024-10-28</td>\n",
       "      <td>4.3664</td>\n",
       "      <td>0.000000</td>\n",
       "    </tr>\n",
       "    <tr>\n",
       "      <th>2566</th>\n",
       "      <td>2024-10-29</td>\n",
       "      <td>4.3632</td>\n",
       "      <td>-0.073287</td>\n",
       "    </tr>\n",
       "    <tr>\n",
       "      <th>2567</th>\n",
       "      <td>2024-10-30</td>\n",
       "      <td>4.3584</td>\n",
       "      <td>-0.110011</td>\n",
       "    </tr>\n",
       "  </tbody>\n",
       "</table>\n",
       "<p>2568 rows × 3 columns</p>\n",
       "</div>"
      ],
      "text/plain": [
       "           date   value  pro_change\n",
       "0    2014-01-02  3.3815   -0.352994\n",
       "1    2014-01-03  3.3550   -0.783676\n",
       "2    2014-01-06  3.3595    0.134128\n",
       "3    2014-01-07  3.3595    0.000000\n",
       "4    2014-01-08  3.3425   -0.506028\n",
       "...         ...     ...         ...\n",
       "2563 2024-10-24  4.3696    0.886590\n",
       "2564 2024-10-25  4.3664   -0.073233\n",
       "2565 2024-10-28  4.3664    0.000000\n",
       "2566 2024-10-29  4.3632   -0.073287\n",
       "2567 2024-10-30  4.3584   -0.110011\n",
       "\n",
       "[2568 rows x 3 columns]"
      ]
     },
     "execution_count": 27,
     "metadata": {},
     "output_type": "execute_result"
    }
   ],
   "source": [
    "df_cop_data"
   ]
  },
  {
   "cell_type": "code",
   "execution_count": 28,
   "metadata": {},
   "outputs": [
    {
     "data": {
      "text/html": [
       "<div>\n",
       "<style scoped>\n",
       "    .dataframe tbody tr th:only-of-type {\n",
       "        vertical-align: middle;\n",
       "    }\n",
       "\n",
       "    .dataframe tbody tr th {\n",
       "        vertical-align: top;\n",
       "    }\n",
       "\n",
       "    .dataframe thead th {\n",
       "        text-align: right;\n",
       "    }\n",
       "</style>\n",
       "<table border=\"1\" class=\"dataframe\">\n",
       "  <thead>\n",
       "    <tr style=\"text-align: right;\">\n",
       "      <th></th>\n",
       "      <th>date</th>\n",
       "      <th>value</th>\n",
       "      <th>pro_change</th>\n",
       "    </tr>\n",
       "  </thead>\n",
       "  <tbody>\n",
       "    <tr>\n",
       "      <th>737</th>\n",
       "      <td>2017-07-06</td>\n",
       "      <td>2.6615</td>\n",
       "      <td>6.294181</td>\n",
       "    </tr>\n",
       "  </tbody>\n",
       "</table>\n",
       "</div>"
      ],
      "text/plain": [
       "          date   value  pro_change\n",
       "737 2017-07-06  2.6615    6.294181"
      ]
     },
     "execution_count": 28,
     "metadata": {},
     "output_type": "execute_result"
    }
   ],
   "source": [
    "df_cop_data[df_cop_data[\"date\"]==\"2017-07-06\"]"
   ]
  },
  {
   "cell_type": "code",
   "execution_count": 29,
   "metadata": {},
   "outputs": [
    {
     "data": {
      "text/html": [
       "<div>\n",
       "<style scoped>\n",
       "    .dataframe tbody tr th:only-of-type {\n",
       "        vertical-align: middle;\n",
       "    }\n",
       "\n",
       "    .dataframe tbody tr th {\n",
       "        vertical-align: top;\n",
       "    }\n",
       "\n",
       "    .dataframe thead th {\n",
       "        text-align: right;\n",
       "    }\n",
       "</style>\n",
       "<table border=\"1\" class=\"dataframe\">\n",
       "  <thead>\n",
       "    <tr style=\"text-align: right;\">\n",
       "      <th></th>\n",
       "      <th>date</th>\n",
       "      <th>value</th>\n",
       "    </tr>\n",
       "  </thead>\n",
       "  <tbody>\n",
       "    <tr>\n",
       "      <th>14510</th>\n",
       "      <td>2017-07-05</td>\n",
       "      <td>2.66</td>\n",
       "    </tr>\n",
       "  </tbody>\n",
       "</table>\n",
       "</div>"
      ],
      "text/plain": [
       "             date   value\n",
       "14510  2017-07-05    2.66"
      ]
     },
     "execution_count": 29,
     "metadata": {},
     "output_type": "execute_result"
    }
   ],
   "source": [
    "df_cop[df_cop[\"date\"]==\"2017-07-05\"]"
   ]
  },
  {
   "cell_type": "code",
   "execution_count": 30,
   "metadata": {},
   "outputs": [],
   "source": [
    "df_cop_data.at[737,\"pro_change\"]=(df_cop_data.loc[737][\" value\"]/df_cop.loc[14510][\" value\"]-1)*100"
   ]
  },
  {
   "cell_type": "code",
   "execution_count": 31,
   "metadata": {},
   "outputs": [
    {
     "data": {
      "text/html": [
       "<div>\n",
       "<style scoped>\n",
       "    .dataframe tbody tr th:only-of-type {\n",
       "        vertical-align: middle;\n",
       "    }\n",
       "\n",
       "    .dataframe tbody tr th {\n",
       "        vertical-align: top;\n",
       "    }\n",
       "\n",
       "    .dataframe thead th {\n",
       "        text-align: right;\n",
       "    }\n",
       "</style>\n",
       "<table border=\"1\" class=\"dataframe\">\n",
       "  <thead>\n",
       "    <tr style=\"text-align: right;\">\n",
       "      <th></th>\n",
       "      <th>date</th>\n",
       "      <th>value</th>\n",
       "      <th>pro_change</th>\n",
       "    </tr>\n",
       "  </thead>\n",
       "  <tbody>\n",
       "    <tr>\n",
       "      <th>737</th>\n",
       "      <td>2017-07-06</td>\n",
       "      <td>2.6615</td>\n",
       "      <td>0.056391</td>\n",
       "    </tr>\n",
       "  </tbody>\n",
       "</table>\n",
       "</div>"
      ],
      "text/plain": [
       "          date   value  pro_change\n",
       "737 2017-07-06  2.6615    0.056391"
      ]
     },
     "execution_count": 31,
     "metadata": {},
     "output_type": "execute_result"
    }
   ],
   "source": [
    "df_cop_data[df_cop_data[\"date\"]==\"2017-07-06\"]"
   ]
  },
  {
   "cell_type": "code",
   "execution_count": 32,
   "metadata": {},
   "outputs": [],
   "source": [
    "df_cop_data.to_csv(\"../../processed/cop_daily_we_care.csv\")"
   ]
  },
  {
   "cell_type": "code",
   "execution_count": 33,
   "metadata": {},
   "outputs": [],
   "source": [
    "df_his_index[\"Date\"]=pd.to_datetime(df_his_index[\"Date\"])"
   ]
  },
  {
   "cell_type": "code",
   "execution_count": 35,
   "metadata": {},
   "outputs": [
    {
     "data": {
      "image/png": "[encoded data removed]",
      "text/plain": [
       "<Figure size 640x480 with 1 Axes>"
      ]
     },
     "metadata": {},
     "output_type": "display_data"
    }
   ],
   "source": [
    "sns.lineplot(data=df_his_index, x=\"Date\", y=\"pro_change_close_wi\", label=\"tech index pro change\")\n",
    "sns.lineplot(data=df_cop_data, x=\"date\", y=\"pro_change\", label=\"copper pro change\")\n",
    "plt.show()"
   ]
  }
 ],
 "metadata": {
  "kernelspec": {
   "display_name": "ds_bc_3_12_8_2025",
   "language": "python",
   "name": "python3"
  },
  "language_info": {
   "codemirror_mode": {
    "name": "ipython",
    "version": 3
   },
   "file_extension": ".py",
   "mimetype": "text/x-python",
   "name": "python",
   "nbconvert_exporter": "python",
   "pygments_lexer": "ipython3",
   "version": "3.12.8"
  }
 },
 "nbformat": 4,
 "nbformat_minor": 2
}
