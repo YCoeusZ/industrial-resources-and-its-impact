{
 "cells": [
  {
   "cell_type": "code",
   "execution_count": 50,
   "metadata": {},
   "outputs": [],
   "source": [
    "import pandas as pd"
   ]
  },
  {
   "cell_type": "code",
   "execution_count": 51,
   "metadata": {},
   "outputs": [],
   "source": [
    "from datetime import datetime, date"
   ]
  },
  {
   "cell_type": "code",
   "execution_count": 52,
   "metadata": {},
   "outputs": [],
   "source": [
    "import matplotlib.pyplot as plt "
   ]
  },
  {
   "cell_type": "code",
   "execution_count": 53,
   "metadata": {},
   "outputs": [],
   "source": [
    "import seaborn as sns"
   ]
  },
  {
   "cell_type": "code",
   "execution_count": 54,
   "metadata": {},
   "outputs": [],
   "source": [
    "df_his_index=pd.read_csv(\"../../processed/his_index_tech_500_stable_14_24.csv\")"
   ]
  },
  {
   "cell_type": "markdown",
   "metadata": {},
   "source": [
    "As a reminder, there is missing data starting 2016-12-31, ending 2017-07-05."
   ]
  },
  {
   "cell_type": "code",
   "execution_count": 3,
   "metadata": {},
   "outputs": [
    {
     "data": {
      "text/html": [
       "<div>\n",
       "<style scoped>\n",
       "    .dataframe tbody tr th:only-of-type {\n",
       "        vertical-align: middle;\n",
       "    }\n",
       "\n",
       "    .dataframe tbody tr th {\n",
       "        vertical-align: top;\n",
       "    }\n",
       "\n",
       "    .dataframe thead th {\n",
       "        text-align: right;\n",
       "    }\n",
       "</style>\n",
       "<table border=\"1\" class=\"dataframe\">\n",
       "  <thead>\n",
       "    <tr style=\"text-align: right;\">\n",
       "      <th></th>\n",
       "      <th>Date</th>\n",
       "      <th>tech_weight</th>\n",
       "      <th>Open</th>\n",
       "      <th>High</th>\n",
       "      <th>Low</th>\n",
       "      <th>Close</th>\n",
       "      <th>Open_wi</th>\n",
       "      <th>High_wi</th>\n",
       "      <th>Low_wi</th>\n",
       "      <th>Close_wi</th>\n",
       "    </tr>\n",
       "  </thead>\n",
       "  <tbody>\n",
       "    <tr>\n",
       "      <th>0</th>\n",
       "      <td>2014-01-02</td>\n",
       "      <td>18.666742</td>\n",
       "      <td>1845.86</td>\n",
       "      <td>1845.86</td>\n",
       "      <td>1827.74</td>\n",
       "      <td>1831.98</td>\n",
       "      <td>344.561924</td>\n",
       "      <td>344.561924</td>\n",
       "      <td>341.179510</td>\n",
       "      <td>341.970980</td>\n",
       "    </tr>\n",
       "    <tr>\n",
       "      <th>1</th>\n",
       "      <td>2014-01-03</td>\n",
       "      <td>18.575319</td>\n",
       "      <td>1833.21</td>\n",
       "      <td>1838.24</td>\n",
       "      <td>1829.13</td>\n",
       "      <td>1831.37</td>\n",
       "      <td>340.524605</td>\n",
       "      <td>341.458944</td>\n",
       "      <td>339.766732</td>\n",
       "      <td>340.182820</td>\n",
       "    </tr>\n",
       "    <tr>\n",
       "      <th>2</th>\n",
       "      <td>2014-01-06</td>\n",
       "      <td>18.617887</td>\n",
       "      <td>1832.31</td>\n",
       "      <td>1837.16</td>\n",
       "      <td>1823.73</td>\n",
       "      <td>1826.77</td>\n",
       "      <td>341.137405</td>\n",
       "      <td>342.040373</td>\n",
       "      <td>339.539991</td>\n",
       "      <td>340.105974</td>\n",
       "    </tr>\n",
       "    <tr>\n",
       "      <th>3</th>\n",
       "      <td>2014-01-07</td>\n",
       "      <td>18.672965</td>\n",
       "      <td>1828.71</td>\n",
       "      <td>1840.10</td>\n",
       "      <td>1828.71</td>\n",
       "      <td>1837.88</td>\n",
       "      <td>341.474378</td>\n",
       "      <td>343.601229</td>\n",
       "      <td>341.474378</td>\n",
       "      <td>343.186689</td>\n",
       "    </tr>\n",
       "    <tr>\n",
       "      <th>4</th>\n",
       "      <td>2014-01-08</td>\n",
       "      <td>18.639790</td>\n",
       "      <td>1837.90</td>\n",
       "      <td>1840.02</td>\n",
       "      <td>1831.40</td>\n",
       "      <td>1837.49</td>\n",
       "      <td>342.580700</td>\n",
       "      <td>342.975864</td>\n",
       "      <td>341.369114</td>\n",
       "      <td>342.504277</td>\n",
       "    </tr>\n",
       "    <tr>\n",
       "      <th>...</th>\n",
       "      <td>...</td>\n",
       "      <td>...</td>\n",
       "      <td>...</td>\n",
       "      <td>...</td>\n",
       "      <td>...</td>\n",
       "      <td>...</td>\n",
       "      <td>...</td>\n",
       "      <td>...</td>\n",
       "      <td>...</td>\n",
       "      <td>...</td>\n",
       "    </tr>\n",
       "    <tr>\n",
       "      <th>2563</th>\n",
       "      <td>2024-10-24</td>\n",
       "      <td>37.089590</td>\n",
       "      <td>5817.80</td>\n",
       "      <td>5817.80</td>\n",
       "      <td>5784.92</td>\n",
       "      <td>5809.86</td>\n",
       "      <td>2157.798167</td>\n",
       "      <td>2157.798167</td>\n",
       "      <td>2145.603110</td>\n",
       "      <td>2154.853254</td>\n",
       "    </tr>\n",
       "    <tr>\n",
       "      <th>2564</th>\n",
       "      <td>2024-10-25</td>\n",
       "      <td>37.319370</td>\n",
       "      <td>5826.75</td>\n",
       "      <td>5862.82</td>\n",
       "      <td>5799.98</td>\n",
       "      <td>5808.12</td>\n",
       "      <td>2174.506391</td>\n",
       "      <td>2187.967488</td>\n",
       "      <td>2164.515996</td>\n",
       "      <td>2167.553793</td>\n",
       "    </tr>\n",
       "    <tr>\n",
       "      <th>2565</th>\n",
       "      <td>2024-10-28</td>\n",
       "      <td>37.250240</td>\n",
       "      <td>5833.93</td>\n",
       "      <td>5842.92</td>\n",
       "      <td>5823.08</td>\n",
       "      <td>5823.52</td>\n",
       "      <td>2173.152926</td>\n",
       "      <td>2176.501723</td>\n",
       "      <td>2169.111275</td>\n",
       "      <td>2169.275176</td>\n",
       "    </tr>\n",
       "    <tr>\n",
       "      <th>2566</th>\n",
       "      <td>2024-10-29</td>\n",
       "      <td>37.562030</td>\n",
       "      <td>5819.68</td>\n",
       "      <td>5847.19</td>\n",
       "      <td>5802.17</td>\n",
       "      <td>5832.92</td>\n",
       "      <td>2185.989948</td>\n",
       "      <td>2196.323262</td>\n",
       "      <td>2179.412836</td>\n",
       "      <td>2190.963160</td>\n",
       "    </tr>\n",
       "    <tr>\n",
       "      <th>2567</th>\n",
       "      <td>2024-10-30</td>\n",
       "      <td>37.506520</td>\n",
       "      <td>5832.65</td>\n",
       "      <td>5850.94</td>\n",
       "      <td>5811.28</td>\n",
       "      <td>5813.67</td>\n",
       "      <td>2187.624039</td>\n",
       "      <td>2194.483981</td>\n",
       "      <td>2179.608895</td>\n",
       "      <td>2180.505301</td>\n",
       "    </tr>\n",
       "  </tbody>\n",
       "</table>\n",
       "<p>2568 rows × 10 columns</p>\n",
       "</div>"
      ],
      "text/plain": [
       "            Date  tech_weight     Open     High      Low    Close  \\\n",
       "0     2014-01-02    18.666742  1845.86  1845.86  1827.74  1831.98   \n",
       "1     2014-01-03    18.575319  1833.21  1838.24  1829.13  1831.37   \n",
       "2     2014-01-06    18.617887  1832.31  1837.16  1823.73  1826.77   \n",
       "3     2014-01-07    18.672965  1828.71  1840.10  1828.71  1837.88   \n",
       "4     2014-01-08    18.639790  1837.90  1840.02  1831.40  1837.49   \n",
       "...          ...          ...      ...      ...      ...      ...   \n",
       "2563  2024-10-24    37.089590  5817.80  5817.80  5784.92  5809.86   \n",
       "2564  2024-10-25    37.319370  5826.75  5862.82  5799.98  5808.12   \n",
       "2565  2024-10-28    37.250240  5833.93  5842.92  5823.08  5823.52   \n",
       "2566  2024-10-29    37.562030  5819.68  5847.19  5802.17  5832.92   \n",
       "2567  2024-10-30    37.506520  5832.65  5850.94  5811.28  5813.67   \n",
       "\n",
       "          Open_wi      High_wi       Low_wi     Close_wi  \n",
       "0      344.561924   344.561924   341.179510   341.970980  \n",
       "1      340.524605   341.458944   339.766732   340.182820  \n",
       "2      341.137405   342.040373   339.539991   340.105974  \n",
       "3      341.474378   343.601229   341.474378   343.186689  \n",
       "4      342.580700   342.975864   341.369114   342.504277  \n",
       "...           ...          ...          ...          ...  \n",
       "2563  2157.798167  2157.798167  2145.603110  2154.853254  \n",
       "2564  2174.506391  2187.967488  2164.515996  2167.553793  \n",
       "2565  2173.152926  2176.501723  2169.111275  2169.275176  \n",
       "2566  2185.989948  2196.323262  2179.412836  2190.963160  \n",
       "2567  2187.624039  2194.483981  2179.608895  2180.505301  \n",
       "\n",
       "[2568 rows x 10 columns]"
      ]
     },
     "execution_count": 3,
     "metadata": {},
     "output_type": "execute_result"
    }
   ],
   "source": [
    "df_his_index"
   ]
  },
  {
   "cell_type": "code",
   "execution_count": 72,
   "metadata": {},
   "outputs": [],
   "source": [
    "df_his_index[\"Date\"]=pd.to_datetime(df_his_index[\"Date\"])"
   ]
  },
  {
   "cell_type": "code",
   "execution_count": 25,
   "metadata": {},
   "outputs": [],
   "source": [
    "lst_time_delta=[0]\n",
    "for index in range(1,2568): \n",
    "    lst_time_delta.append((df_his_index.loc[index][\"Date\"]-df_his_index.loc[index-1][\"Date\"]).days)\n"
   ]
  },
  {
   "cell_type": "code",
   "execution_count": 27,
   "metadata": {},
   "outputs": [],
   "source": [
    "df_his_index[\"Timedelta_days\"]=lst_time_delta"
   ]
  },
  {
   "cell_type": "markdown",
   "metadata": {},
   "source": [
    "There is no value prior to 2014-01-02, we will just approximate the proportional change by close_wi against open_wi. "
   ]
  },
  {
   "cell_type": "code",
   "execution_count": 37,
   "metadata": {},
   "outputs": [],
   "source": [
    "lst_pro_change=[(df_his_index.loc[0][\"Close_wi\"]-df_his_index.loc[0][\"Open_wi\"])*100/df_his_index.loc[0][\"Open_wi\"]]"
   ]
  },
  {
   "cell_type": "code",
   "execution_count": 38,
   "metadata": {},
   "outputs": [],
   "source": [
    "for index in range(1,2568): \n",
    "    lst_pro_change.append((df_his_index.loc[index][\"Close_wi\"]-df_his_index.loc[index-1][\"Close_wi\"])*100/df_his_index.loc[index-1][\"Close_wi\"])"
   ]
  },
  {
   "cell_type": "code",
   "execution_count": 40,
   "metadata": {},
   "outputs": [],
   "source": [
    "df_his_index[\"pro_change_close_wi\"]=lst_pro_change"
   ]
  },
  {
   "cell_type": "code",
   "execution_count": 41,
   "metadata": {},
   "outputs": [
    {
     "data": {
      "text/html": [
       "<div>\n",
       "<style scoped>\n",
       "    .dataframe tbody tr th:only-of-type {\n",
       "        vertical-align: middle;\n",
       "    }\n",
       "\n",
       "    .dataframe tbody tr th {\n",
       "        vertical-align: top;\n",
       "    }\n",
       "\n",
       "    .dataframe thead th {\n",
       "        text-align: right;\n",
       "    }\n",
       "</style>\n",
       "<table border=\"1\" class=\"dataframe\">\n",
       "  <thead>\n",
       "    <tr style=\"text-align: right;\">\n",
       "      <th></th>\n",
       "      <th>Date</th>\n",
       "      <th>tech_weight</th>\n",
       "      <th>Open</th>\n",
       "      <th>High</th>\n",
       "      <th>Low</th>\n",
       "      <th>Close</th>\n",
       "      <th>Open_wi</th>\n",
       "      <th>High_wi</th>\n",
       "      <th>Low_wi</th>\n",
       "      <th>Close_wi</th>\n",
       "      <th>Timedelta_days</th>\n",
       "      <th>pro_change_close_wi</th>\n",
       "    </tr>\n",
       "  </thead>\n",
       "  <tbody>\n",
       "    <tr>\n",
       "      <th>0</th>\n",
       "      <td>2014-01-02</td>\n",
       "      <td>18.666742</td>\n",
       "      <td>1845.86</td>\n",
       "      <td>1845.86</td>\n",
       "      <td>1827.74</td>\n",
       "      <td>1831.98</td>\n",
       "      <td>344.561924</td>\n",
       "      <td>344.561924</td>\n",
       "      <td>341.179510</td>\n",
       "      <td>341.970980</td>\n",
       "      <td>0</td>\n",
       "      <td>-0.751953</td>\n",
       "    </tr>\n",
       "    <tr>\n",
       "      <th>1</th>\n",
       "      <td>2014-01-03</td>\n",
       "      <td>18.575319</td>\n",
       "      <td>1833.21</td>\n",
       "      <td>1838.24</td>\n",
       "      <td>1829.13</td>\n",
       "      <td>1831.37</td>\n",
       "      <td>340.524605</td>\n",
       "      <td>341.458944</td>\n",
       "      <td>339.766732</td>\n",
       "      <td>340.182820</td>\n",
       "      <td>1</td>\n",
       "      <td>-0.522898</td>\n",
       "    </tr>\n",
       "    <tr>\n",
       "      <th>2</th>\n",
       "      <td>2014-01-06</td>\n",
       "      <td>18.617887</td>\n",
       "      <td>1832.31</td>\n",
       "      <td>1837.16</td>\n",
       "      <td>1823.73</td>\n",
       "      <td>1826.77</td>\n",
       "      <td>341.137405</td>\n",
       "      <td>342.040373</td>\n",
       "      <td>339.539991</td>\n",
       "      <td>340.105974</td>\n",
       "      <td>3</td>\n",
       "      <td>-0.022589</td>\n",
       "    </tr>\n",
       "    <tr>\n",
       "      <th>3</th>\n",
       "      <td>2014-01-07</td>\n",
       "      <td>18.672965</td>\n",
       "      <td>1828.71</td>\n",
       "      <td>1840.10</td>\n",
       "      <td>1828.71</td>\n",
       "      <td>1837.88</td>\n",
       "      <td>341.474378</td>\n",
       "      <td>343.601229</td>\n",
       "      <td>341.474378</td>\n",
       "      <td>343.186689</td>\n",
       "      <td>1</td>\n",
       "      <td>0.905810</td>\n",
       "    </tr>\n",
       "    <tr>\n",
       "      <th>4</th>\n",
       "      <td>2014-01-08</td>\n",
       "      <td>18.639790</td>\n",
       "      <td>1837.90</td>\n",
       "      <td>1840.02</td>\n",
       "      <td>1831.40</td>\n",
       "      <td>1837.49</td>\n",
       "      <td>342.580700</td>\n",
       "      <td>342.975864</td>\n",
       "      <td>341.369114</td>\n",
       "      <td>342.504277</td>\n",
       "      <td>1</td>\n",
       "      <td>-0.198846</td>\n",
       "    </tr>\n",
       "    <tr>\n",
       "      <th>...</th>\n",
       "      <td>...</td>\n",
       "      <td>...</td>\n",
       "      <td>...</td>\n",
       "      <td>...</td>\n",
       "      <td>...</td>\n",
       "      <td>...</td>\n",
       "      <td>...</td>\n",
       "      <td>...</td>\n",
       "      <td>...</td>\n",
       "      <td>...</td>\n",
       "      <td>...</td>\n",
       "      <td>...</td>\n",
       "    </tr>\n",
       "    <tr>\n",
       "      <th>2563</th>\n",
       "      <td>2024-10-24</td>\n",
       "      <td>37.089590</td>\n",
       "      <td>5817.80</td>\n",
       "      <td>5817.80</td>\n",
       "      <td>5784.92</td>\n",
       "      <td>5809.86</td>\n",
       "      <td>2157.798167</td>\n",
       "      <td>2157.798167</td>\n",
       "      <td>2145.603110</td>\n",
       "      <td>2154.853254</td>\n",
       "      <td>1</td>\n",
       "      <td>0.014143</td>\n",
       "    </tr>\n",
       "    <tr>\n",
       "      <th>2564</th>\n",
       "      <td>2024-10-25</td>\n",
       "      <td>37.319370</td>\n",
       "      <td>5826.75</td>\n",
       "      <td>5862.82</td>\n",
       "      <td>5799.98</td>\n",
       "      <td>5808.12</td>\n",
       "      <td>2174.506391</td>\n",
       "      <td>2187.967488</td>\n",
       "      <td>2164.515996</td>\n",
       "      <td>2167.553793</td>\n",
       "      <td>1</td>\n",
       "      <td>0.589392</td>\n",
       "    </tr>\n",
       "    <tr>\n",
       "      <th>2565</th>\n",
       "      <td>2024-10-28</td>\n",
       "      <td>37.250240</td>\n",
       "      <td>5833.93</td>\n",
       "      <td>5842.92</td>\n",
       "      <td>5823.08</td>\n",
       "      <td>5823.52</td>\n",
       "      <td>2173.152926</td>\n",
       "      <td>2176.501723</td>\n",
       "      <td>2169.111275</td>\n",
       "      <td>2169.275176</td>\n",
       "      <td>3</td>\n",
       "      <td>0.079416</td>\n",
       "    </tr>\n",
       "    <tr>\n",
       "      <th>2566</th>\n",
       "      <td>2024-10-29</td>\n",
       "      <td>37.562030</td>\n",
       "      <td>5819.68</td>\n",
       "      <td>5847.19</td>\n",
       "      <td>5802.17</td>\n",
       "      <td>5832.92</td>\n",
       "      <td>2185.989948</td>\n",
       "      <td>2196.323262</td>\n",
       "      <td>2179.412836</td>\n",
       "      <td>2190.963160</td>\n",
       "      <td>1</td>\n",
       "      <td>0.999780</td>\n",
       "    </tr>\n",
       "    <tr>\n",
       "      <th>2567</th>\n",
       "      <td>2024-10-30</td>\n",
       "      <td>37.506520</td>\n",
       "      <td>5832.65</td>\n",
       "      <td>5850.94</td>\n",
       "      <td>5811.28</td>\n",
       "      <td>5813.67</td>\n",
       "      <td>2187.624039</td>\n",
       "      <td>2194.483981</td>\n",
       "      <td>2179.608895</td>\n",
       "      <td>2180.505301</td>\n",
       "      <td>1</td>\n",
       "      <td>-0.477318</td>\n",
       "    </tr>\n",
       "  </tbody>\n",
       "</table>\n",
       "<p>2568 rows × 12 columns</p>\n",
       "</div>"
      ],
      "text/plain": [
       "           Date  tech_weight     Open     High      Low    Close      Open_wi  \\\n",
       "0    2014-01-02    18.666742  1845.86  1845.86  1827.74  1831.98   344.561924   \n",
       "1    2014-01-03    18.575319  1833.21  1838.24  1829.13  1831.37   340.524605   \n",
       "2    2014-01-06    18.617887  1832.31  1837.16  1823.73  1826.77   341.137405   \n",
       "3    2014-01-07    18.672965  1828.71  1840.10  1828.71  1837.88   341.474378   \n",
       "4    2014-01-08    18.639790  1837.90  1840.02  1831.40  1837.49   342.580700   \n",
       "...         ...          ...      ...      ...      ...      ...          ...   \n",
       "2563 2024-10-24    37.089590  5817.80  5817.80  5784.92  5809.86  2157.798167   \n",
       "2564 2024-10-25    37.319370  5826.75  5862.82  5799.98  5808.12  2174.506391   \n",
       "2565 2024-10-28    37.250240  5833.93  5842.92  5823.08  5823.52  2173.152926   \n",
       "2566 2024-10-29    37.562030  5819.68  5847.19  5802.17  5832.92  2185.989948   \n",
       "2567 2024-10-30    37.506520  5832.65  5850.94  5811.28  5813.67  2187.624039   \n",
       "\n",
       "          High_wi       Low_wi     Close_wi  Timedelta_days  \\\n",
       "0      344.561924   341.179510   341.970980               0   \n",
       "1      341.458944   339.766732   340.182820               1   \n",
       "2      342.040373   339.539991   340.105974               3   \n",
       "3      343.601229   341.474378   343.186689               1   \n",
       "4      342.975864   341.369114   342.504277               1   \n",
       "...           ...          ...          ...             ...   \n",
       "2563  2157.798167  2145.603110  2154.853254               1   \n",
       "2564  2187.967488  2164.515996  2167.553793               1   \n",
       "2565  2176.501723  2169.111275  2169.275176               3   \n",
       "2566  2196.323262  2179.412836  2190.963160               1   \n",
       "2567  2194.483981  2179.608895  2180.505301               1   \n",
       "\n",
       "      pro_change_close_wi  \n",
       "0               -0.751953  \n",
       "1               -0.522898  \n",
       "2               -0.022589  \n",
       "3                0.905810  \n",
       "4               -0.198846  \n",
       "...                   ...  \n",
       "2563             0.014143  \n",
       "2564             0.589392  \n",
       "2565             0.079416  \n",
       "2566             0.999780  \n",
       "2567            -0.477318  \n",
       "\n",
       "[2568 rows x 12 columns]"
      ]
     },
     "execution_count": 41,
     "metadata": {},
     "output_type": "execute_result"
    }
   ],
   "source": [
    "df_his_index"
   ]
  },
  {
   "cell_type": "markdown",
   "metadata": {},
   "source": [
    "As a reminder, yet again, there is missing data starting 2016-12-31, ending 2017-07-05."
   ]
  },
  {
   "cell_type": "code",
   "execution_count": 46,
   "metadata": {},
   "outputs": [
    {
     "data": {
      "image/png": "[encoded data removed]",
      "text/plain": [
       "<Figure size 640x480 with 1 Axes>"
      ]
     },
     "metadata": {},
     "output_type": "display_data"
    }
   ],
   "source": [
    "sns.lineplot(data=df_his_index, x=\"Date\", y=\"pro_change_close_wi\")\n",
    "plt.ylabel(\"Percentage change of Closing weight\")\n",
    "plt.show()"
   ]
  },
  {
   "cell_type": "code",
   "execution_count": 47,
   "metadata": {},
   "outputs": [
    {
     "data": {
      "image/png": "[encoded data removed]",
      "text/plain": [
       "<Figure size 640x480 with 1 Axes>"
      ]
     },
     "metadata": {},
     "output_type": "display_data"
    }
   ],
   "source": [
    "sns.lineplot(data=df_his_index, x=\"Date\", y=\"Close_wi\")\n",
    "plt.ylabel(\"Close weighted index of tech\")\n",
    "plt.show()"
   ]
  },
  {
   "cell_type": "markdown",
   "metadata": {},
   "source": [
    "Notice that the following line is read after a pd.to_csv and od.read_csv, so the \"Date\" is a string. "
   ]
  },
  {
   "cell_type": "code",
   "execution_count": 57,
   "metadata": {},
   "outputs": [
    {
     "data": {
      "text/html": [
       "<div>\n",
       "<style scoped>\n",
       "    .dataframe tbody tr th:only-of-type {\n",
       "        vertical-align: middle;\n",
       "    }\n",
       "\n",
       "    .dataframe tbody tr th {\n",
       "        vertical-align: top;\n",
       "    }\n",
       "\n",
       "    .dataframe thead th {\n",
       "        text-align: right;\n",
       "    }\n",
       "</style>\n",
       "<table border=\"1\" class=\"dataframe\">\n",
       "  <thead>\n",
       "    <tr style=\"text-align: right;\">\n",
       "      <th></th>\n",
       "      <th>Date</th>\n",
       "      <th>tech_weight</th>\n",
       "      <th>Open</th>\n",
       "      <th>High</th>\n",
       "      <th>Low</th>\n",
       "      <th>Close</th>\n",
       "      <th>Open_wi</th>\n",
       "      <th>High_wi</th>\n",
       "      <th>Low_wi</th>\n",
       "      <th>Close_wi</th>\n",
       "      <th>Timedelta_days</th>\n",
       "      <th>pro_change_close_wi</th>\n",
       "    </tr>\n",
       "  </thead>\n",
       "  <tbody>\n",
       "    <tr>\n",
       "      <th>737</th>\n",
       "      <td>2017-07-06</td>\n",
       "      <td>22.44026</td>\n",
       "      <td>2423.44</td>\n",
       "      <td>2424.28</td>\n",
       "      <td>2407.7</td>\n",
       "      <td>2409.75</td>\n",
       "      <td>543.826237</td>\n",
       "      <td>544.014735</td>\n",
       "      <td>540.29414</td>\n",
       "      <td>540.754165</td>\n",
       "      <td>188</td>\n",
       "      <td>13.923144</td>\n",
       "    </tr>\n",
       "  </tbody>\n",
       "</table>\n",
       "</div>"
      ],
      "text/plain": [
       "           Date  tech_weight     Open     High     Low    Close     Open_wi  \\\n",
       "737  2017-07-06     22.44026  2423.44  2424.28  2407.7  2409.75  543.826237   \n",
       "\n",
       "        High_wi     Low_wi    Close_wi  Timedelta_days  pro_change_close_wi  \n",
       "737  544.014735  540.29414  540.754165             188            13.923144  "
      ]
     },
     "execution_count": 57,
     "metadata": {},
     "output_type": "execute_result"
    }
   ],
   "source": [
    "df_his_index[df_his_index[\"Date\"]==\"2017-07-06\"]"
   ]
  },
  {
   "cell_type": "markdown",
   "metadata": {},
   "source": [
    "Since there is no value on 2017-07-05, we will just approximate the proportional change by close_wi against open_wi. "
   ]
  },
  {
   "cell_type": "code",
   "execution_count": 67,
   "metadata": {},
   "outputs": [],
   "source": [
    "df_his_index.at[737,\"pro_change_close_wi\"]=(df_his_index.loc[737][\"Close_wi\"]-df_his_index.loc[737][\"Open_wi\"])*100/df_his_index.loc[737][\"Open_wi\"]"
   ]
  },
  {
   "cell_type": "code",
   "execution_count": 69,
   "metadata": {},
   "outputs": [
    {
     "data": {
      "text/plain": [
       "-0.5648994817284562"
      ]
     },
     "execution_count": 69,
     "metadata": {},
     "output_type": "execute_result"
    }
   ],
   "source": [
    "df_his_index.loc[737][\"pro_change_close_wi\"]"
   ]
  },
  {
   "cell_type": "code",
   "execution_count": 73,
   "metadata": {},
   "outputs": [
    {
     "data": {
      "image/png": "[encoded data removed]",
      "text/plain": [
       "<Figure size 640x480 with 1 Axes>"
      ]
     },
     "metadata": {},
     "output_type": "display_data"
    }
   ],
   "source": [
    "sns.lineplot(data=df_his_index, x=\"Date\", y=\"pro_change_close_wi\")\n",
    "plt.ylabel(\"Percentage change of Closing weight\")\n",
    "plt.show()"
   ]
  },
  {
   "cell_type": "code",
   "execution_count": 70,
   "metadata": {},
   "outputs": [],
   "source": [
    "df_his_index.to_csv(\"../../processed/his_index_tech_500_stable_14_24.csv\", index=False)"
   ]
  }
 ],
 "metadata": {
  "kernelspec": {
   "display_name": "ds_bc_3_12_8_2025",
   "language": "python",
   "name": "python3"
  },
  "language_info": {
   "codemirror_mode": {
    "name": "ipython",
    "version": 3
   },
   "file_extension": ".py",
   "mimetype": "text/x-python",
   "name": "python",
   "nbconvert_exporter": "python",
   "pygments_lexer": "ipython3",
   "version": "3.12.8"
  }
 },
 "nbformat": 4,
 "nbformat_minor": 2
}
