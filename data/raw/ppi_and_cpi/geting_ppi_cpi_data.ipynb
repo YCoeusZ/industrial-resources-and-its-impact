{
 "cells": [
  {
   "cell_type": "markdown",
   "metadata": {},
   "source": [
    "First, one needs to register at https://www.bls.gov/developers/home.htm (so that you can use the api, see https://www.bls.gov/developers/api_python.htm#python2 for detail on how to use the api). \n",
    "\n",
    "The files ppi_ind_series.txt collects series data for PPI (Producer price index) classified by industry and ppi_com_series.txt collects series data for PPI classified by (output) commodities. \n",
    "\n",
    "We will only care about data with start date earlier than 2010 and end data later than 2024 (this is the range of data we have on stock market). \n",
    "\n",
    "We need to, first, classify the companies of the S and P 500 (see file sp500_companies.csv in SP500v1020.zip) by industry and produced commodities (We will do this in ../stock folder and keep them in ../../processed folder). \n",
    "Then, we need to identify in the corresponding series in ppi_ind_series.txt and ppi_com_series.txt and retrieve them by categories both in industry and output commodities. \n",
    "I thought about using chatgpt doing this, but that requires us to spend money, so I kinda do not wanna. I am planning to do this in accordance to key-words to do this right now, I guess training an AI to do this in accordance to company description can be a future project. There are also the GICS (global industry classification standard, see https://en.wikipedia.org/wiki/Global_Industry_Classification_Standard) that can be found in SP500GICS.csv, and NAICS (north american industry classification system, this is also the way ppi_ind_series.txt and ppi_com_series.txt use) at https://www.census.gov/naics/, which might be the easiest ways we can do this. I prefer to use NAICS, but I am having a difficult time assigning them to the companies (even a mapping between GICS and NAICS would be helpful, any place I looked want to charge us, or require university libray log in). Suggested solution is shown below: \n",
    "\n",
    "    1, To solve above issue, see files company_CIK_SIC.csv that maps CIK (which is provided in SP500GICS) with SIC (standard industrial clasification), and file tabula-NAICS-to-SIC-Crosswalk.csv that maps SIC with NAICS (which is used in ppi_ind_series.txt and ppi_com_series.txt). This method allows us to assign NAICS codes to companies in our stock data and categorize them. \n",
    "\n",
    "We might deal with CPI (consumer price index) similarly in the future, but let's focus on handling PPI for now. As a further comment, CPI basically collect the increase in price consumer pay, and PPI basically collects the increase in price the producers pay (you can see them on wiki, you can also see PPI at https://www.bls.gov/ppi/overview.htm, and CPI at https://www.bls.gov/cpi/overview.htm). \n",
    "\n",
    "In this file, we will import ppi_cpi_get.py and run the functions here, but NO CHANGE TO THE PYTHON CODE SHOULD HAPPEN IN THIS FILE! This is because ipynb files are hell to version control. In short, we ONLY update the python codes in the python file(s) and never in the ipynb files. "
   ]
  }
 ],
 "metadata": {
  "language_info": {
   "name": "python"
  }
 },
 "nbformat": 4,
 "nbformat_minor": 2
}
